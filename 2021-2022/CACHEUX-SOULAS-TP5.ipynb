{
 "cells": [
  {
   "cell_type": "markdown",
   "metadata": {},
   "source": [
    "# TP 5 - Intégration"
   ]
  },
  {
   "cell_type": "markdown",
   "metadata": {},
   "source": [
    "Consignes :\n",
    "\n",
    "- Renommer ce fichier <b>nom1-nom2-TP5</b> , en cliquant sur le titre du fichier \"TP 5 - Intégration\" en haut à gauche\n",
    "- <u>TP à rendre dans le devoir Teams à la fin de la séance</u>. Vous avez jusqu'à lundi 13 décembre à minuit pour rendre une version à jour de votre TP si vous le souhaitez.\n",
    "- TP à faire par groupes de 2. Le groupe de travail sera le même pour toute l'année.\n",
    "\n",
    "\n",
    "  Cliquer deux fois sur la cellule pour completer ci-dessous :\n",
    "\n",
    "- NOM PRENOM : \n",
    "- NOM PRENOM :\n"
   ]
  },
  {
   "cell_type": "markdown",
   "metadata": {},
   "source": [
    "# Intégrales"
   ]
  },
  {
   "cell_type": "markdown",
   "metadata": {},
   "source": [
    "Supposons que l'on souhaite calculer les primitives de :  $$ \\int \\frac{1}{2x+1} \\mathrm{ d}x  $$"
   ]
  },
  {
   "cell_type": "code",
   "execution_count": 1,
   "metadata": {},
   "outputs": [
    {
     "data": {
      "text/plain": [
       "1/2*log(2*x + 1)"
      ]
     },
     "execution_count": 1,
     "metadata": {},
     "output_type": "execute_result"
    }
   ],
   "source": [
    "x = var('x')\n",
    "f = 1/(2*x+1)\n",
    "integral(f,x)"
   ]
  },
  {
   "cell_type": "code",
   "execution_count": 2,
   "metadata": {},
   "outputs": [
    {
     "data": {
      "text/plain": [
       "1/2*log(2*x + 1)"
      ]
     },
     "execution_count": 2,
     "metadata": {},
     "output_type": "execute_result"
    }
   ],
   "source": [
    "integrate(f,x)"
   ]
  },
  {
   "cell_type": "markdown",
   "metadata": {},
   "source": [
    "Remarques : \n",
    "\n",
    "- La machine renvoie une primitive. Pour avoir l'ensemble des primitives, il faut bien entendu ajouter une constante. \n",
    "- La fonction log est la fonction logarithme népérien usuel, habituellement notée ln.\n",
    "- Sage omet les valeurs absolues, ce qui ne l'empêche pas de faire des calculs exacts même pour les valeurs négatives. (Il travaille avec le logarithme complexe)."
   ]
  },
  {
   "cell_type": "markdown",
   "metadata": {},
   "source": [
    "ou évaluer la même intégrale sur un intervalle donné $[0,1]$ :\n"
   ]
  },
  {
   "cell_type": "code",
   "execution_count": 3,
   "metadata": {},
   "outputs": [
    {
     "data": {
      "text/plain": [
       "1/2*log(3)"
      ]
     },
     "execution_count": 3,
     "metadata": {},
     "output_type": "execute_result"
    }
   ],
   "source": [
    "integral(f,x,0,1)"
   ]
  },
  {
   "cell_type": "markdown",
   "metadata": {},
   "source": [
    "ou avoir une approximation de l'intégrale :"
   ]
  },
  {
   "cell_type": "code",
   "execution_count": 4,
   "metadata": {},
   "outputs": [
    {
     "data": {
      "text/plain": [
       "0.549306144334055"
      ]
     },
     "execution_count": 4,
     "metadata": {},
     "output_type": "execute_result"
    }
   ],
   "source": [
    "N(integral(f,x,0,1))"
   ]
  },
  {
   "cell_type": "markdown",
   "metadata": {},
   "source": [
    "# EXERCICE 1"
   ]
  },
  {
   "cell_type": "markdown",
   "metadata": {},
   "source": [
    "Calculer les primitives suivantes :\n",
    "  \\begin{equation*}\n",
    "    a) \\quad \\int x \\cos x^2 \\text{ d} x \\quad\n",
    "    b) \\quad \\int 2 x^4 + \\frac{1}{x^2} + e^x +\\sin x \\text{ d} x \\quad\n",
    "    c) \\quad \\int \\dfrac{3x^4}{x^2-4} \\text{ d} x\n",
    "  \\end{equation*}"
   ]
  },
  {
   "cell_type": "code",
   "execution_count": 5,
   "metadata": {},
   "outputs": [
    {
     "data": {
      "text/html": [
       "<html><script type=\"math/tex; mode=display\">\\newcommand{\\Bold}[1]{\\mathbf{#1}}\\frac{1}{2} \\, \\sin\\left(x^{2}\\right)</script></html>"
      ],
      "text/plain": [
       "1/2*sin(x^2)"
      ]
     },
     "metadata": {},
     "output_type": "display_data"
    }
   ],
   "source": [
    "# A\n",
    "var(\"x\")\n",
    "f = x*cos(x^2)\n",
    "show(integral(f, x))"
   ]
  },
  {
   "cell_type": "code",
   "execution_count": 6,
   "metadata": {},
   "outputs": [
    {
     "data": {
      "text/html": [
       "<html><script type=\"math/tex; mode=display\">\\newcommand{\\Bold}[1]{\\mathbf{#1}}\\frac{2}{5} \\, x^{5} - \\frac{1}{x} - \\cos\\left(x\\right) + e^{x}</script></html>"
      ],
      "text/plain": [
       "2/5*x^5 - 1/x - cos(x) + e^x"
      ]
     },
     "metadata": {},
     "output_type": "display_data"
    }
   ],
   "source": [
    "# B\n",
    "var(\"x\")\n",
    "f = 2*x^4 + 1/x^2 + exp(x) + sin(x)\n",
    "show(integral(f, x))"
   ]
  },
  {
   "cell_type": "code",
   "execution_count": 7,
   "metadata": {},
   "outputs": [
    {
     "data": {
      "text/html": [
       "<html><script type=\"math/tex; mode=display\">\\newcommand{\\Bold}[1]{\\mathbf{#1}}x^{3} + 12 \\, x - 12 \\, \\log\\left(x + 2\\right) + 12 \\, \\log\\left(x - 2\\right)</script></html>"
      ],
      "text/plain": [
       "x^3 + 12*x - 12*log(x + 2) + 12*log(x - 2)"
      ]
     },
     "metadata": {},
     "output_type": "display_data"
    }
   ],
   "source": [
    "# C\n",
    "var(\"x\")\n",
    "f = (3*x^4)/(x^2 - 4)\n",
    "show(integral(f, x))"
   ]
  },
  {
   "cell_type": "markdown",
   "metadata": {},
   "source": [
    "# EXERCICE 2"
   ]
  },
  {
   "cell_type": "markdown",
   "metadata": {},
   "source": [
    "Calculer les intégrales et donner une approximation numérique :\n",
    "\n",
    "$$ a)  \\int_1^4 x^2+\\sqrt{x}+\\frac{1}{x}+\\sqrt[3]{x} \\text{ d} x  \\qquad b) \\ \\ \\int_0^{\\pi/2} \\cos x \\ (1+\\sin x)^4 \\text{ d}x \\quad c) \\ \\ \\int_0^{\\sqrt{3}}  \\frac{3 x^3-2 x^2 -5 x -6}{(x+1)^2(x^2+4)}   \\text{ d} x$$\n"
   ]
  },
  {
   "cell_type": "code",
   "execution_count": 8,
   "metadata": {},
   "outputs": [
    {
     "data": {
      "text/html": [
       "<html><script type=\"math/tex; mode=display\">\\newcommand{\\Bold}[1]{\\mathbf{#1}}3 \\cdot 4^{\\frac{1}{3}} + 2 \\, \\log\\left(2\\right) + \\frac{299}{12}</script></html>"
      ],
      "text/plain": [
       "3*4^(1/3) + 2*log(2) + 299/12"
      ]
     },
     "metadata": {},
     "output_type": "display_data"
    },
    {
     "data": {
      "text/plain": [
       "31.0651641836912"
      ]
     },
     "execution_count": 8,
     "metadata": {},
     "output_type": "execute_result"
    }
   ],
   "source": [
    "var(\"x\")\n",
    "f = x^2 + x^(1/2) + 1/x + x^(1/3)\n",
    "show(integral(f, x, 1, 4))\n",
    "\n",
    "N(integral(f, x, 1, 4)) #N : approximation de l'intégrale"
   ]
  },
  {
   "cell_type": "code",
   "execution_count": 9,
   "metadata": {},
   "outputs": [
    {
     "data": {
      "text/html": [
       "<html><script type=\"math/tex; mode=display\">\\newcommand{\\Bold}[1]{\\mathbf{#1}}\\frac{31}{5}</script></html>"
      ],
      "text/plain": [
       "31/5"
      ]
     },
     "metadata": {},
     "output_type": "display_data"
    },
    {
     "data": {
      "text/plain": [
       "6.20000000000000"
      ]
     },
     "execution_count": 9,
     "metadata": {},
     "output_type": "execute_result"
    }
   ],
   "source": [
    "var(\"x\")\n",
    "f = cos(x)*(1+sin(x))^4\n",
    "show(integral(f, x, 0, pi/2))\n",
    "\n",
    "N(integral(f, x, 0, pi/2)) #N : approximation de l'intégrale"
   ]
  },
  {
   "cell_type": "code",
   "execution_count": 10,
   "metadata": {},
   "outputs": [
    {
     "data": {
      "text/html": [
       "<html><script type=\"math/tex; mode=display\">\\newcommand{\\Bold}[1]{\\mathbf{#1}}-\\frac{71}{50} \\, {\\left(\\sqrt{3} - 1\\right)} \\arctan\\left(\\frac{1}{2} \\, \\sqrt{3}\\right) + \\frac{71}{50} \\, {\\left(\\sqrt{3} - 3\\right)} \\arctan\\left(\\frac{1}{2} \\, \\sqrt{3}\\right) + \\frac{47}{100} \\, {\\left(\\sqrt{3} - 1\\right)} \\log\\left(7\\right) - \\frac{47}{100} \\, {\\left(\\sqrt{3} - 3\\right)} \\log\\left(7\\right) + \\frac{14}{25} \\, {\\left(\\sqrt{3} - 1\\right)} \\log\\left(\\sqrt{3} + 1\\right) - \\frac{14}{25} \\, {\\left(\\sqrt{3} - 3\\right)} \\log\\left(\\sqrt{3} + 1\\right) + \\frac{3}{5} \\, \\sqrt{3} - \\frac{47}{25} \\, \\log\\left(2\\right) - \\frac{9}{5}</script></html>"
      ],
      "text/plain": [
       "-71/50*(sqrt(3) - 1)*arctan(1/2*sqrt(3)) + 71/50*(sqrt(3) - 3)*arctan(1/2*sqrt(3)) + 47/100*(sqrt(3) - 1)*log(7) - 47/100*(sqrt(3) - 3)*log(7) + 14/25*(sqrt(3) - 1)*log(sqrt(3) + 1) - 14/25*(sqrt(3) - 3)*log(sqrt(3) + 1) + 3/5*sqrt(3) - 47/25*log(2) - 9/5"
      ]
     },
     "metadata": {},
     "output_type": "display_data"
    },
    {
     "data": {
      "text/plain": [
       "-1.13604906761104"
      ]
     },
     "execution_count": 10,
     "metadata": {},
     "output_type": "execute_result"
    }
   ],
   "source": [
    "var(\"x\")\n",
    "f = (3*x^3 - 2*x^2 - 5*x - 6)/((x+1)^2 * (x^2 + 4))\n",
    "show(integral(f, x, 0, 3^(1/2)))\n",
    "\n",
    "N(integral(f, x, 0, 3^(1/2))) #N : approximation de l'intégrale"
   ]
  },
  {
   "cell_type": "markdown",
   "metadata": {},
   "source": [
    "# Rappels : boucles et fonctions"
   ]
  },
  {
   "cell_type": "markdown",
   "metadata": {},
   "source": [
    "La syntaxe de Sage est basée sur celle du langage Python.\n",
    "L'indentation du code joue un rôle important dans cette syntaxe : le nombre d'espaces au début de chaque ligne a une influence sur la manière dont le code sera interprété.\n",
    "\n",
    "Les boucles sont implémentées avec les constructuers `while`\n",
    "\n",
    "C’est par l’indentation que l’on délimite le bloc exécuté dans la boucle while."
   ]
  },
  {
   "cell_type": "code",
   "execution_count": 11,
   "metadata": {},
   "outputs": [
    {
     "data": {
      "text/plain": [
       "3"
      ]
     },
     "execution_count": 11,
     "metadata": {},
     "output_type": "execute_result"
    }
   ],
   "source": [
    "i=0\n",
    "while i<= 2:\n",
    "    i=i+1\n",
    "i\n"
   ]
  },
  {
   "cell_type": "markdown",
   "metadata": {},
   "source": [
    "et `for`\n",
    "\n",
    "Pour la boucle  `for`  on peut utiliser l'instruction  `range(n)`  qui renvoit la liste des  $n$  premiers entiers (indexé à partir de  0 ). On a donc  `range(n)=[0..n−1]`.\n"
   ]
  },
  {
   "cell_type": "code",
   "execution_count": 12,
   "metadata": {},
   "outputs": [
    {
     "data": {
      "text/html": [
       "<html><script type=\"math/tex; mode=display\">\\newcommand{\\Bold}[1]{\\mathbf{#1}}\\verb|range(0,|\\phantom{\\verb!x!}\\verb|3)|</script></html>"
      ],
      "text/plain": [
       "range(0, 3)"
      ]
     },
     "metadata": {},
     "output_type": "display_data"
    },
    {
     "name": "stdout",
     "output_type": "stream",
     "text": [
      "0\n",
      "1\n",
      "2\n"
     ]
    }
   ],
   "source": [
    "n = 3\n",
    "show(range(n))\n",
    "for i in range(n):\n",
    "    print(i)"
   ]
  },
  {
   "cell_type": "markdown",
   "metadata": {},
   "source": [
    "Pour l'instruction  `range`  on peut spécifier un autre indice de départ, un autre indice de fin ainsi que le pas. De même, pour l'instruction  .. ."
   ]
  },
  {
   "cell_type": "code",
   "execution_count": 13,
   "metadata": {},
   "outputs": [
    {
     "data": {
      "text/html": [
       "<html><script type=\"math/tex; mode=display\">\\newcommand{\\Bold}[1]{\\mathbf{#1}}\\verb|range(0,|\\phantom{\\verb!x!}\\verb|11,|\\phantom{\\verb!x!}\\verb|2)|</script></html>"
      ],
      "text/plain": [
       "range(0, 11, 2)"
      ]
     },
     "metadata": {},
     "output_type": "display_data"
    },
    {
     "data": {
      "text/html": [
       "<html><script type=\"math/tex; mode=display\">\\newcommand{\\Bold}[1]{\\mathbf{#1}}\\verb|range(5,|\\phantom{\\verb!x!}\\verb|1,|\\phantom{\\verb!x!}\\verb|-1)|</script></html>"
      ],
      "text/plain": [
       "range(5, 1, -1)"
      ]
     },
     "metadata": {},
     "output_type": "display_data"
    },
    {
     "data": {
      "text/html": [
       "<html><script type=\"math/tex; mode=display\">\\newcommand{\\Bold}[1]{\\mathbf{#1}}\\left[0, 2, 4, 6, 8, 10\\right]</script></html>"
      ],
      "text/plain": [
       "[0, 2, 4, 6, 8, 10]"
      ]
     },
     "metadata": {},
     "output_type": "display_data"
    },
    {
     "data": {
      "text/html": [
       "<html><script type=\"math/tex; mode=display\">\\newcommand{\\Bold}[1]{\\mathbf{#1}}\\left[5, 4, 3, 2, 1\\right]</script></html>"
      ],
      "text/plain": [
       "[5, 4, 3, 2, 1]"
      ]
     },
     "metadata": {},
     "output_type": "display_data"
    }
   ],
   "source": [
    "show(range(0,11,2))\n",
    "show(range(5,1,-1))\n",
    "show([0..11,step=2])\n",
    "show([5..1,step=-1])"
   ]
  },
  {
   "cell_type": "markdown",
   "metadata": {},
   "source": [
    "Cependant on peut faire parcourir à l'indice n'importe quelle liste donnée dans l'instruction (sans que cette liste soit spécifiquement à valeurs entières ni même tous du même type)."
   ]
  },
  {
   "cell_type": "code",
   "execution_count": 14,
   "metadata": {},
   "outputs": [
    {
     "name": "stdout",
     "output_type": "stream",
     "text": [
      "t\n",
      "e\n",
      "s\n",
      "t\n",
      "4\n"
     ]
    }
   ],
   "source": [
    "TableauTest = ['t','e','s','t', 2+2]\n",
    "for i in TableauTest:\n",
    "    print(i)"
   ]
  },
  {
   "cell_type": "markdown",
   "metadata": {},
   "source": [
    "L'utilisation de boucles  `for`  est très utile pour travailler avec les listes."
   ]
  },
  {
   "cell_type": "code",
   "execution_count": 15,
   "metadata": {},
   "outputs": [
    {
     "data": {
      "text/html": [
       "<html><script type=\"math/tex; mode=display\">\\newcommand{\\Bold}[1]{\\mathbf{#1}}\\left[0, 0, 0, 0, 0\\right]</script></html>"
      ],
      "text/plain": [
       "[0, 0, 0, 0, 0]"
      ]
     },
     "metadata": {},
     "output_type": "display_data"
    },
    {
     "data": {
      "text/html": [
       "<html><script type=\"math/tex; mode=display\">\\newcommand{\\Bold}[1]{\\mathbf{#1}}\\verb|Liste|\\phantom{\\verb!x!}\\verb|complète| \\left[\\left(0, 1\\right), \\left(2, 3\\right), \\left(4, 5\\right), \\left(6, 7\\right)\\right]</script></html>"
      ],
      "text/plain": [
       "'Liste complète ' [(0, 1), (2, 3), (4, 5), (6, 7)]"
      ]
     },
     "metadata": {},
     "output_type": "display_data"
    }
   ],
   "source": [
    "# Création d'une liste de 0 de taille 5\n",
    "L = [0 for j in range(5)]\n",
    "show(L)\n",
    "# Parcours d'une liste de couples et récupération de la liste des premières composantes de chaque couple\n",
    "L2 = [(0,1),(2,3),(4,5),(6,7)]\n",
    "show('Liste complète ' , L2)\n",
    "L2extrait = [l[0] for l in L2]\n"
   ]
  },
  {
   "cell_type": "markdown",
   "metadata": {},
   "source": [
    "\n",
    "Pour définir la fonction $f(x)=0$ si $x<0$ et $f(x)=x^2$ si $x\\geq0$ , on peut faire par exemple :"
   ]
  },
  {
   "cell_type": "code",
   "execution_count": 16,
   "metadata": {},
   "outputs": [],
   "source": [
    "def f(x):\n",
    "    if x<0:\n",
    "        return 0\n",
    "    else:\n",
    "        return x^2"
   ]
  },
  {
   "cell_type": "code",
   "execution_count": 17,
   "metadata": {},
   "outputs": [
    {
     "data": {
      "text/plain": [
       "25"
      ]
     },
     "execution_count": 17,
     "metadata": {},
     "output_type": "execute_result"
    }
   ],
   "source": [
    "f(5)"
   ]
  },
  {
   "cell_type": "code",
   "execution_count": 18,
   "metadata": {},
   "outputs": [
    {
     "data": {
      "text/plain": [
       "0"
      ]
     },
     "execution_count": 18,
     "metadata": {},
     "output_type": "execute_result"
    }
   ],
   "source": [
    "f(-5)"
   ]
  },
  {
   "cell_type": "markdown",
   "metadata": {},
   "source": [
    "Une fonction est récursive si elle s’appelle elle-même."
   ]
  },
  {
   "cell_type": "code",
   "execution_count": 19,
   "metadata": {},
   "outputs": [],
   "source": [
    "def puissance(x,n) :\n",
    "    if n>0 :\n",
    "        return x * puissance(x, n-1)\n",
    "    else : return 1"
   ]
  },
  {
   "cell_type": "code",
   "execution_count": 20,
   "metadata": {},
   "outputs": [
    {
     "data": {
      "text/plain": [
       "32"
      ]
     },
     "execution_count": 20,
     "metadata": {},
     "output_type": "execute_result"
    }
   ],
   "source": [
    "puissance(2,5)"
   ]
  },
  {
   "cell_type": "markdown",
   "metadata": {},
   "source": [
    "# Intégration numérique"
   ]
  },
  {
   "cell_type": "markdown",
   "metadata": {},
   "source": [
    "Le but est d’aborder le calcul général de l’intégrale d’une fonction $f(x)$ sur un domaine\n",
    "fini délimité par des bornes finies $a$ et $b$  : $$ I = \\int_a^b f(x) \\mathrm{ d}x  $$\n",
    "\n",
    "Dans certains cas très limités, une telle intégrale peut être calculée analytiquement (à la main). Cependant,\n",
    "ce n’est que très rarement possible, et le plus souvent un des cas suivants se présente :\n",
    "    \n",
    " – Le calcul analytique est long, compliqué et rébarbatif.\n",
    "    \n",
    " – Le résultat de l’intégrale est une fonction compliquée qui fait appel à d’autres fonctions elles-même\n",
    "longues à évaluer.\n",
    "\n",
    " – Cette intégrale n’a pas d’expression analytique (par exemple la fonction erreur : $Erf(x) = \\frac{2}{ \\pi} \\int_0^x e^{-x^{'2}} \\mathrm{ d}x'$.\n",
    " \n",
    "Dans tous ces cas, on préfèrera calculer numériquement la valeur de l’intégrale $I$.\n",
    "\n",
    "L’idée principale est de trouver des méthodes qui permettent de calculer rapidement une valeur approchée\n",
    "eI de l’intégrale à calculer : $$\\tilde{I} \\approx I$$\n",
    "\n",
    "Une méthode bien connue consiste par exemple à diviser l’aire\n",
    "sous la courbe en un grand nombre de petits rectangles d’aire $\\tilde{I_k}$ et de les sommer. \n",
    "\n",
    "Le résultat $$\\tilde{I}=\\sum_k \\tilde{I_k} $$ est alors une approximation de l’intégrale $I$. Cette approximation est d’autant meilleure que la largeur $h$ des\n",
    "rectangles tend vers 0, c’est à dire : $\\lim_{h \\rightarrow 0}  \\tilde{I_k} = I$.\n",
    "\n",
    "Pour toutes les méthodes que l'on considère, l’intégrale numérique est calculée à\n",
    "partir de l’évaluation de la fonction $f(x)$ en un nombre de point $n+1$ distincts : $f_k = f(x_k)$, $k\\in [0, n]$."
   ]
  },
  {
   "cell_type": "markdown",
   "metadata": {},
   "source": [
    "# Méthodes de quadrature numérique simples:"
   ]
  },
  {
   "cell_type": "markdown",
   "metadata": {},
   "source": [
    "- Rectangle : $\\tilde{I} = (b-a)f(a) \\quad $ ou Point au milieu : $\\tilde{I} = (b-a)f\\bigg(\\dfrac{a+b}{2}\\bigg)$ \n",
    "- Trapèze : $\\tilde{I} = (b-a)\\dfrac{f(a)+f(b)}{2}$\n",
    "- Simpson : $\\tilde{I} = \\dfrac{b-a}{6}[f(a)+4f\\bigg(\\dfrac{a+b}{2}\\bigg)+f(b)]$\n"
   ]
  },
  {
   "cell_type": "markdown",
   "metadata": {},
   "source": [
    "# Méthodes de quadrature numérique composites "
   ]
  },
  {
   "cell_type": "markdown",
   "metadata": {},
   "source": [
    "L’idée est donc de découper le domaine total d’intégration $[a, b]$ en $m$ intervalles. On approxime alors\n",
    "l’aire $\\tilde{I}$, $k \\in [0,m−1]$ de chaque intervalle par des méthodes de quadrature numérique simples, et on en déduit une approximation de l’aire totale par une simple somme :\n",
    "\n",
    "$$\\tilde{I}=\\sum_k^{m-1} \\tilde{I_k} $$\n",
    "\n",
    "Lorsque $m$ est suffisamment grand, la largeur $(b − a)/m$ des intervalles devient aussi petite que l’on veut.\n",
    "\n",
    "On considère le nombre total de sous-intervalles $n = m$.\n",
    "\n",
    "- Rectangles : $$\\tilde{I} = \\dfrac{b-a}{n} \\sum_{i=0}^{n-1}f(x_i)$$\n",
    "\n",
    "- Trapèzes : $$\\tilde{I} = \\dfrac{b-a}{n}\\bigg(\\dfrac{f(a)+f(b)}{2} + \\sum_{i=1}^{n-1}f(x_i)\\bigg)$$\n",
    "\n",
    "- Simpson : $$\\tilde{I} = \\dfrac{b-a}{6n}\\bigg(f(a)+2\\sum_{i=1}^{n-1}f(x_{i})+4\\sum_{i=0}^{n-1}f(m_{i})+f(b)\\bigg)$$\n",
    "avec $m_i = a + (i + \\frac 1 2) h$ les milieux des segments $[x_i, x_{i+1}]$.\n",
    "\n",
    "\n"
   ]
  },
  {
   "cell_type": "markdown",
   "metadata": {},
   "source": [
    "# EXERCICE 3"
   ]
  },
  {
   "cell_type": "markdown",
   "metadata": {},
   "source": [
    "a) Définir une fonction `rectangles(f,a,b,n)` qui prend en entrée la fonction, les bornes de l'intégrale et le nombre de subdivisions. Elle renvoie en sortie la valeur approchée de l'intégrale selon la méthode des rectangles du point au milieu.\n",
    "\n",
    "b) Tester votre fonction sur le calcul d'une intégrale au choix et vérifier que ce résultat s'approche de la valeur exacte."
   ]
  },
  {
   "cell_type": "code",
   "execution_count": 21,
   "metadata": {},
   "outputs": [],
   "source": [
    "def rectangle(f, a, b, n):\n",
    "    sum1 = 0\n",
    "    hauteur = (b-a)/n\n",
    "    for i in range(n): #somme de 0 à n-1 de f(xi)\n",
    "        \n",
    "        sum1 += f(a + i*(b-a)/n) #f(xi) , xi= a + (b−a)*i/n\n",
    "        \n",
    "    return hauteur * sum1 #calcul final : hauteur * somme de 0 à n-1 de f(xi)"
   ]
  },
  {
   "cell_type": "code",
   "execution_count": 22,
   "metadata": {},
   "outputs": [
    {
     "name": "stdout",
     "output_type": "stream",
     "text": [
      "Nous avons pour 200 intervalles : 30.2122625000000\n",
      "Nous avons pour 400 intervalles : 30.2724406250000\n",
      "Pour en exact : 30.3333333333333\n"
     ]
    },
    {
     "name": "stderr",
     "output_type": "stream",
     "text": [
      "/opt/sagemath-9.1/local/lib/python3.7/site-packages/sage/repl/ipython_kernel/__main__.py:3: DeprecationWarning: Substitution using function-call syntax and unnamed arguments is deprecated and will be removed from a future release of Sage; you can use named arguments instead, like EXPR(x=..., y=...)\n",
      "See http://trac.sagemath.org/5930 for details.\n",
      "  IPKernelApp.launch_instance(kernel_class=SageKernel)\n",
      "/opt/sagemath-9.1/local/lib/python3.7/site-packages/sage/repl/ipython_kernel/__main__.py:6: DeprecationWarning: Substitution using function-call syntax and unnamed arguments is deprecated and will be removed from a future release of Sage; you can use named arguments instead, like EXPR(x=..., y=...)\n",
      "See http://trac.sagemath.org/5930 for details.\n"
     ]
    }
   ],
   "source": [
    "var(\"x\")\n",
    "f = x**2\n",
    "print(\"Nous avons pour 200 intervalles :\",N(rectangle(f, -3, 4, 200))) \n",
    "#-3 et 4 : bornes de l'intervalle et 200 : nombre de subdivisions\n",
    "\n",
    "print(\"Nous avons pour 400 intervalles :\",N(rectangle(f, -3, 4, 400)))\n",
    "#-3 et 4 : bornes de l'intervalle et 400 : nombre de subdivisions\n",
    "\n",
    "print(\"Pour en exact :\",N(integrate(f, x,-3, 4)))"
   ]
  },
  {
   "cell_type": "markdown",
   "metadata": {},
   "source": [
    "# EXERCICE 4"
   ]
  },
  {
   "cell_type": "markdown",
   "metadata": {},
   "source": [
    "a) Définir une fonction `simpson(f,a,b,n)` qui prend en entrée la fonction, les bornes de l'intégrale et le nombre de subdivisions. Elle renvoie en sortie la valeur approchée de l'intégrale selon la méthode de Simpson.\n",
    "\n",
    "b) Tester votre fonction sur le calcul d'une intégrale au choix et vérifier que ce résultat s'approche de sa valeur exacte.\n"
   ]
  },
  {
   "cell_type": "code",
   "execution_count": 23,
   "metadata": {},
   "outputs": [],
   "source": [
    "def simpson(f,a,b,n):\n",
    "    \n",
    "    hauteur = (b-a)/n\n",
    "    sum1=0\n",
    "    sum2=0\n",
    "    \n",
    "    for i in range(1,n):\n",
    "        sum1+=f(a+hauteur*i)#somme de 1 à n-1 de f(xi) , xi= a + (b−a)*i/n\n",
    "        \n",
    "    for i in range(0,n):\n",
    "        sum2+= f(a+(i+(1/2))*hauteur)#somme de 0 à n-1 de f(mi) avec mi = a+(i+1/2)*hauteur\n",
    "        \n",
    "    return hauteur/6*(f(a)+2*sum1+4*sum2+f(b)) #hauteur/6 représente b-a/6n"
   ]
  },
  {
   "cell_type": "code",
   "execution_count": 24,
   "metadata": {},
   "outputs": [
    {
     "name": "stdout",
     "output_type": "stream",
     "text": [
      "Calcul 'exact' :  30.3333333333333\n",
      "Calcul avec la méthode de Simpson :  30.3333333333333\n"
     ]
    },
    {
     "name": "stderr",
     "output_type": "stream",
     "text": [
      "/opt/sagemath-9.1/local/lib/python3.7/site-packages/sage/repl/ipython_kernel/__main__.py:6: DeprecationWarning: Substitution using function-call syntax and unnamed arguments is deprecated and will be removed from a future release of Sage; you can use named arguments instead, like EXPR(x=..., y=...)\n",
      "See http://trac.sagemath.org/5930 for details.\n"
     ]
    }
   ],
   "source": [
    "var(\"x\")\n",
    "f = x**2\n",
    "\n",
    "print(\"Calcul 'exact' : \",N(integral(f, x, -3, 4)))\n",
    "\n",
    "print(\"Calcul avec la méthode de Simpson : \",N(simpson(f, -3, 4, 400))) #On utilise notre fonction avec 400 subdivisions.\n",
    "\n",
    "#On voit bien que le calcul avec la méthode de Simpson s'approche du calcul exact."
   ]
  },
  {
   "cell_type": "markdown",
   "metadata": {},
   "source": [
    "# EXERCICE 5"
   ]
  },
  {
   "cell_type": "markdown",
   "metadata": {},
   "source": [
    "Une valeur approchée de  $\\pi$  peut être obtenue en calculant numériquement l’intégrale de la fonction  $\\dfrac{6}{5(1+x^2)}$ sur l'intervalle $[-2-\\sqrt{3},2+\\sqrt{3}]$.\n",
    "\n",
    "a) Calculer l'intégrale exacte avec la commande de Sage pour se convaincre du résultat et dessiner la fonction.\n",
    "\n",
    "b) Calculer de manière numérique la valeur approchée en utilisant les deux méthodes définies aux exercices 3 et 4."
   ]
  },
  {
   "cell_type": "code",
   "execution_count": 25,
   "metadata": {},
   "outputs": [
    {
     "data": {
      "text/html": [
       "<html><script type=\"math/tex; mode=display\">\\newcommand{\\Bold}[1]{\\mathbf{#1}}\\frac{12}{5} \\, \\arctan\\left(\\sqrt{3} + 2\\right)</script></html>"
      ],
      "text/plain": [
       "12/5*arctan(sqrt(3) + 2)"
      ]
     },
     "metadata": {},
     "output_type": "display_data"
    },
    {
     "data": {
      "text/plain": [
       "3.14159265358979"
      ]
     },
     "execution_count": 25,
     "metadata": {},
     "output_type": "execute_result"
    }
   ],
   "source": [
    "var(\"x\")\n",
    "\n",
    "f = 6/(5*(1+x^2))\n",
    "\n",
    "show(integral(f, x, -2 - 3^(1/2), 2 + 3^(1/2))) \n",
    "# -2 - 3^(1/2) et  2 + 3^(1/2) sont les bornes de l'intégrale.\n",
    "\n",
    "N(integral(f, x, -2 - 3^(1/2), 2 + 3^(1/2))) \n",
    "#calcul approximatif de l'intégrale , on voit bien que l'on a une valeur approchée de pi."
   ]
  },
  {
   "cell_type": "code",
   "execution_count": 26,
   "metadata": {},
   "outputs": [
    {
     "data": {
      "image/png": "[encoded data removed]",
      "text/plain": [
       "Graphics object consisting of 1 graphics primitive"
      ]
     },
     "execution_count": 26,
     "metadata": {},
     "output_type": "execute_result"
    }
   ],
   "source": [
    "var(\"x\")\n",
    "\n",
    "f = 6/(5*(1+x^2))\n",
    "\n",
    "plot(f,xmin = -3, xmax = 3, ymin = 0, ymax = 1.2)\n",
    "#On va de l'ordonnée du point minimum de la fonction au point maximum et x va de -3 à 3."
   ]
  },
  {
   "cell_type": "code",
   "execution_count": 27,
   "metadata": {},
   "outputs": [
    {
     "name": "stdout",
     "output_type": "stream",
     "text": [
      "Avec la méthode des rectangles, on obtient : 3.14159032106746\n",
      "Avec la méthode de Simpson, on obtient : 3.14159265358744\n"
     ]
    },
    {
     "name": "stderr",
     "output_type": "stream",
     "text": [
      "/opt/sagemath-9.1/local/lib/python3.7/site-packages/sage/repl/ipython_kernel/__main__.py:4: DeprecationWarning: Substitution using function-call syntax and unnamed arguments is deprecated and will be removed from a future release of Sage; you can use named arguments instead, like EXPR(x=..., y=...)\n",
      "See http://trac.sagemath.org/5930 for details.\n",
      "/opt/sagemath-9.1/local/lib/python3.7/site-packages/sage/repl/ipython_kernel/__main__.py:7: DeprecationWarning: Substitution using function-call syntax and unnamed arguments is deprecated and will be removed from a future release of Sage; you can use named arguments instead, like EXPR(x=..., y=...)\n",
      "See http://trac.sagemath.org/5930 for details.\n"
     ]
    }
   ],
   "source": [
    "var(\"x\")\n",
    "f = 6/(5*(1+x^2))\n",
    "\n",
    "print(\"Avec la méthode des rectangles, on obtient :\",N(rectangle(f, -2 - 3^(1/2), 2 + 3^(1/2), 400)))\n",
    "# on applique la méthode des rectangles que l'on a définie précédemment dans la fonction rectangle (f,a,b,n).\n",
    "\n",
    "print(\"Avec la méthode de Simpson, on obtient :\",N(simpson(f, -2 - 3^(1/2), 2 + 3^(1/2), 400)))\n",
    "# on applique la méthode de simpson que l'on a définie précédemment dans la fonction simpson simpson (f,a,b,n).\n",
    "\n",
    "#On voit bien que le calcul avec la méthode de Simpson et la méthode des rectangles s'approche du calcul exact."
   ]
  },
  {
   "cell_type": "markdown",
   "metadata": {},
   "source": [
    "# Performances"
   ]
  },
  {
   "cell_type": "markdown",
   "metadata": {},
   "source": [
    "La performance d’une méthode se juge en comparant :\n",
    "\n",
    "- Précision du résultat : Celle-ci se caractérise en estimant l’erreur $\\varepsilon$ entre l’approximation et la valeur réelle de l’intégrale :\n",
    "\n",
    "$$\\varepsilon = I - \\tilde{I}$$ \n",
    "  La valeur de l’erreur ne peut pas être calculée exactement puisqu’en général, on ne connaît pas l’intégrale $I$ que l’on cherche à calculer. Cependant, une majoration peut souvent être estimée en étudiant le développement en série de Taylor de la fonction $f(x)$ (prochain chapitre du cours).\n",
    "\n",
    "\n",
    "- Rapidité d’exécution nécessaire pour atteindre ce résultat. \n",
    "\n",
    "   De manière générale, toutes les méthodes peuvent atteindre de très grandes précisions. Cependant, le temps de calcul augmente avec la précision.\n",
    "Ce temps n’augmente pas de la même manière pour toutes les méthodes si bien que certaines\n",
    "s’avèrent plus efficaces que d’autres. En particulier, le temps de calcul des méthodes de quadrature est\n",
    "proportionnel au nombre de points où la fonction $f(x)$ est évaluée.\n",
    "\n"
   ]
  }
 ],
 "metadata": {
  "kernelspec": {
   "display_name": "SageMath 9.1",
   "language": "sage",
   "name": "sagemath"
  },
  "language_info": {
   "codemirror_mode": {
    "name": "ipython",
    "version": 3
   },
   "file_extension": ".py",
   "mimetype": "text/x-python",
   "name": "python",
   "nbconvert_exporter": "python",
   "pygments_lexer": "ipython3",
   "version": "3.7.3"
  }
 },
 "nbformat": 4,
 "nbformat_minor": 1
}
