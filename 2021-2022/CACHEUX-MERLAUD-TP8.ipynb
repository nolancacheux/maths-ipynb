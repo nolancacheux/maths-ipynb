{
 "cells": [
  {
   "cell_type": "markdown",
   "metadata": {},
   "source": [
    "# TP 8 - Cryptographie"
   ]
  },
  {
   "cell_type": "markdown",
   "metadata": {},
   "source": [
    "Consignes :\n",
    "\n",
    "- Renommer ce fichier <b>nom1-nom2-TP8</b> , en cliquant sur le titre du fichier \"TP 8 - Cryptographie\" en haut à gauche\n",
    "- <u>ATTENTION : TP à rendre dans le devoir Teams à la fin de la séance</u>.\n",
    "- TP à faire par groupes de 2. Le groupe de travail sera le même pour toute l'année.\n",
    "\n",
    "\n",
    "  Cliquer deux fois sur la cellule pour completer ci-dessous :\n",
    "\n",
    "- NOM PRENOM : Cacheux Nolan\n",
    "- NOM PRENOM : Merlaud Thomas\n"
   ]
  },
  {
   "cell_type": "markdown",
   "metadata": {},
   "source": [
    "#  ROT13"
   ]
  },
  {
   "cell_type": "markdown",
   "metadata": {},
   "source": [
    "Le ROT13 (de l'anglais « rotate by 13 places ») est un cas particulier du chiffre de César, un algorithme simpliste de chiffrement de texte. Comme son nom l'indique, il s'agit de décaler chaque lettre du texte à chiffrer de 13 places. Son principal aspect pratique est que le codage et le décodage se font exactement de la même manière. En effet, puisque l'alphabet comporte 26 lettres, il suffit de décaler deux fois de 13 caractères pour revenir à la lettre de départ.\n",
    "\n",
    "\n",
    "L'alphabet utilisé dans ROT13 est :\n",
    "    \n",
    "    ABCDEFGHIJKLMNOPQRSTUVWXYZ\n",
    "\n",
    "Cependant, contrairement à d'autres méthodes de cryptographie (où l'intérêt réside dans le fait qu'il est difficile voire impossible de lire le message si l'on n'a pas le code pour le décoder), il s'agit plus ici de faire en sorte que le message ne soit pas lisible directement mais qu'il soit néanmoins possible de l'obtenir sans grosses difficultés. Il est plutôt utilisé dans les pages web pour ne pas dévoiler à tous des solutions de jeux, des fins de films ou pour ne pas divulgâcher l’intrigue d’une série…"
   ]
  },
  {
   "cell_type": "markdown",
   "metadata": {},
   "source": [
    "# EXERCICE 1"
   ]
  },
  {
   "cell_type": "markdown",
   "metadata": {},
   "source": [
    "a) Définir une fonction `rot` qui prend en entrée un message à crypter (ou décrypter), un indice de décalage qui sera fixé à 13 pour ROT13 et l'alphabet utilisé. \n",
    "La fonction returne le message crypté (ou décrypté).\n",
    "\n",
    "Si le caractere utilisé dans le message n'est pas present dans l'alphabet, on le garde sans le crypter.\n",
    "\n",
    "\n",
    "b) Chiffrer et déchiffrer la phrase: \"LA VITA E' BELLA\"\n"
   ]
  },
  {
   "cell_type": "code",
   "execution_count": 1,
   "metadata": {},
   "outputs": [],
   "source": [
    "# a) \n",
    "def rot(message,decalage,alphabet):\n",
    "    \"\"\"\n",
    "    Renvoie le chiffrement du mot basé sur un décalage donné en paramètre de chaque lettre du texte \n",
    "    \"\"\"\n",
    "    message_chiffre = \"\"\n",
    "    for i in message: #On parcourt tous les caractères du message\n",
    "        n = 0 # n sera la place à laquelle se trouve la lettre actuelle dans l'alphabet\n",
    "        if i in alphabet:\n",
    "            while i != alphabet[n]:#tant qu'on a pas trouvé à quelle lettre de l'alphabet cela correspond :\n",
    "                n+=1\n",
    "            message_chiffre += alphabet[(n+decalage)%len(alphabet)] \n",
    "            #Des qu'on a trouvé on décale la lettre \"décalage\" fois modulo 26.\n",
    "            #Ici on ne mets pas modulo 26 car si on utilise un alphabet de taille différente , le programme fonctionnera aussi.\n",
    "        else:\n",
    "            message_chiffre+=i #Si le caractere utilisé dans le message n'est pas present dans l'alphabet, on le garde sans le crypter.\n",
    "    return message_chiffre\n"
   ]
  },
  {
   "cell_type": "code",
   "execution_count": 2,
   "metadata": {},
   "outputs": [
    {
     "name": "stdout",
     "output_type": "stream",
     "text": [
      "Le message chiffré est:  YN IVGN R' ORYYN\n",
      "Le message déchiffré est:  LA VITA E' BELLA\n"
     ]
    }
   ],
   "source": [
    "# b)\n",
    "\n",
    "alphabet_rot13 = \"ABCDEFGHIJKLMNOPQRSTUVWXYZ\"\n",
    "\n",
    "print(\"Le message chiffré est: \",rot(\"LA VITA E' BELLA\",13,alphabet_rot13)) #On chifffe\n",
    "\n",
    "print(\"Le message déchiffré est: \",rot(\"YN IVGN R' ORYYN\",-13,alphabet_rot13)) #On déchiffre"
   ]
  },
  {
   "cell_type": "markdown",
   "metadata": {},
   "source": [
    "# EXERCICE 2"
   ]
  },
  {
   "cell_type": "markdown",
   "metadata": {},
   "source": [
    "En utilisant la fonction `rot` déchiffrer :\n",
    "\n",
    "    a) OHFUBSWDJHHVWODUWGHFRGHUXQPHVVDJH\n",
    "\n",
    "    b) ARZDVIRZJDZVLOVKIVCVGIVDZVIUREJLEMZCCRXVHLVCVJVTFEURIFDV"
   ]
  },
  {
   "cell_type": "code",
   "execution_count": 3,
   "metadata": {},
   "outputs": [
    {
     "data": {
      "text/html": [
       "<html><script type=\"math/tex; mode=display\">\\newcommand{\\Bold}[1]{\\mathbf{#1}}\\verb|NGETARVCIGGUVNCTVFGEQFGTWPOGUUCIG|</script></html>"
      ],
      "text/plain": [
       "'NGETARVCIGGUVNCTVFGEQFGTWPOGUUCIG'"
      ]
     },
     "metadata": {},
     "output_type": "display_data"
    },
    {
     "data": {
      "text/html": [
       "<html><script type=\"math/tex; mode=display\">\\newcommand{\\Bold}[1]{\\mathbf{#1}}\\verb|MFDSZQUBHFFTUMBSUEFDPEFSVONFTTBHF|</script></html>"
      ],
      "text/plain": [
       "'MFDSZQUBHFFTUMBSUEFDPEFSVONFTTBHF'"
      ]
     },
     "metadata": {},
     "output_type": "display_data"
    },
    {
     "data": {
      "text/html": [
       "<html><script type=\"math/tex; mode=display\">\\newcommand{\\Bold}[1]{\\mathbf{#1}}\\verb|LECRYPTAGEESTLARTDECODERUNMESSAGE|</script></html>"
      ],
      "text/plain": [
       "'LECRYPTAGEESTLARTDECODERUNMESSAGE'"
      ]
     },
     "metadata": {},
     "output_type": "display_data"
    },
    {
     "data": {
      "text/html": [
       "<html><script type=\"math/tex; mode=display\">\\newcommand{\\Bold}[1]{\\mathbf{#1}}\\verb|KDBQXOSZFDDRSKZQSCDBNCDQTMLDRRZFD|</script></html>"
      ],
      "text/plain": [
       "'KDBQXOSZFDDRSKZQSCDBNCDQTMLDRRZFD'"
      ]
     },
     "metadata": {},
     "output_type": "display_data"
    },
    {
     "data": {
      "text/html": [
       "<html><script type=\"math/tex; mode=display\">\\newcommand{\\Bold}[1]{\\mathbf{#1}}\\verb|JCAPWNRYECCQRJYPRBCAMBCPSLKCQQYEC|</script></html>"
      ],
      "text/plain": [
       "'JCAPWNRYECCQRJYPRBCAMBCPSLKCQQYEC'"
      ]
     },
     "metadata": {},
     "output_type": "display_data"
    },
    {
     "data": {
      "text/html": [
       "<html><script type=\"math/tex; mode=display\">\\newcommand{\\Bold}[1]{\\mathbf{#1}}\\verb|IBZOVMQXDBBPQIXOQABZLABORKJBPPXDB|</script></html>"
      ],
      "text/plain": [
       "'IBZOVMQXDBBPQIXOQABZLABORKJBPPXDB'"
      ]
     },
     "metadata": {},
     "output_type": "display_data"
    },
    {
     "data": {
      "text/html": [
       "<html><script type=\"math/tex; mode=display\">\\newcommand{\\Bold}[1]{\\mathbf{#1}}\\verb|HAYNULPWCAAOPHWNPZAYKZANQJIAOOWCA|</script></html>"
      ],
      "text/plain": [
       "'HAYNULPWCAAOPHWNPZAYKZANQJIAOOWCA'"
      ]
     },
     "metadata": {},
     "output_type": "display_data"
    },
    {
     "data": {
      "text/html": [
       "<html><script type=\"math/tex; mode=display\">\\newcommand{\\Bold}[1]{\\mathbf{#1}}\\verb|GZXMTKOVBZZNOGVMOYZXJYZMPIHZNNVBZ|</script></html>"
      ],
      "text/plain": [
       "'GZXMTKOVBZZNOGVMOYZXJYZMPIHZNNVBZ'"
      ]
     },
     "metadata": {},
     "output_type": "display_data"
    },
    {
     "data": {
      "text/html": [
       "<html><script type=\"math/tex; mode=display\">\\newcommand{\\Bold}[1]{\\mathbf{#1}}\\verb|FYWLSJNUAYYMNFULNXYWIXYLOHGYMMUAY|</script></html>"
      ],
      "text/plain": [
       "'FYWLSJNUAYYMNFULNXYWIXYLOHGYMMUAY'"
      ]
     },
     "metadata": {},
     "output_type": "display_data"
    },
    {
     "data": {
      "text/html": [
       "<html><script type=\"math/tex; mode=display\">\\newcommand{\\Bold}[1]{\\mathbf{#1}}\\verb|EXVKRIMTZXXLMETKMWXVHWXKNGFXLLTZX|</script></html>"
      ],
      "text/plain": [
       "'EXVKRIMTZXXLMETKMWXVHWXKNGFXLLTZX'"
      ]
     },
     "metadata": {},
     "output_type": "display_data"
    },
    {
     "data": {
      "text/html": [
       "<html><script type=\"math/tex; mode=display\">\\newcommand{\\Bold}[1]{\\mathbf{#1}}\\verb|DWUJQHLSYWWKLDSJLVWUGVWJMFEWKKSYW|</script></html>"
      ],
      "text/plain": [
       "'DWUJQHLSYWWKLDSJLVWUGVWJMFEWKKSYW'"
      ]
     },
     "metadata": {},
     "output_type": "display_data"
    },
    {
     "data": {
      "text/html": [
       "<html><script type=\"math/tex; mode=display\">\\newcommand{\\Bold}[1]{\\mathbf{#1}}\\verb|CVTIPGKRXVVJKCRIKUVTFUVILEDVJJRXV|</script></html>"
      ],
      "text/plain": [
       "'CVTIPGKRXVVJKCRIKUVTFUVILEDVJJRXV'"
      ]
     },
     "metadata": {},
     "output_type": "display_data"
    },
    {
     "data": {
      "text/html": [
       "<html><script type=\"math/tex; mode=display\">\\newcommand{\\Bold}[1]{\\mathbf{#1}}\\verb|BUSHOFJQWUUIJBQHJTUSETUHKDCUIIQWU|</script></html>"
      ],
      "text/plain": [
       "'BUSHOFJQWUUIJBQHJTUSETUHKDCUIIQWU'"
      ]
     },
     "metadata": {},
     "output_type": "display_data"
    },
    {
     "data": {
      "text/html": [
       "<html><script type=\"math/tex; mode=display\">\\newcommand{\\Bold}[1]{\\mathbf{#1}}\\verb|ATRGNEIPVTTHIAPGISTRDSTGJCBTHHPVT|</script></html>"
      ],
      "text/plain": [
       "'ATRGNEIPVTTHIAPGISTRDSTGJCBTHHPVT'"
      ]
     },
     "metadata": {},
     "output_type": "display_data"
    },
    {
     "data": {
      "text/html": [
       "<html><script type=\"math/tex; mode=display\">\\newcommand{\\Bold}[1]{\\mathbf{#1}}\\verb|ZSQFMDHOUSSGHZOFHRSQCRSFIBASGGOUS|</script></html>"
      ],
      "text/plain": [
       "'ZSQFMDHOUSSGHZOFHRSQCRSFIBASGGOUS'"
      ]
     },
     "metadata": {},
     "output_type": "display_data"
    },
    {
     "data": {
      "text/html": [
       "<html><script type=\"math/tex; mode=display\">\\newcommand{\\Bold}[1]{\\mathbf{#1}}\\verb|YRPELCGNTRRFGYNEGQRPBQREHAZRFFNTR|</script></html>"
      ],
      "text/plain": [
       "'YRPELCGNTRRFGYNEGQRPBQREHAZRFFNTR'"
      ]
     },
     "metadata": {},
     "output_type": "display_data"
    },
    {
     "data": {
      "text/html": [
       "<html><script type=\"math/tex; mode=display\">\\newcommand{\\Bold}[1]{\\mathbf{#1}}\\verb|XQODKBFMSQQEFXMDFPQOAPQDGZYQEEMSQ|</script></html>"
      ],
      "text/plain": [
       "'XQODKBFMSQQEFXMDFPQOAPQDGZYQEEMSQ'"
      ]
     },
     "metadata": {},
     "output_type": "display_data"
    },
    {
     "data": {
      "text/html": [
       "<html><script type=\"math/tex; mode=display\">\\newcommand{\\Bold}[1]{\\mathbf{#1}}\\verb|WPNCJAELRPPDEWLCEOPNZOPCFYXPDDLRP|</script></html>"
      ],
      "text/plain": [
       "'WPNCJAELRPPDEWLCEOPNZOPCFYXPDDLRP'"
      ]
     },
     "metadata": {},
     "output_type": "display_data"
    },
    {
     "data": {
      "text/html": [
       "<html><script type=\"math/tex; mode=display\">\\newcommand{\\Bold}[1]{\\mathbf{#1}}\\verb|VOMBIZDKQOOCDVKBDNOMYNOBEXWOCCKQO|</script></html>"
      ],
      "text/plain": [
       "'VOMBIZDKQOOCDVKBDNOMYNOBEXWOCCKQO'"
      ]
     },
     "metadata": {},
     "output_type": "display_data"
    },
    {
     "data": {
      "text/html": [
       "<html><script type=\"math/tex; mode=display\">\\newcommand{\\Bold}[1]{\\mathbf{#1}}\\verb|UNLAHYCJPNNBCUJACMNLXMNADWVNBBJPN|</script></html>"
      ],
      "text/plain": [
       "'UNLAHYCJPNNBCUJACMNLXMNADWVNBBJPN'"
      ]
     },
     "metadata": {},
     "output_type": "display_data"
    },
    {
     "data": {
      "text/html": [
       "<html><script type=\"math/tex; mode=display\">\\newcommand{\\Bold}[1]{\\mathbf{#1}}\\verb|TMKZGXBIOMMABTIZBLMKWLMZCVUMAAIOM|</script></html>"
      ],
      "text/plain": [
       "'TMKZGXBIOMMABTIZBLMKWLMZCVUMAAIOM'"
      ]
     },
     "metadata": {},
     "output_type": "display_data"
    },
    {
     "data": {
      "text/html": [
       "<html><script type=\"math/tex; mode=display\">\\newcommand{\\Bold}[1]{\\mathbf{#1}}\\verb|SLJYFWAHNLLZASHYAKLJVKLYBUTLZZHNL|</script></html>"
      ],
      "text/plain": [
       "'SLJYFWAHNLLZASHYAKLJVKLYBUTLZZHNL'"
      ]
     },
     "metadata": {},
     "output_type": "display_data"
    },
    {
     "data": {
      "text/html": [
       "<html><script type=\"math/tex; mode=display\">\\newcommand{\\Bold}[1]{\\mathbf{#1}}\\verb|RKIXEVZGMKKYZRGXZJKIUJKXATSKYYGMK|</script></html>"
      ],
      "text/plain": [
       "'RKIXEVZGMKKYZRGXZJKIUJKXATSKYYGMK'"
      ]
     },
     "metadata": {},
     "output_type": "display_data"
    },
    {
     "data": {
      "text/html": [
       "<html><script type=\"math/tex; mode=display\">\\newcommand{\\Bold}[1]{\\mathbf{#1}}\\verb|QJHWDUYFLJJXYQFWYIJHTIJWZSRJXXFLJ|</script></html>"
      ],
      "text/plain": [
       "'QJHWDUYFLJJXYQFWYIJHTIJWZSRJXXFLJ'"
      ]
     },
     "metadata": {},
     "output_type": "display_data"
    },
    {
     "data": {
      "text/html": [
       "<html><script type=\"math/tex; mode=display\">\\newcommand{\\Bold}[1]{\\mathbf{#1}}\\verb|PIGVCTXEKIIWXPEVXHIGSHIVYRQIWWEKI|</script></html>"
      ],
      "text/plain": [
       "'PIGVCTXEKIIWXPEVXHIGSHIVYRQIWWEKI'"
      ]
     },
     "metadata": {},
     "output_type": "display_data"
    },
    {
     "data": {
      "text/html": [
       "<html><script type=\"math/tex; mode=display\">\\newcommand{\\Bold}[1]{\\mathbf{#1}}\\begin{array}{l}\n",
       "\\phantom{\\verb!x!}\\\\\n",
       "\\phantom{\\verb!x!}\\\\\n",
       "\\phantom{\\verb!x!}\n",
       "\\end{array} \\begin{array}{l}\n",
       "\\verb|Le|\\phantom{\\verb!x!}\\verb|message|\\phantom{\\verb!x!}\\verb|dechiffre|\\phantom{\\verb!x!}\\verb|est|\\phantom{\\verb!x!}\\verb|donc|\\phantom{\\verb!x!}\\verb|:|\\\\\n",
       "\\phantom{\\verb!x!}\n",
       "\\end{array} \\verb|LECRYPTAGEESTLARTDECODERUNMESSAGE|</script></html>"
      ],
      "text/plain": [
       "'\\n\\n' 'Le message dechiffre est donc : \\n' 'LECRYPTAGEESTLARTDECODERUNMESSAGE'"
      ]
     },
     "metadata": {},
     "output_type": "display_data"
    }
   ],
   "source": [
    "# a)\n",
    "\n",
    "alphabet = \"ABCDEFGHIJKLMNOPQRSTUVWXYZ\"\n",
    "\n",
    "for i in range(1, 26):\n",
    "    show(rot(\"OHFUBSWDJHHVWODUWGHFRGHUXQPHVVDJH\", -i, alphabet))\n",
    "    \n",
    "#Le décalage -3 nous donne 𝙻𝙴𝙲𝚁𝚈𝙿𝚃𝙰𝙶𝙴𝙴𝚂𝚃𝙻𝙰𝚁𝚃𝙳𝙴𝙲𝙾𝙳𝙴𝚁𝚄𝙽𝙼𝙴𝚂𝚂𝙰𝙶𝙴\n",
    "\n",
    "# Soit : 𝙻𝙴 𝙲𝚁𝚈𝙿𝚃𝙰𝙶𝙴 𝙴𝚂𝚃 𝙻'𝙰𝚁𝚃 𝙳𝙴 𝙲𝙾𝙳𝙴𝚁 𝚄𝙽 𝙼𝙴𝚂𝚂𝙰𝙶𝙴. \n",
    "\n",
    "#Affichage du résultat\n",
    "show(\"\\n\\n\", \"Le message dechiffre est donc : \\n\",rot(\"OHFUBSWDJHHVWODUWGHFRGHUXQPHVVDJH\", -3, alphabet))"
   ]
  },
  {
   "cell_type": "code",
   "execution_count": 4,
   "metadata": {},
   "outputs": [
    {
     "data": {
      "text/html": [
       "<html><script type=\"math/tex; mode=display\">\\newcommand{\\Bold}[1]{\\mathbf{#1}}\\verb|ZQYCUHQYICYUKNUJHUBUFHUCYUHTQDIKDLYBBQWUGKUBUIUSEDTQHECU|</script></html>"
      ],
      "text/plain": [
       "'ZQYCUHQYICYUKNUJHUBUFHUCYUHTQDIKDLYBBQWUGKUBUIUSEDTQHECU'"
      ]
     },
     "metadata": {},
     "output_type": "display_data"
    },
    {
     "data": {
      "text/html": [
       "<html><script type=\"math/tex; mode=display\">\\newcommand{\\Bold}[1]{\\mathbf{#1}}\\verb|YPXBTGPXHBXTJMTIGTATEGTBXTGSPCHJCKXAAPVTFJTATHTRDCSPGDBT|</script></html>"
      ],
      "text/plain": [
       "'YPXBTGPXHBXTJMTIGTATEGTBXTGSPCHJCKXAAPVTFJTATHTRDCSPGDBT'"
      ]
     },
     "metadata": {},
     "output_type": "display_data"
    },
    {
     "data": {
      "text/html": [
       "<html><script type=\"math/tex; mode=display\">\\newcommand{\\Bold}[1]{\\mathbf{#1}}\\verb|XOWASFOWGAWSILSHFSZSDFSAWSFROBGIBJWZZOUSEISZSGSQCBROFCAS|</script></html>"
      ],
      "text/plain": [
       "'XOWASFOWGAWSILSHFSZSDFSAWSFROBGIBJWZZOUSEISZSGSQCBROFCAS'"
      ]
     },
     "metadata": {},
     "output_type": "display_data"
    },
    {
     "data": {
      "text/html": [
       "<html><script type=\"math/tex; mode=display\">\\newcommand{\\Bold}[1]{\\mathbf{#1}}\\verb|WNVZRENVFZVRHKRGERYRCERZVREQNAFHAIVYYNTRDHRYRFRPBAQNEBZR|</script></html>"
      ],
      "text/plain": [
       "'WNVZRENVFZVRHKRGERYRCERZVREQNAFHAIVYYNTRDHRYRFRPBAQNEBZR'"
      ]
     },
     "metadata": {},
     "output_type": "display_data"
    },
    {
     "data": {
      "text/html": [
       "<html><script type=\"math/tex; mode=display\">\\newcommand{\\Bold}[1]{\\mathbf{#1}}\\verb|VMUYQDMUEYUQGJQFDQXQBDQYUQDPMZEGZHUXXMSQCGQXQEQOAZPMDAYQ|</script></html>"
      ],
      "text/plain": [
       "'VMUYQDMUEYUQGJQFDQXQBDQYUQDPMZEGZHUXXMSQCGQXQEQOAZPMDAYQ'"
      ]
     },
     "metadata": {},
     "output_type": "display_data"
    },
    {
     "data": {
      "text/html": [
       "<html><script type=\"math/tex; mode=display\">\\newcommand{\\Bold}[1]{\\mathbf{#1}}\\verb|ULTXPCLTDXTPFIPECPWPACPXTPCOLYDFYGTWWLRPBFPWPDPNZYOLCZXP|</script></html>"
      ],
      "text/plain": [
       "'ULTXPCLTDXTPFIPECPWPACPXTPCOLYDFYGTWWLRPBFPWPDPNZYOLCZXP'"
      ]
     },
     "metadata": {},
     "output_type": "display_data"
    },
    {
     "data": {
      "text/html": [
       "<html><script type=\"math/tex; mode=display\">\\newcommand{\\Bold}[1]{\\mathbf{#1}}\\verb|TKSWOBKSCWSOEHODBOVOZBOWSOBNKXCEXFSVVKQOAEOVOCOMYXNKBYWO|</script></html>"
      ],
      "text/plain": [
       "'TKSWOBKSCWSOEHODBOVOZBOWSOBNKXCEXFSVVKQOAEOVOCOMYXNKBYWO'"
      ]
     },
     "metadata": {},
     "output_type": "display_data"
    },
    {
     "data": {
      "text/html": [
       "<html><script type=\"math/tex; mode=display\">\\newcommand{\\Bold}[1]{\\mathbf{#1}}\\verb|SJRVNAJRBVRNDGNCANUNYANVRNAMJWBDWERUUJPNZDNUNBNLXWMJAXVN|</script></html>"
      ],
      "text/plain": [
       "'SJRVNAJRBVRNDGNCANUNYANVRNAMJWBDWERUUJPNZDNUNBNLXWMJAXVN'"
      ]
     },
     "metadata": {},
     "output_type": "display_data"
    },
    {
     "data": {
      "text/html": [
       "<html><script type=\"math/tex; mode=display\">\\newcommand{\\Bold}[1]{\\mathbf{#1}}\\verb|RIQUMZIQAUQMCFMBZMTMXZMUQMZLIVACVDQTTIOMYCMTMAMKWVLIZWUM|</script></html>"
      ],
      "text/plain": [
       "'RIQUMZIQAUQMCFMBZMTMXZMUQMZLIVACVDQTTIOMYCMTMAMKWVLIZWUM'"
      ]
     },
     "metadata": {},
     "output_type": "display_data"
    },
    {
     "data": {
      "text/html": [
       "<html><script type=\"math/tex; mode=display\">\\newcommand{\\Bold}[1]{\\mathbf{#1}}\\verb|QHPTLYHPZTPLBELAYLSLWYLTPLYKHUZBUCPSSHNLXBLSLZLJVUKHYVTL|</script></html>"
      ],
      "text/plain": [
       "'QHPTLYHPZTPLBELAYLSLWYLTPLYKHUZBUCPSSHNLXBLSLZLJVUKHYVTL'"
      ]
     },
     "metadata": {},
     "output_type": "display_data"
    },
    {
     "data": {
      "text/html": [
       "<html><script type=\"math/tex; mode=display\">\\newcommand{\\Bold}[1]{\\mathbf{#1}}\\verb|PGOSKXGOYSOKADKZXKRKVXKSOKXJGTYATBORRGMKWAKRKYKIUTJGXUSK|</script></html>"
      ],
      "text/plain": [
       "'PGOSKXGOYSOKADKZXKRKVXKSOKXJGTYATBORRGMKWAKRKYKIUTJGXUSK'"
      ]
     },
     "metadata": {},
     "output_type": "display_data"
    },
    {
     "data": {
      "text/html": [
       "<html><script type=\"math/tex; mode=display\">\\newcommand{\\Bold}[1]{\\mathbf{#1}}\\verb|OFNRJWFNXRNJZCJYWJQJUWJRNJWIFSXZSANQQFLJVZJQJXJHTSIFWTRJ|</script></html>"
      ],
      "text/plain": [
       "'OFNRJWFNXRNJZCJYWJQJUWJRNJWIFSXZSANQQFLJVZJQJXJHTSIFWTRJ'"
      ]
     },
     "metadata": {},
     "output_type": "display_data"
    },
    {
     "data": {
      "text/html": [
       "<html><script type=\"math/tex; mode=display\">\\newcommand{\\Bold}[1]{\\mathbf{#1}}\\verb|NEMQIVEMWQMIYBIXVIPITVIQMIVHERWYRZMPPEKIUYIPIWIGSRHEVSQI|</script></html>"
      ],
      "text/plain": [
       "'NEMQIVEMWQMIYBIXVIPITVIQMIVHERWYRZMPPEKIUYIPIWIGSRHEVSQI'"
      ]
     },
     "metadata": {},
     "output_type": "display_data"
    },
    {
     "data": {
      "text/html": [
       "<html><script type=\"math/tex; mode=display\">\\newcommand{\\Bold}[1]{\\mathbf{#1}}\\verb|MDLPHUDLVPLHXAHWUHOHSUHPLHUGDQVXQYLOODJHTXHOHVHFRQGDURPH|</script></html>"
      ],
      "text/plain": [
       "'MDLPHUDLVPLHXAHWUHOHSUHPLHUGDQVXQYLOODJHTXHOHVHFRQGDURPH'"
      ]
     },
     "metadata": {},
     "output_type": "display_data"
    },
    {
     "data": {
      "text/html": [
       "<html><script type=\"math/tex; mode=display\">\\newcommand{\\Bold}[1]{\\mathbf{#1}}\\verb|LCKOGTCKUOKGWZGVTGNGRTGOKGTFCPUWPXKNNCIGSWGNGUGEQPFCTQOG|</script></html>"
      ],
      "text/plain": [
       "'LCKOGTCKUOKGWZGVTGNGRTGOKGTFCPUWPXKNNCIGSWGNGUGEQPFCTQOG'"
      ]
     },
     "metadata": {},
     "output_type": "display_data"
    },
    {
     "data": {
      "text/html": [
       "<html><script type=\"math/tex; mode=display\">\\newcommand{\\Bold}[1]{\\mathbf{#1}}\\verb|KBJNFSBJTNJFVYFUSFMFQSFNJFSEBOTVOWJMMBHFRVFMFTFDPOEBSPNF|</script></html>"
      ],
      "text/plain": [
       "'KBJNFSBJTNJFVYFUSFMFQSFNJFSEBOTVOWJMMBHFRVFMFTFDPOEBSPNF'"
      ]
     },
     "metadata": {},
     "output_type": "display_data"
    },
    {
     "data": {
      "text/html": [
       "<html><script type=\"math/tex; mode=display\">\\newcommand{\\Bold}[1]{\\mathbf{#1}}\\verb|JAIMERAISMIEUXETRELEPREMIERDANSUNVILLAGEQUELESECONDAROME|</script></html>"
      ],
      "text/plain": [
       "'JAIMERAISMIEUXETRELEPREMIERDANSUNVILLAGEQUELESECONDAROME'"
      ]
     },
     "metadata": {},
     "output_type": "display_data"
    },
    {
     "data": {
      "text/html": [
       "<html><script type=\"math/tex; mode=display\">\\newcommand{\\Bold}[1]{\\mathbf{#1}}\\verb|IZHLDQZHRLHDTWDSQDKDOQDLHDQCZMRTMUHKKZFDPTDKDRDBNMCZQNLD|</script></html>"
      ],
      "text/plain": [
       "'IZHLDQZHRLHDTWDSQDKDOQDLHDQCZMRTMUHKKZFDPTDKDRDBNMCZQNLD'"
      ]
     },
     "metadata": {},
     "output_type": "display_data"
    },
    {
     "data": {
      "text/html": [
       "<html><script type=\"math/tex; mode=display\">\\newcommand{\\Bold}[1]{\\mathbf{#1}}\\verb|HYGKCPYGQKGCSVCRPCJCNPCKGCPBYLQSLTGJJYECOSCJCQCAMLBYPMKC|</script></html>"
      ],
      "text/plain": [
       "'HYGKCPYGQKGCSVCRPCJCNPCKGCPBYLQSLTGJJYECOSCJCQCAMLBYPMKC'"
      ]
     },
     "metadata": {},
     "output_type": "display_data"
    },
    {
     "data": {
      "text/html": [
       "<html><script type=\"math/tex; mode=display\">\\newcommand{\\Bold}[1]{\\mathbf{#1}}\\verb|GXFJBOXFPJFBRUBQOBIBMOBJFBOAXKPRKSFIIXDBNRBIBPBZLKAXOLJB|</script></html>"
      ],
      "text/plain": [
       "'GXFJBOXFPJFBRUBQOBIBMOBJFBOAXKPRKSFIIXDBNRBIBPBZLKAXOLJB'"
      ]
     },
     "metadata": {},
     "output_type": "display_data"
    },
    {
     "data": {
      "text/html": [
       "<html><script type=\"math/tex; mode=display\">\\newcommand{\\Bold}[1]{\\mathbf{#1}}\\verb|FWEIANWEOIEAQTAPNAHALNAIEANZWJOQJREHHWCAMQAHAOAYKJZWNKIA|</script></html>"
      ],
      "text/plain": [
       "'FWEIANWEOIEAQTAPNAHALNAIEANZWJOQJREHHWCAMQAHAOAYKJZWNKIA'"
      ]
     },
     "metadata": {},
     "output_type": "display_data"
    },
    {
     "data": {
      "text/html": [
       "<html><script type=\"math/tex; mode=display\">\\newcommand{\\Bold}[1]{\\mathbf{#1}}\\verb|EVDHZMVDNHDZPSZOMZGZKMZHDZMYVINPIQDGGVBZLPZGZNZXJIYVMJHZ|</script></html>"
      ],
      "text/plain": [
       "'EVDHZMVDNHDZPSZOMZGZKMZHDZMYVINPIQDGGVBZLPZGZNZXJIYVMJHZ'"
      ]
     },
     "metadata": {},
     "output_type": "display_data"
    },
    {
     "data": {
      "text/html": [
       "<html><script type=\"math/tex; mode=display\">\\newcommand{\\Bold}[1]{\\mathbf{#1}}\\verb|DUCGYLUCMGCYORYNLYFYJLYGCYLXUHMOHPCFFUAYKOYFYMYWIHXULIGY|</script></html>"
      ],
      "text/plain": [
       "'DUCGYLUCMGCYORYNLYFYJLYGCYLXUHMOHPCFFUAYKOYFYMYWIHXULIGY'"
      ]
     },
     "metadata": {},
     "output_type": "display_data"
    },
    {
     "data": {
      "text/html": [
       "<html><script type=\"math/tex; mode=display\">\\newcommand{\\Bold}[1]{\\mathbf{#1}}\\verb|CTBFXKTBLFBXNQXMKXEXIKXFBXKWTGLNGOBEETZXJNXEXLXVHGWTKHFX|</script></html>"
      ],
      "text/plain": [
       "'CTBFXKTBLFBXNQXMKXEXIKXFBXKWTGLNGOBEETZXJNXEXLXVHGWTKHFX'"
      ]
     },
     "metadata": {},
     "output_type": "display_data"
    },
    {
     "data": {
      "text/html": [
       "<html><script type=\"math/tex; mode=display\">\\newcommand{\\Bold}[1]{\\mathbf{#1}}\\verb|BSAEWJSAKEAWMPWLJWDWHJWEAWJVSFKMFNADDSYWIMWDWKWUGFVSJGEW|</script></html>"
      ],
      "text/plain": [
       "'BSAEWJSAKEAWMPWLJWDWHJWEAWJVSFKMFNADDSYWIMWDWKWUGFVSJGEW'"
      ]
     },
     "metadata": {},
     "output_type": "display_data"
    },
    {
     "data": {
      "text/html": [
       "<html><script type=\"math/tex; mode=display\">\\newcommand{\\Bold}[1]{\\mathbf{#1}}\\begin{array}{l}\n",
       "\\phantom{\\verb!x!}\\\\\n",
       "\\phantom{\\verb!x!}\\\\\n",
       "\\phantom{\\verb!x!}\n",
       "\\end{array} \\begin{array}{l}\n",
       "\\verb|Le|\\phantom{\\verb!x!}\\verb|message|\\phantom{\\verb!x!}\\verb|dechiffre|\\phantom{\\verb!x!}\\verb|est|\\phantom{\\verb!x!}\\verb|donc|\\phantom{\\verb!x!}\\verb|:|\\\\\n",
       "\\phantom{\\verb!x!}\n",
       "\\end{array} \\verb|JAIMERAISMIEUXETRELEPREMIERDANSUNVILLAGEQUELESECONDAROME|</script></html>"
      ],
      "text/plain": [
       "'\\n\\n' 'Le message dechiffre est donc : \\n' 'JAIMERAISMIEUXETRELEPREMIERDANSUNVILLAGEQUELESECONDAROME'"
      ]
     },
     "metadata": {},
     "output_type": "display_data"
    }
   ],
   "source": [
    "# b)\n",
    "for i in range(1, 26):\n",
    "    show(rot(\"ARZDVIRZJDZVLOVKIVCVGIVDZVIUREJLEMZCCRXVHLVCVJVTFEURIFDV\", -i, alphabet))\n",
    "    \n",
    "    #Le décalage -17 nous donne 𝙹𝙰𝙸𝙼𝙴𝚁𝙰𝙸𝚂𝙼𝙸𝙴𝚄𝚇𝙴𝚃𝚁𝙴𝙻𝙴𝙿𝚁𝙴𝙼𝙸𝙴𝚁𝙳𝙰𝙽𝚂𝚄𝙽𝚅𝙸𝙻𝙻𝙰𝙶𝙴𝚀𝚄𝙴𝙻𝙴𝚂𝙴𝙲𝙾𝙽𝙳𝙰𝚁𝙾𝙼𝙴\n",
    "    \n",
    "    #Soit : 𝙹'𝙰𝙸𝙼𝙴𝚁𝙰𝙸𝚂 𝙼𝙸𝙴𝚄𝚇 𝙴𝚃𝚁𝙴 𝙻𝙴 𝙿𝚁𝙴𝙼𝙸𝙴𝚁 𝙳𝙰𝙽𝚂 𝚄𝙽 𝚅𝙸𝙻𝙻𝙰𝙶𝙴 𝚀𝚄𝙴 𝙻𝙴 𝚂𝙴𝙲𝙾𝙽𝙳 𝙰 𝚁𝙾𝙼𝙴\n",
    "\n",
    "#Affichage du résultat\n",
    "show(\"\\n\\n\", \"Le message dechiffre est donc : \\n\",rot(\"ARZDVIRZJDZVLOVKIVCVGIVDZVIUREJLEMZCCRXVHLVCVJVTFEURIFDV\", -17, alphabet))"
   ]
  },
  {
   "cell_type": "markdown",
   "metadata": {},
   "source": [
    "# Analyse fréquentielle"
   ]
  },
  {
   "cell_type": "markdown",
   "metadata": {},
   "source": [
    "L'<a href=\"https://fr.wikipedia.org/wiki/Analyse_fr%C3%A9quentielle\">analyse fréquentielle</a> est une méthode de cryptanalyse qui consiste à examiner la fréquence des lettres employées dans un message chiffré.\n",
    "\n",
    "La fonction définie ci-dessous permet d'analyser et visualiser la fréquence de chaque lettre dans un message."
   ]
  },
  {
   "cell_type": "code",
   "execution_count": 5,
   "metadata": {},
   "outputs": [],
   "source": [
    "def freqs(s):\n",
    "    \n",
    "    res = {}\n",
    "    \n",
    "    for c in s:\n",
    "        if not c in res:\n",
    "            res[c] = 0\n",
    "        res[c] += 1\n",
    "\n",
    "    res = sorted(res.items(), key=operator.itemgetter(1), reverse=True)\n",
    "    \n",
    "    img = Graphics()\n",
    "    \n",
    "    r = .25\n",
    "    \n",
    "    for i in range(len(res)):\n",
    "        c,f = res[i]\n",
    "        img += polygon( [(i+r, 0), (i+r, f), (i+1-r, f), (i+1-r, 0)] )\n",
    "        img += text(c, (i+.5,f/2), color=\"white\")\n",
    "        \n",
    "    show(img, aspect_ratio=\"auto\")"
   ]
  },
  {
   "cell_type": "markdown",
   "metadata": {},
   "source": [
    "Exemple d'utilisation de la fonction `freqs` :"
   ]
  },
  {
   "cell_type": "code",
   "execution_count": 6,
   "metadata": {},
   "outputs": [
    {
     "data": {
      "image/png": "[encoded data removed]",
      "text/plain": [
       "Graphics object consisting of 42 graphics primitives"
      ]
     },
     "metadata": {},
     "output_type": "display_data"
    }
   ],
   "source": [
    "m = \"SXYVVHUTUSUIQHJHUILEYHUJHEFSBQIIYGKUIKHLYDWJIYNBUJJHUIJEKJYBCQHSXURYUDTKFHUCYUHSEKF\"\n",
    "freqs(m)"
   ]
  },
  {
   "cell_type": "markdown",
   "metadata": {},
   "source": [
    "# EXERCICE 3"
   ]
  },
  {
   "cell_type": "markdown",
   "metadata": {},
   "source": [
    "Avec l'alphabet de ROT13, dechiffrer le message :\n",
    "\n",
    "    SXYVVHUTUSUIQHJHUILEYHUJHEFSBQIIYGKUIKHLYDWJIYNBUJJHUIJEKJYBCQHSXURYUDTKFHUCYUHSEKF"
   ]
  },
  {
   "cell_type": "code",
   "execution_count": 7,
   "metadata": {},
   "outputs": [
    {
     "data": {
      "text/html": [
       "<html><script type=\"math/tex; mode=display\">\\newcommand{\\Bold}[1]{\\mathbf{#1}}\\begin{array}{l}\n",
       "\\verb|Le|\\phantom{\\verb!x!}\\verb|message|\\phantom{\\verb!x!}\\verb|dechifffre|\\phantom{\\verb!x!}\\verb|est:|\\\\\n",
       "\\phantom{\\verb!x!}\n",
       "\\end{array} \\verb|CHIFFREDECESARTRESVOIRETROPCLASSIQUESURVINGTSIXLETTRESTOUTILMARCHEBIENDUPREMIERCOUP|</script></html>"
      ],
      "text/plain": [
       "'Le message dechifffre est: \\n' 'CHIFFREDECESARTRESVOIRETROPCLASSIQUESURVINGTSIXLETTRESTOUTILMARCHEBIENDUPREMIERCOUP'"
      ]
     },
     "metadata": {},
     "output_type": "display_data"
    }
   ],
   "source": [
    "alphabet_rot13 = \"ABCDEFGHIJKLMNOPQRSTUVWXYZ\"\n",
    "mot = \"SXYVVHUTUSUIQHJHUILEYHUJHEFSBQIIYGKUIKHLYDWJIYNBUJJHUIJEKJYBCQHSXURYUDTKFHUCYUHSEKF\"\n",
    "show(\"Le message dechifffre est: \\n\",rot(mot,10,alphabet_rot13))\n",
    "\n",
    "#On teste tous les décalages de 1 à 26 puis on trouve finalement ce message."
   ]
  },
  {
   "cell_type": "markdown",
   "metadata": {},
   "source": [
    "# EXERCICE 4"
   ]
  },
  {
   "cell_type": "markdown",
   "metadata": {},
   "source": [
    "Décrypter :\n",
    "\n",
    "    PAPX WPD?YD P?D W?;D,PLWT;!PEEEDPYDRPYP,LWDTWD\\nQL?!DQLT,PD!,P;DL!!PY!TZYDLDWJLW SLMP!D?!TWT;P\\nDP!DLDWJZ,O,PDOLY;DWP.?PWDNPW?TKNTDP;!DPN,T!DH\n",
    "    \n",
    "$Suggestion :$ quel alphabet on a utilisé pour crypter ce message ? Il semble y avoir de la ponctuation ... Modifier l'alphabet utilisé dans ROT13 en ajoutant de la ponctuation au bout ...\n",
    "\n",
    "Tout vos raisonnements et essais de trouver la bonne réponse seront valorisés."
   ]
  },
  {
   "cell_type": "code",
   "execution_count": 8,
   "metadata": {},
   "outputs": [
    {
     "data": {
      "image/png": "[encoded data removed]",
      "text/plain": [
       "Graphics object consisting of 52 graphics primitives"
      ]
     },
     "metadata": {},
     "output_type": "display_data"
    }
   ],
   "source": [
    "phrase = \"PAPX WPD?YD P?D W?;D,PLWT;!PEEEDPYDRPYP,LWDTWD\\nQL?!DQLT,PD!,P;DL!!PY!TZYDLDWJLW SLMP!D?!TWT;P\\nDP!DLDWJZ,O,PDOLY;DWP.?PWDNPW?TKNTDP;!DPN,T!DH\"\n",
    "freqs(phrase)"
   ]
  },
  {
   "cell_type": "markdown",
   "metadata": {},
   "source": [
    "Dans la langue française, les caractères les plus utilisés sont la lettre E et l'espace.\n",
    "La fonction freqs() nous montre que les lettres que l'on retrouve le plus de fois dans le message sont \"D\" et \"P\".\n",
    "On suppose donc que D correspond à la lettre E \n",
    "De là, on place notre décalage afin de changer tous les D en E."
   ]
  },
  {
   "cell_type": "code",
   "execution_count": 9,
   "metadata": {},
   "outputs": [
    {
     "name": "stdout",
     "output_type": "stream",
     "text": [
      "QBQY XQE?ZE Q?E X?;E,QMXU;!QFFFEQZESQZQ,MXEUXE\n",
      "RM?!ERMU,QE!,Q;EM!!QZ!UAZEMEXKMX TMNQ!E?!UXU;Q\n",
      "EQ!EMEXKA,P,QEPMZ;EXQ.?QXEOQX?ULOUEQ;!EQO,U!EI\n"
     ]
    }
   ],
   "source": [
    "alphabet = \"ABCDEFGHIJKLMNOPQRSTUVWXYZ\"\n",
    "decalage = 1\n",
    "print(rot(phrase,decalage,alphabet))"
   ]
  },
  {
   "cell_type": "markdown",
   "metadata": {},
   "source": [
    "On se rend compte que cette correspondance n'a pas l'air d'être la bonne donc on suppose finalement que P correspond à la lettre E \n",
    "On place ainsi notre décalage afin de changer tous les P en E."
   ]
  },
  {
   "cell_type": "code",
   "execution_count": 10,
   "metadata": {},
   "outputs": [
    {
     "name": "stdout",
     "output_type": "stream",
     "text": [
      "EPEM LES?NS E?S L?;S,EALI;!ETTTSENSGENE,ALSILS\n",
      "FA?!SFAI,ES!,E;SA!!EN!IONSASLYAL HABE!S?!ILI;E\n",
      "SE!SASLYO,D,ESDAN;SLE.?ELSCEL?IZCISE;!SEC,I!SW\n"
     ]
    }
   ],
   "source": [
    "alphabet = \"ABCDEFGHIJKLMNOPQRSTUVWXYZ\"\n",
    "decalage = -11\n",
    "print(rot(phrase,decalage,alphabet))"
   ]
  },
  {
   "cell_type": "markdown",
   "metadata": {},
   "source": [
    "Ensuite , on modifie notre alphabet en ajoutant des espaces car notre message contient des caractères spéciaux , ils ont donc dû être pris en compte lors du décalage qui a permis de crypter le message. \n",
    "On ajoute donc autant d'espaces qu'il y a de caractères autre que ceux de l'alphabet ( .,;!?'-)."
   ]
  },
  {
   "cell_type": "code",
   "execution_count": 11,
   "metadata": {},
   "outputs": [
    {
     "name": "stdout",
     "output_type": "stream",
     "text": [
      "EXEMPLE ?N PE? PL?; ,EALI;!E    EN GENE,AL IL \n",
      "FA?! FAI,E !,E; A!!EN!ION A L ALPHABE! ?!ILI;E\n",
      " E! A L O,D,E DAN; LE.?EL CEL?I CI E;! EC,I!  \n"
     ]
    }
   ],
   "source": [
    "alphabet = \"ABCDEFGHIJKLMNOPQRSTUVWXYZ        \" #On ajoute 8 espaces\n",
    "print(rot(phrase,decalage,alphabet))"
   ]
  },
  {
   "cell_type": "markdown",
   "metadata": {},
   "source": [
    "On déduit que le ? est un U, on ajoute donc \"?\" 10 lettres après le U car notre décalage est de -11? on fait aussi attention à ce que cela ne change pas le nombre de lettre de décalage pour les autres caractères"
   ]
  },
  {
   "cell_type": "code",
   "execution_count": 12,
   "metadata": {},
   "outputs": [
    {
     "name": "stdout",
     "output_type": "stream",
     "text": [
      "EXEMPLE UN PEU PLU; ,EALI;!E    EN GENE,AL IL \n",
      "FAU! FAI,E !,E; A!!EN!ION A L ALPHABE! U!ILI;E\n",
      " E! A L O,D,E DAN; LE.UEL CELUI CI E;! EC,I!  \n"
     ]
    }
   ],
   "source": [
    "alphabet = \"ABCDEFGHIJKLMNOPQRSTUVWXYZ     ?  \"\n",
    "#Le décalage est de -11 donc on met \"?\" 10 lettres après le U\n",
    "#Pour les ajustements , on enlève à chaque fois un espace là où il faut \n",
    "\n",
    "print(rot(phrase,decalage,alphabet))"
   ]
  },
  {
   "cell_type": "markdown",
   "metadata": {},
   "source": [
    "Par déduction, on constate que ; est un S , on fait toujours attention à respecter les décalages entre les autres lettres."
   ]
  },
  {
   "cell_type": "code",
   "execution_count": 13,
   "metadata": {},
   "outputs": [
    {
     "name": "stdout",
     "output_type": "stream",
     "text": [
      "EXEMPLE UN PEU PLUS ,EALIS!E    EN GENE,AL IL \n",
      "FAU! FAI,E !,ES A!!EN!ION A L ALPHABE! U!ILISE\n",
      " E! A L O,D,E DANS LE.UEL CELUI CI ES! EC,I!  \n"
     ]
    }
   ],
   "source": [
    "alphabet = \"ABCDEFGHIJKLMNOPQRSTUVWXYZ   ; ?  \" \n",
    "#Le décalage est de -11 donc on met \";\" 10 lettres après le S\n",
    "#Pour les ajustements , on enlève à chaque fois un espace là où il faut \n",
    "\n",
    "print(rot(phrase,decalage,alphabet))"
   ]
  },
  {
   "cell_type": "markdown",
   "metadata": {},
   "source": [
    "On constate aussi que ! correspond à la lettre T et , correspond à la lettre R"
   ]
  },
  {
   "cell_type": "code",
   "execution_count": 14,
   "metadata": {},
   "outputs": [
    {
     "name": "stdout",
     "output_type": "stream",
     "text": [
      "EXEMPLE UN PEU PLUS REALISTE    EN GENERAL IL \n",
      "FAUT FAIRE TRES ATTENTION A L ALPHABET UTILISE\n",
      " ET A L ORDRE DANS LE.UEL CELUI CI EST ECRIT !\n"
     ]
    }
   ],
   "source": [
    "alphabet = \"ABCDEFGHIJKLMNOPQRSTUVWXYZ  ,;!?  \"\n",
    "#Le décalage est de -11 donc on met \",\" 11 lettres plus loin que le R et \"!\" 10 lettres après le T \n",
    "#Pour les ajustements , on enlève à chaque fois un espace là où il faut \n",
    "\n",
    "print(rot(phrase,decalage,alphabet))"
   ]
  },
  {
   "cell_type": "markdown",
   "metadata": {},
   "source": [
    "On déduit aussi que . correspond à la lettre Q , on fait toujours attention à respecter les décalages entre les autres lettres."
   ]
  },
  {
   "cell_type": "code",
   "execution_count": 15,
   "metadata": {},
   "outputs": [
    {
     "name": "stdout",
     "output_type": "stream",
     "text": [
      "EXEMPLE UN PEU PLUS REALISTE... EN GENERAL IL \n",
      "FAUT FAIRE TRES ATTENTION A L ALPHABET UTILISE\n",
      " ET A L ORDRE DANS LEQUEL CELUI CI EST ECRIT !\n"
     ]
    }
   ],
   "source": [
    "alphabet = \"ABCDEFGHIJKLMNOPQRSTUVWXYZ .,;!?  \"\n",
    "#Le décalage est de -11 donc on met \",\" 11 lettres plus loin que le R et \"!\" 10 lettres après le T \n",
    "#Pour les ajustements , on enlève à chaque fois un espace là où il faut \n",
    "\n",
    "print(rot(phrase,decalage,alphabet))"
   ]
  },
  {
   "cell_type": "markdown",
   "metadata": {},
   "source": [
    "Il reste 2 espaces à compléter, il manque les apostrophes et le -\n",
    "\n",
    "On complète notre alphabet pour finalement trouver le message suivant : "
   ]
  },
  {
   "cell_type": "code",
   "execution_count": 16,
   "metadata": {},
   "outputs": [
    {
     "name": "stdout",
     "output_type": "stream",
     "text": [
      "EXEMPLE UN PEU PLUS REALISTE... EN GENERAL IL \n",
      "FAUT FAIRE TRES ATTENTION A L'ALPHABET UTILISE\n",
      " ET A L'ORDRE DANS LEQUEL CELUI-CI EST ECRIT !\n"
     ]
    }
   ],
   "source": [
    "alphabet = \"ABCDEFGHIJKLMNOPQRSTUVWXYZ .,;!?'-\"\n",
    "print(rot(phrase,decalage,alphabet))"
   ]
  },
  {
   "cell_type": "markdown",
   "metadata": {},
   "source": [
    "# La méthode RSA comme méthode de signature numérique"
   ]
  },
  {
   "cell_type": "markdown",
   "metadata": {},
   "source": [
    "L’algorithme RSA est un algorithme de cryptographie asymétrique. Asymétrique signifie en fait qu’il fonctionne sur deux clés différentes, à savoir la clé publique et la clé privée. Comme son nom l’indique, la clé publique est donnée à tout le monde et la clé privée reste privée.\n",
    "\n",
    "Un exemple de cryptographie asymétrique:\n",
    "\n",
    "- Un client (par exemple un navigateur) envoie sa clé publique au serveur et demande certaines données.\n",
    "- Le serveur crypte les données à l’aide de la clé publique du client et envoie les données cryptées.\n",
    "- Le client reçoit ces données et les déchiffre.\n",
    " \n",
    "Comme cela est asymétrique, personne d’autre que le navigateur ne peut décrypter les données même si un tiers possède la clé publique du navigateur.\n",
    "\n",
    "\n",
    "Un algorithme de <a href=\"https://fr.wikipedia.org/wiki/Signature_num%C3%A9rique\">signature numérique</a> utilise un système de clé publique $(n, e)$. \n",
    "L’émetteur prévu signe son message avec sa clé privée $(n,d)$ et le récepteur prévu le vérifie avec la clé publique de l’émetteur. \n",
    "\n",
    "Une signature numérique peut fournir des services d’authentification de message, d’intégrité de message et de non-répudiation.\n",
    " "
   ]
  },
  {
   "cell_type": "markdown",
   "metadata": {},
   "source": [
    "# EXERCICE 5"
   ]
  },
  {
   "cell_type": "markdown",
   "metadata": {},
   "source": [
    "Les signatures numériques sont utilisées pour vérifier l’authenticité du message envoyé par voie électronique.\n",
    "\n",
    "Implementer un algorithme de signature numérique en suivant les étapes ci-dessous."
   ]
  },
  {
   "cell_type": "markdown",
   "metadata": {},
   "source": [
    "a) Choisir deux grands nombres premiers $p$ et $q$"
   ]
  },
  {
   "cell_type": "code",
   "execution_count": 17,
   "metadata": {},
   "outputs": [],
   "source": [
    "p = 2591\n",
    "q = 3413"
   ]
  },
  {
   "cell_type": "markdown",
   "metadata": {},
   "source": [
    "b) Calculer $n = p * q$"
   ]
  },
  {
   "cell_type": "code",
   "execution_count": 18,
   "metadata": {},
   "outputs": [
    {
     "data": {
      "text/plain": [
       "8843083"
      ]
     },
     "execution_count": 18,
     "metadata": {},
     "output_type": "execute_result"
    }
   ],
   "source": [
    "n = p*q\n",
    "n"
   ]
  },
  {
   "cell_type": "markdown",
   "metadata": {},
   "source": [
    "c) Sélectionner une clé publique. Y-a-il une contrainte sur le choix de cette clé ? Si oui, lequel et pourquoi ?"
   ]
  },
  {
   "cell_type": "markdown",
   "metadata": {},
   "source": [
    "Il y a une contrainte, il faut que le PGCD entre l'exposant e et la fonction indicatrice de n soit égal à 1 et que e soit strictement inférieur à φ(n), l'indicatrice d'Euler.\n",
    "\n",
    "Comme e est premier avec φ(n), d'après le théorème de Bézout il existe deux entiers d et k tels que ed = 1 + kφ(n), c'est-à-dire que ed ≡ 1 (mod φ(n)) : e est bien inversible modulo φ(n)."
   ]
  },
  {
   "cell_type": "code",
   "execution_count": 19,
   "metadata": {},
   "outputs": [
    {
     "name": "stdout",
     "output_type": "stream",
     "text": [
      "Pgcd(φ(n),e) =  1\n",
      "\n",
      "Le PGCD est bien égal à 1, e est donc un exposant valide , e est bien inversible modulo φ(n).\n"
     ]
    }
   ],
   "source": [
    "phi_euler = (p-1) * (q-1)\n",
    "e = 311\n",
    "\n",
    "print(\"Pgcd(φ(n),e) = \",gcd(e, phi_euler))\n",
    "\n",
    "print(\"\\nLe PGCD est bien égal à 1, e est donc un exposant valide , e est bien inversible modulo φ(n).\")"
   ]
  },
  {
   "cell_type": "markdown",
   "metadata": {},
   "source": [
    "d) Calculer la clé privé."
   ]
  },
  {
   "cell_type": "markdown",
   "metadata": {},
   "source": [
    "La clé privé correspond à l'inverse de l'exposant e modulo phi(n), pour cela on utilise la fonction inverse_mod() de sagemath"
   ]
  },
  {
   "cell_type": "code",
   "execution_count": 20,
   "metadata": {},
   "outputs": [
    {
     "name": "stdout",
     "output_type": "stream",
     "text": [
      "d = 6478631\n"
     ]
    }
   ],
   "source": [
    "d = inverse_mod(e, phi_euler)\n",
    "print(\"d =\",d)"
   ]
  },
  {
   "cell_type": "markdown",
   "metadata": {},
   "source": [
    "e) Créer la signature numérique en cryptant le message M suivant :\n",
    "\n",
    "    M = 19070\n",
    "   "
   ]
  },
  {
   "cell_type": "code",
   "execution_count": 21,
   "metadata": {},
   "outputs": [
    {
     "name": "stdout",
     "output_type": "stream",
     "text": [
      "C = 74924\n"
     ]
    }
   ],
   "source": [
    "M = 19070\n",
    "\n",
    "C = M.powermod(e, n) # C ≡ M^e (mod n) , M le message à crypter , l'entier naturel C est strictement inférieur à n\n",
    "\n",
    "# Ou alors C = power_mod(M,d,n)\n",
    "\n",
    "print(\"C =\",C)"
   ]
  },
  {
   "cell_type": "markdown",
   "metadata": {},
   "source": [
    "f) Vous envoyez le message et la signature.\n",
    "\n",
    "La personne qui recoit le message, vérifie que le message recu correspond bien au message envoyé."
   ]
  },
  {
   "cell_type": "code",
   "execution_count": 22,
   "metadata": {},
   "outputs": [
    {
     "name": "stdout",
     "output_type": "stream",
     "text": [
      "M = 19070\n"
     ]
    }
   ],
   "source": [
    "M = C.powermod(d, n)# M ≡ C^d (mod n) , M le message à décrypter \n",
    "print(\"M =\",M)"
   ]
  }
 ],
 "metadata": {
  "kernelspec": {
   "display_name": "SageMath 9.1",
   "language": "sage",
   "name": "sagemath"
  },
  "language_info": {
   "codemirror_mode": {
    "name": "ipython",
    "version": 3
   },
   "file_extension": ".py",
   "mimetype": "text/x-python",
   "name": "python",
   "nbconvert_exporter": "python",
   "pygments_lexer": "ipython3",
   "version": "3.7.3"
  }
 },
 "nbformat": 4,
 "nbformat_minor": 1
}
