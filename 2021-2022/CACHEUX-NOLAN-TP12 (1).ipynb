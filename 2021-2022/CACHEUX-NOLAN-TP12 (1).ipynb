{
 "cells": [
  {
   "cell_type": "markdown",
   "metadata": {},
   "source": [
    "# TP 12 : Diagonalisation"
   ]
  },
  {
   "cell_type": "markdown",
   "metadata": {},
   "source": [
    "Consignes :\n",
    "\n",
    "- Renommer ce fichier <b>nom1-nom2-TP12</b> , en cliquant sur le titre du fichier \"TP 12 : Diagonalisation\" en haut à gauche\n",
    "\n",
    "\n",
    "\n",
    "- <center>ATTENTION : </center>\n",
    "    \n",
    "  <u>   <center> le TP est à rendre dans le devoir Teams à la fin de la séance. </center> </u>\n",
    "    \n",
    " \n",
    "    \n",
    "    \n",
    "    \n",
    "- TP à faire par groupes de 2. Le groupe de travail sera le même pour toute l'année.\n",
    "\n",
    "\n",
    "  Cliquer deux fois sur la cellule pour completer ci-dessous :\n",
    "\n",
    "- NOM PRENOM : CACHEUX Nolan\n",
    "- NOM PRENOM : MERLAUD Thomas\n"
   ]
  },
  {
   "cell_type": "markdown",
   "metadata": {},
   "source": [
    "# Espaces vectoriels"
   ]
  },
  {
   "cell_type": "markdown",
   "metadata": {},
   "source": [
    "La commande `VectorSpace(K,n)` permet de définir l'espace vectoriel $\\mathbb{K}^n$.\n",
    "\n",
    "Par exemple on peut définir :\n",
    "\n"
   ]
  },
  {
   "cell_type": "code",
   "execution_count": 50,
   "metadata": {},
   "outputs": [
    {
     "data": {
      "text/plain": [
       "Vector space of dimension 3 over Rational Field"
      ]
     },
     "execution_count": 50,
     "metadata": {},
     "output_type": "execute_result"
    }
   ],
   "source": [
    "E = VectorSpace(QQ,3) #ou plus simplement : E = QQ^3\n",
    "E"
   ]
  },
  {
   "cell_type": "markdown",
   "metadata": {},
   "source": [
    "La commande `MatrixSpace(K,n,p)` permet de définir l'espace des matrices à  $n$  lignes et  $p$  colonnes à coefficients dans  $\\mathbb{K}$  :"
   ]
  },
  {
   "cell_type": "code",
   "execution_count": 51,
   "metadata": {},
   "outputs": [
    {
     "data": {
      "text/plain": [
       "Full MatrixSpace of 2 by 2 dense matrices over Rational Field"
      ]
     },
     "execution_count": 51,
     "metadata": {},
     "output_type": "execute_result"
    }
   ],
   "source": [
    "M22Q = MatrixSpace(QQ,2,2) ;  M22Q"
   ]
  },
  {
   "cell_type": "markdown",
   "metadata": {},
   "source": [
    "La dimension d'un espace peut être obtenue par `E.dimension()`"
   ]
  },
  {
   "cell_type": "code",
   "execution_count": 52,
   "metadata": {},
   "outputs": [
    {
     "data": {
      "text/plain": [
       "3"
      ]
     },
     "execution_count": 52,
     "metadata": {},
     "output_type": "execute_result"
    }
   ],
   "source": [
    "E.dimension()"
   ]
  },
  {
   "cell_type": "code",
   "execution_count": 53,
   "metadata": {},
   "outputs": [
    {
     "data": {
      "text/plain": [
       "4"
      ]
     },
     "execution_count": 53,
     "metadata": {},
     "output_type": "execute_result"
    }
   ],
   "source": [
    "M22Q.dimension()"
   ]
  },
  {
   "cell_type": "markdown",
   "metadata": {},
   "source": [
    "Tout espace vectoriel possède une base canonique.\n"
   ]
  },
  {
   "cell_type": "code",
   "execution_count": 54,
   "metadata": {},
   "outputs": [
    {
     "data": {
      "text/plain": [
       "[\n",
       "(1, 0, 0),\n",
       "(0, 1, 0),\n",
       "(0, 0, 1)\n",
       "]"
      ]
     },
     "execution_count": 54,
     "metadata": {},
     "output_type": "execute_result"
    }
   ],
   "source": [
    "E.basis()"
   ]
  },
  {
   "cell_type": "code",
   "execution_count": 55,
   "metadata": {},
   "outputs": [
    {
     "data": {
      "text/plain": [
       "Finite family {(0, 0): [1 0]\n",
       "[0 0], (0, 1): [0 1]\n",
       "[0 0], (1, 0): [0 0]\n",
       "[1 0], (1, 1): [0 0]\n",
       "[0 1]}"
      ]
     },
     "execution_count": 55,
     "metadata": {},
     "output_type": "execute_result"
    }
   ],
   "source": [
    "M22Q.basis()"
   ]
  },
  {
   "cell_type": "markdown",
   "metadata": {},
   "source": [
    "La méthode `coordinates` donne les coordonnées d'un vecteur dans la base utilisateur."
   ]
  },
  {
   "cell_type": "code",
   "execution_count": 56,
   "metadata": {},
   "outputs": [
    {
     "data": {
      "text/plain": [
       "[3, 2, 6]"
      ]
     },
     "execution_count": 56,
     "metadata": {},
     "output_type": "execute_result"
    }
   ],
   "source": [
    "w = vector([3,2,6])\n",
    "E.coordinates(w) # sous forme de liste"
   ]
  },
  {
   "cell_type": "code",
   "execution_count": 57,
   "metadata": {},
   "outputs": [
    {
     "data": {
      "text/plain": [
       "(3, 2, 6)"
      ]
     },
     "execution_count": 57,
     "metadata": {},
     "output_type": "execute_result"
    }
   ],
   "source": [
    "E.coordinate_vector(w) # sous forme de vecteur"
   ]
  },
  {
   "cell_type": "markdown",
   "metadata": {},
   "source": [
    "On peut utiliser une base différente de celle canonique en utilisant `subspace_with_basis`"
   ]
  },
  {
   "cell_type": "code",
   "execution_count": 58,
   "metadata": {},
   "outputs": [
    {
     "name": "stdout",
     "output_type": "stream",
     "text": [
      "Vector space of dimension 2 over Rational Field\n",
      "[\n",
      "(1, 0),\n",
      "(0, 1)\n",
      "]\n"
     ]
    },
    {
     "data": {
      "text/plain": [
       "Vector space of degree 2 and dimension 2 over Rational Field\n",
       "User basis matrix:\n",
       "[ 1  1]\n",
       "[ 1 -1]"
      ]
     },
     "execution_count": 58,
     "metadata": {},
     "output_type": "execute_result"
    }
   ],
   "source": [
    "F = VectorSpace(QQ,2) ; \n",
    "print(F)\n",
    "print(F.basis())\n",
    "\n",
    "e1p = vector([1,1])\n",
    "e2p = vector([1,-1])\n",
    "\n",
    "G = F.subspace_with_basis([e1p,e2p]) ;  #on crée un \"autre\" espace avec la nouvelle base\n",
    "G"
   ]
  },
  {
   "cell_type": "code",
   "execution_count": 59,
   "metadata": {},
   "outputs": [
    {
     "data": {
      "text/plain": [
       "[-2, 1]"
      ]
     },
     "execution_count": 59,
     "metadata": {},
     "output_type": "execute_result"
    }
   ],
   "source": [
    "u = vector([-2,1])\n",
    "F.coordinates(u)"
   ]
  },
  {
   "cell_type": "code",
   "execution_count": 60,
   "metadata": {},
   "outputs": [
    {
     "data": {
      "text/plain": [
       "[-1/2, -3/2]"
      ]
     },
     "execution_count": 60,
     "metadata": {},
     "output_type": "execute_result"
    }
   ],
   "source": [
    "G.coordinates(u)"
   ]
  },
  {
   "cell_type": "code",
   "execution_count": 61,
   "metadata": {},
   "outputs": [
    {
     "data": {
      "text/plain": [
       "[-2, 1]"
      ]
     },
     "execution_count": 61,
     "metadata": {},
     "output_type": "execute_result"
    }
   ],
   "source": [
    "G.echelon_coordinates(u) #donne les coordonnées dans la base canonique"
   ]
  },
  {
   "cell_type": "markdown",
   "metadata": {},
   "source": [
    "# EXERCICE 1"
   ]
  },
  {
   "cell_type": "markdown",
   "metadata": {},
   "source": [
    "Dans  $\\mathbb{R}^3$  muni de sa base canonique  $B=\\{i,j,k\\}$ , on considère les vecteurs suivants : $ u=2i−j+k$, $ v=i+2j−k $ et  $w=i+j−3k $.\n",
    "\n",
    "Montrer que la famille  $\\{u,v,w\\} $ est une base de   $\\mathbb{R}^3$  et déterminer les coordonnées du vecteur  $x=2i+3j+4k$  dans la base $ B′=\\{u,v,w\\}$ ."
   ]
  },
  {
   "cell_type": "code",
   "execution_count": 62,
   "metadata": {},
   "outputs": [
    {
     "data": {
      "text/html": [
       "<html><script type=\"math/tex; mode=display\">\\newcommand{\\Bold}[1]{\\mathbf{#1}}-13</script></html>"
      ],
      "text/plain": [
       "-13"
      ]
     },
     "metadata": {},
     "output_type": "display_data"
    },
    {
     "name": "stdout",
     "output_type": "stream",
     "text": [
      "Le déterminant est différent de 0 donc la famille munies des trois vecteurs {u,v,w} est libre et donc forme une base dans R3\n"
     ]
    }
   ],
   "source": [
    "u = (2, -1, 1)\n",
    "v = (1, 2, -1)\n",
    "w = (1, 1, -3)\n",
    "A = matrix(3,3, [u,v,w])\n",
    "#Affichage du determinant de A\n",
    "show(det(A))\n",
    "print(\"Le déterminant est différent de 0 donc la famille munies des trois vecteurs {u,v,w} est libre et donc forme une base dans R3\")"
   ]
  },
  {
   "cell_type": "code",
   "execution_count": 63,
   "metadata": {},
   "outputs": [
    {
     "data": {
      "text/html": [
       "<html><script type=\"math/tex; mode=display\">\\newcommand{\\Bold}[1]{\\mathbf{#1}}\\left[\\frac{8}{13}, \\frac{37}{13}, -\\frac{27}{13}\\right]</script></html>"
      ],
      "text/plain": [
       "[8/13, 37/13, -27/13]"
      ]
     },
     "metadata": {},
     "output_type": "display_data"
    },
    {
     "name": "stdout",
     "output_type": "stream",
     "text": [
      "On calcule A*X :  (5, 4, -7)\n"
     ]
    }
   ],
   "source": [
    "Q = VectorSpace(QQ,3)\n",
    "Bprim = Q.subspace_with_basis([u,v,w])\n",
    "\n",
    "#on crée un \"autre\" espace avec la nouvelle base\n",
    "#On peut utiliser une base différente de celle canonique en utilisant subspace_with_basis\n",
    "\n",
    "x = vector([2, 3, 4])\n",
    "F = Bprim.coordinates(x)\n",
    "\n",
    "#Affichage des coordonnées du vecteur x dans la nouvelle base \n",
    "show(F)\n",
    "print(\"On calcule A*X : \",A*x)"
   ]
  },
  {
   "cell_type": "markdown",
   "metadata": {},
   "source": [
    "# Valeurs propres, vecteurs propres, diagonalisation"
   ]
  },
  {
   "cell_type": "markdown",
   "metadata": {},
   "source": [
    "Comment utiliser Sage pour diagonaliser une matrice, c'est-à-dire chercher une matrice  $P$  inversible telle que  $P^{−1}AP$  soit diagonale ?\n",
    "\n",
    "Pour les valeurs propres :\n",
    "\n",
    "- On définit la matrice : `A=matrix(.....)`\n",
    "- On calcule le polynôme caracteristique : `det(x-A)` ou `charpoly(A)` (ou  `A.characteristic_polynomial())` \n",
    "- On factorise le polynôme caracteristique pour lire les valeurs propres de  $A$  (`factor(det(x-A))` ou `factor(charpoly(A))`)\n",
    "  et on vérifie le calcul des valeurs propres avec la commande de Sage (`A.eigenvalues()`  (\"eigen = propre en allemand\"))\n",
    "\n",
    "Pour les vecteurs propres :\n",
    "\n",
    "- On calcule le vecteur propre pour chaque valeur propre : `A.kernel()` (`help(kernel)`) \n",
    "- Attention : `A.kernel()`  calcule par défaut le noyau à gauche de  $A$ , i.e. l'ensemble des vecteurs (lignes)  $v$  tels que  $vA=0$ . Donc on explicite celui qui nous intéresse: `left_kernel()` ou `right_kernel()`.\n",
    "- Pour extraire le vecteur : `(A - lambda).right_kernel().basis()`\n",
    "- Si elle est diagonalisable, on crée la matrice de passage $ P$  de la base canonique vers une base  $B$  formée par les vecteurs propres.\n",
    "- On vérifie que  $P^{−1}AP$   soit une matrice diagonale"
   ]
  },
  {
   "cell_type": "markdown",
   "metadata": {},
   "source": [
    "# EXERCICE 2"
   ]
  },
  {
   "cell_type": "markdown",
   "metadata": {},
   "source": [
    "Considérons l'application linéaire associée à la matrice  $A$  suivante :  $\\left[\\begin{matrix} 4 & 1 & -4 \\\\ 8 & 3 & -10 \\\\ 5 & 1 & -5 \\end{matrix}\\right].$\n",
    "\n",
    "Exprimer $A$ dans une nouvelle base, afin que que la nouvelle matrice soit diagonale.\n",
    "\n",
    "<u>Décrire et commenter étape par étape votre raisonnement et vos calculs."
   ]
  },
  {
   "cell_type": "code",
   "execution_count": 64,
   "metadata": {},
   "outputs": [
    {
     "name": "stdout",
     "output_type": "stream",
     "text": [
      "On crée la matrice A :\n"
     ]
    },
    {
     "data": {
      "text/html": [
       "<html><script type=\"math/tex; mode=display\">\\newcommand{\\Bold}[1]{\\mathbf{#1}}\\left(\\begin{array}{rrr}\n",
       "4 & 1 & -4 \\\\\n",
       "8 & 3 & -10 \\\\\n",
       "5 & 1 & -5\n",
       "\\end{array}\\right)</script></html>"
      ],
      "text/plain": [
       "[  4   1  -4]\n",
       "[  8   3 -10]\n",
       "[  5   1  -5]"
      ]
     },
     "metadata": {},
     "output_type": "display_data"
    },
    {
     "name": "stdout",
     "output_type": "stream",
     "text": [
      "On calcule le polynôme caractéristique :  x^3 - 2*x^2 - x + 2\n",
      "\n",
      "On factorise le polynôme caracteristique pour lire les valeurs propres de  A :\n",
      " (x - 2) * (x - 1) * (x + 1)\n",
      "\n",
      "On vérifie le calcul des valeurs propres avec la commande de Sage A.eigenvalues() :  [2, 1, -1]\n",
      "\n",
      "Donc les valeurs propres sont :  2 , 1 et -1\n",
      "\n",
      "On calcule le vecteur propre pour chaque valeur propre :\n",
      "\n",
      "Pour λ1 = 2 ,le vecteur propre est :\n",
      " [\n",
      "(1, 2, 1)\n",
      "] \n",
      "\n",
      "Pour λ2 = 1 ,le vecteur propre est :\n",
      " [\n",
      "(1, 1, 1)\n",
      "] \n",
      "\n",
      "Pour λ3 = -1 ,le vecteur propre est :\n",
      " [\n",
      "(1, 3, 2)\n",
      "] \n",
      "\n",
      "Si elle est diagonalisable, on crée la matrice de passage  P  de la base canonique vers une base  B  formée par les vecteurs propres.\n",
      "\n",
      "La matrice de passage :\n"
     ]
    },
    {
     "data": {
      "text/html": [
       "<html><script type=\"math/tex; mode=display\">\\newcommand{\\Bold}[1]{\\mathbf{#1}}\\left(\\begin{array}{rrr}\n",
       "1 & 1 & 1 \\\\\n",
       "2 & 1 & 3 \\\\\n",
       "1 & 1 & 2\n",
       "\\end{array}\\right)</script></html>"
      ],
      "text/plain": [
       "[1 1 1]\n",
       "[2 1 3]\n",
       "[1 1 2]"
      ]
     },
     "metadata": {},
     "output_type": "display_data"
    },
    {
     "name": "stdout",
     "output_type": "stream",
     "text": [
      "On vérifie que  P^−1*A*P  soit une matrice diagonale :\n"
     ]
    },
    {
     "data": {
      "text/html": [
       "<html><script type=\"math/tex; mode=display\">\\newcommand{\\Bold}[1]{\\mathbf{#1}}\\left(\\begin{array}{rrr}\n",
       "2 & 0 & 0 \\\\\n",
       "0 & 1 & 0 \\\\\n",
       "0 & 0 & -1\n",
       "\\end{array}\\right)</script></html>"
      ],
      "text/plain": [
       "[ 2  0  0]\n",
       "[ 0  1  0]\n",
       "[ 0  0 -1]"
      ]
     },
     "metadata": {},
     "output_type": "display_data"
    }
   ],
   "source": [
    "A = matrix([[4,1,-4],[8,3,-10],[5,1,-5]])\n",
    "print(\"On crée la matrice A :\")\n",
    "show(A)\n",
    "print(\"On calcule le polynôme caractéristique : \",charpoly(A))\n",
    "\n",
    "print(\"\\nOn factorise le polynôme caracteristique pour lire les valeurs propres de  A :\\n\",factor(charpoly(A))) \n",
    "print(\"\\nOn vérifie le calcul des valeurs propres avec la commande de Sage A.eigenvalues() : \",A.eigenvalues())\n",
    "print(\"\\nDonc les valeurs propres sont : \",A.eigenvalues()[0],\",\",A.eigenvalues()[1],\"et\",A.eigenvalues()[2])\n",
    "\n",
    "print(\"\\nOn calcule le vecteur propre pour chaque valeur propre :\\n\")\n",
    "print(\"Pour λ1 =\",A.eigenvalues()[0],\",le vecteur propre est :\\n\",(A - A.eigenvalues()[0]).right_kernel().basis(),\"\\n\")\n",
    "print(\"Pour λ2 =\",A.eigenvalues()[1],\",le vecteur propre est :\\n\",(A - A.eigenvalues()[1]).right_kernel().basis(),\"\\n\")\n",
    "print(\"Pour λ3 =\",A.eigenvalues()[2],\",le vecteur propre est :\\n\",(A - A.eigenvalues()[2]).right_kernel().basis(),\"\\n\")\n",
    "\n",
    "print(\"Si elle est diagonalisable, on crée la matrice de passage  P  de la base canonique vers une base  B  formée par les vecteurs propres.\")\n",
    "print(\"\\nLa matrice de passage :\")\n",
    "P = matrix([[1, 2, 1],[1, 1, 1],[1, 3, 2]]).transpose()\n",
    "show(P)\n",
    "\n",
    "print(\"On vérifie que  P^−1*A*P  soit une matrice diagonale :\")\n",
    "show(P.inverse()*A*P)"
   ]
  },
  {
   "cell_type": "markdown",
   "metadata": {},
   "source": [
    "# EXERCICE 3"
   ]
  },
  {
   "cell_type": "markdown",
   "metadata": {},
   "source": [
    "a) Écrire une fonction `diagonalize(A)` qui renvoie une liste $[D, P]$ formée d'une matrice diagonale  $D$  et d'une matrice inversible  $P$  telle que  $P^{-1}AP=D$ ; si la matrice n'est pas diagonalisable, un message d'erreur est affiché."
   ]
  },
  {
   "cell_type": "code",
   "execution_count": 65,
   "metadata": {},
   "outputs": [],
   "source": [
    "\"\"\"\n",
    "Une matrice est diagonalisable si et seulement si :\n",
    "\n",
    "Son polynôme caractéristique est scindé et\n",
    "pour toute valeur propre, la multiplicité géométrique est égale à la multiplicité algébrique.\n",
    "Une matrice carrée n×n est diagonalisable si et seulement si elle possède n vecteurs propres formant une base\n",
    "\n",
    "\"\"\"\n",
    "\n",
    "def diagonalize(A):\n",
    "    valeurs_propres = A.eigenvalues()\n",
    "    valeurs_propres_liste = []\n",
    "    vecteurs_propres_liste = []\n",
    "    \n",
    "    for i in range(len(valeurs_propres)):\n",
    "        \n",
    "        valeur_propre_actuel = valeurs_propres[i]\n",
    "        \n",
    "        if (not valeur_propre_actuel in valeurs_propres_liste):\n",
    "            #on vérifie que la valeur propre ne fait pas déjà partie de notre liste\n",
    "            \n",
    "            vecteur_propre_actuel = (A - valeur_propre_actuel * matrix.identity(A.nrows())).right_kernel().basis()\n",
    "            \n",
    "            for i in range (len(vecteur_propre_actuel)):\n",
    "                valeurs_propres_liste.append(valeur_propre_actuel)\n",
    "                \n",
    "            vecteurs_propres_liste += vecteur_propre_actuel\n",
    "    \n",
    "    P = matrix(vecteurs_propres_liste).transpose()\n",
    "    if (P.rank() != A.nrows()):\n",
    "            return \"Cette matrice n'est pas diagonalisable\"\n",
    "\n",
    "    D = diagonal_matrix(valeurs_propres_liste)\n",
    "    return [D, P]\n",
    "    "
   ]
  },
  {
   "cell_type": "markdown",
   "metadata": {},
   "source": [
    "b) Essayer votre fonction sur les matrices suivantes (comparer avec `A.right_eigenmatrix())`."
   ]
  },
  {
   "cell_type": "code",
   "execution_count": 66,
   "metadata": {},
   "outputs": [
    {
     "data": {
      "text/plain": [
       "[1 2]\n",
       "[0 2]"
      ]
     },
     "execution_count": 66,
     "metadata": {},
     "output_type": "execute_result"
    }
   ],
   "source": [
    "A1 = matrix(QQ, [[1, 2], [0,2]])\n",
    "A1"
   ]
  },
  {
   "cell_type": "code",
   "execution_count": 67,
   "metadata": {},
   "outputs": [
    {
     "name": "stdout",
     "output_type": "stream",
     "text": [
      "Avec A.right_eigenmatrix()) :\n"
     ]
    },
    {
     "data": {
      "text/html": [
       "<html><script type=\"math/tex; mode=display\">\\newcommand{\\Bold}[1]{\\mathbf{#1}}\\left(\\left(\\begin{array}{rr}\n",
       "2 & 0 \\\\\n",
       "0 & 1\n",
       "\\end{array}\\right), \\left(\\begin{array}{rr}\n",
       "1 & 1 \\\\\n",
       "\\frac{1}{2} & 0\n",
       "\\end{array}\\right)\\right)</script></html>"
      ],
      "text/plain": [
       "(\n",
       "[2 0]  [  1   1]\n",
       "[0 1], [1/2   0]\n",
       ")"
      ]
     },
     "metadata": {},
     "output_type": "display_data"
    },
    {
     "name": "stdout",
     "output_type": "stream",
     "text": [
      "Avec notre fonction diagonalize() :\n"
     ]
    },
    {
     "data": {
      "text/html": [
       "<html><script type=\"math/tex; mode=display\">\\newcommand{\\Bold}[1]{\\mathbf{#1}}\\left[\\left(\\begin{array}{rr}\n",
       "2 & 0 \\\\\n",
       "0 & 1\n",
       "\\end{array}\\right), \\left(\\begin{array}{rr}\n",
       "1 & 1 \\\\\n",
       "\\frac{1}{2} & 0\n",
       "\\end{array}\\right)\\right]</script></html>"
      ],
      "text/plain": [
       "[\n",
       "[2 0]  [  1   1]\n",
       "[0 1], [1/2   0]\n",
       "]"
      ]
     },
     "metadata": {},
     "output_type": "display_data"
    }
   ],
   "source": [
    "print(\"Avec A.right_eigenmatrix()) :\")\n",
    "show(A1.right_eigenmatrix())\n",
    "print(\"Avec notre fonction diagonalize() :\")\n",
    "show(diagonalize(A1))"
   ]
  },
  {
   "cell_type": "code",
   "execution_count": 68,
   "metadata": {},
   "outputs": [
    {
     "data": {
      "text/plain": [
       "[  16    9   83  -33  -24    8]\n",
       "[  13    5   56  -27  -18    4]\n",
       "[  37   29  236  -83  -64   26]\n",
       "[ -66  -45 -385  145  108  -40]\n",
       "[ 221  157 1323 -487 -367  140]\n",
       "[ -40  -40 -302   96   78  -36]"
      ]
     },
     "execution_count": 68,
     "metadata": {},
     "output_type": "execute_result"
    }
   ],
   "source": [
    "A2 = matrix(QQ, [[16,9,83,-33,-24,8], [13,5,56,-27,-18,4], [37,29,236,-83,-64,26], [-66,-45,-385,145,108,-40], [221,157,1323,-487,-367,140], [-40,-40,-302,96,78,-36]])\n",
    "A2"
   ]
  },
  {
   "cell_type": "code",
   "execution_count": 69,
   "metadata": {},
   "outputs": [
    {
     "name": "stdout",
     "output_type": "stream",
     "text": [
      "Avec A.right_eigenmatrix()) :\n"
     ]
    },
    {
     "data": {
      "text/html": [
       "<html><script type=\"math/tex; mode=display\">\\newcommand{\\Bold}[1]{\\mathbf{#1}}\\left(\\left(\\begin{array}{rrrrrr}\n",
       "-1 & 0 & 0 & 0 & 0 & 0 \\\\\n",
       "0 & -2 & 0 & 0 & 0 & 0 \\\\\n",
       "0 & 0 & 1 & 0 & 0 & 0 \\\\\n",
       "0 & 0 & 0 & 1 & 0 & 0 \\\\\n",
       "0 & 0 & 0 & 0 & 0 & 0 \\\\\n",
       "0 & 0 & 0 & 0 & 0 & 0\n",
       "\\end{array}\\right), \\left(\\begin{array}{rrrrrr}\n",
       "1 & 1 & 1 & 0 & 1 & 0 \\\\\n",
       "1 & 0 & 0 & 1 & 0 & 1 \\\\\n",
       "3 & 5 & 2 & -1 & 7 & -2 \\\\\n",
       "-5 & -7 & -3 & -2 & -11 & 3 \\\\\n",
       "17 & 25 & 11 & 1 & 37 & -10 \\\\\n",
       "-4 & -8 & -2 & 4 & -9 & 2\n",
       "\\end{array}\\right)\\right)</script></html>"
      ],
      "text/plain": [
       "(\n",
       "[-1  0  0  0  0  0]  [  1   1   1   0   1   0]\n",
       "[ 0 -2  0  0  0  0]  [  1   0   0   1   0   1]\n",
       "[ 0  0  1  0  0  0]  [  3   5   2  -1   7  -2]\n",
       "[ 0  0  0  1  0  0]  [ -5  -7  -3  -2 -11   3]\n",
       "[ 0  0  0  0  0  0]  [ 17  25  11   1  37 -10]\n",
       "[ 0  0  0  0  0  0], [ -4  -8  -2   4  -9   2]\n",
       ")"
      ]
     },
     "metadata": {},
     "output_type": "display_data"
    },
    {
     "name": "stdout",
     "output_type": "stream",
     "text": [
      "Avec notre fonction diagonalize() :\n"
     ]
    },
    {
     "data": {
      "text/html": [
       "<html><script type=\"math/tex; mode=display\">\\newcommand{\\Bold}[1]{\\mathbf{#1}}\\left[\\left(\\begin{array}{rrrrrr}\n",
       "-1 & 0 & 0 & 0 & 0 & 0 \\\\\n",
       "0 & -2 & 0 & 0 & 0 & 0 \\\\\n",
       "0 & 0 & 1 & 0 & 0 & 0 \\\\\n",
       "0 & 0 & 0 & 1 & 0 & 0 \\\\\n",
       "0 & 0 & 0 & 0 & 0 & 0 \\\\\n",
       "0 & 0 & 0 & 0 & 0 & 0\n",
       "\\end{array}\\right), \\left(\\begin{array}{rrrrrr}\n",
       "1 & 1 & 1 & 0 & 1 & 0 \\\\\n",
       "1 & 0 & 0 & 1 & 0 & 1 \\\\\n",
       "3 & 5 & 2 & -1 & 7 & -2 \\\\\n",
       "-5 & -7 & -3 & -2 & -11 & 3 \\\\\n",
       "17 & 25 & 11 & 1 & 37 & -10 \\\\\n",
       "-4 & -8 & -2 & 4 & -9 & 2\n",
       "\\end{array}\\right)\\right]</script></html>"
      ],
      "text/plain": [
       "[\n",
       "[-1  0  0  0  0  0]  [  1   1   1   0   1   0]\n",
       "[ 0 -2  0  0  0  0]  [  1   0   0   1   0   1]\n",
       "[ 0  0  1  0  0  0]  [  3   5   2  -1   7  -2]\n",
       "[ 0  0  0  1  0  0]  [ -5  -7  -3  -2 -11   3]\n",
       "[ 0  0  0  0  0  0]  [ 17  25  11   1  37 -10]\n",
       "[ 0  0  0  0  0  0], [ -4  -8  -2   4  -9   2]\n",
       "]"
      ]
     },
     "metadata": {},
     "output_type": "display_data"
    }
   ],
   "source": [
    "print(\"Avec A.right_eigenmatrix()) :\")\n",
    "show(A2.right_eigenmatrix())\n",
    "print(\"Avec notre fonction diagonalize() :\")\n",
    "show(diagonalize(A2))"
   ]
  },
  {
   "cell_type": "code",
   "execution_count": 70,
   "metadata": {},
   "outputs": [
    {
     "data": {
      "text/plain": [
       "[5 2]\n",
       "[0 5]"
      ]
     },
     "execution_count": 70,
     "metadata": {},
     "output_type": "execute_result"
    }
   ],
   "source": [
    "A3 = matrix(QQ, [[5, 2], [0,5]])\n",
    "A3"
   ]
  },
  {
   "cell_type": "code",
   "execution_count": 71,
   "metadata": {},
   "outputs": [
    {
     "name": "stdout",
     "output_type": "stream",
     "text": [
      "Avec A.right_eigenmatrix()) :\n"
     ]
    },
    {
     "data": {
      "text/html": [
       "<html><script type=\"math/tex; mode=display\">\\newcommand{\\Bold}[1]{\\mathbf{#1}}\\left(\\left(\\begin{array}{rr}\n",
       "5 & 0 \\\\\n",
       "0 & 5\n",
       "\\end{array}\\right), \\left(\\begin{array}{rr}\n",
       "1 & 0 \\\\\n",
       "0 & 0\n",
       "\\end{array}\\right)\\right)</script></html>"
      ],
      "text/plain": [
       "(\n",
       "[5 0]  [1 0]\n",
       "[0 5], [0 0]\n",
       ")"
      ]
     },
     "metadata": {},
     "output_type": "display_data"
    },
    {
     "name": "stdout",
     "output_type": "stream",
     "text": [
      "Avec notre fonction diagonalize() :\n"
     ]
    },
    {
     "data": {
      "text/html": [
       "<html><script type=\"math/tex; mode=display\">\\newcommand{\\Bold}[1]{\\mathbf{#1}}\\verb|Cette|\\phantom{\\verb!x!}\\verb|matrice|\\phantom{\\verb!x!}\\verb|n'est|\\phantom{\\verb!x!}\\verb|pas|\\phantom{\\verb!x!}\\verb|diagonalisable|</script></html>"
      ],
      "text/plain": [
       "\"Cette matrice n'est pas diagonalisable\""
      ]
     },
     "metadata": {},
     "output_type": "display_data"
    }
   ],
   "source": [
    "print(\"Avec A.right_eigenmatrix()) :\")\n",
    "show(A3.right_eigenmatrix())\n",
    "print(\"Avec notre fonction diagonalize() :\")\n",
    "show(diagonalize(A3))"
   ]
  },
  {
   "cell_type": "markdown",
   "metadata": {},
   "source": [
    "# EXERCICE 4"
   ]
  },
  {
   "cell_type": "markdown",
   "metadata": {},
   "source": [
    "Considérons la matrice  $M$  suivante :  $\\left[\\begin{matrix} 3 & 0 & 0 \\\\ 1 & 3 & 1 \\\\ -1 & 0 & 2 \\end{matrix}\\right].$\n",
    "\n",
    "Calculer la puissance  $M^7$  en utilisant sa matrice diagonale et de passage. \n",
    "\n",
    "Écrivez aussi la relation que vous utilisez pour ce calcul."
   ]
  },
  {
   "cell_type": "code",
   "execution_count": 72,
   "metadata": {},
   "outputs": [
    {
     "name": "stdout",
     "output_type": "stream",
     "text": [
      "On calcule le polynôme caractéristique :  x^3 - 8*x^2 + 21*x - 18\n",
      "\n",
      "On factorise le polynôme caracteristique pour lire les valeurs propres de  A :\n",
      " (x - 2) * (x - 3)^2\n",
      "\n",
      "On vérifie le calcul des valeurs propres avec la commande de Sage A.eigenvalues() :  [2, 3, 3]\n",
      "\n",
      "Les valeurs propres sont :  2 , 3 et 3\n",
      "\n",
      "La matrice diagonale de M est \n"
     ]
    },
    {
     "data": {
      "text/html": [
       "<html><script type=\"math/tex; mode=display\">\\newcommand{\\Bold}[1]{\\mathbf{#1}}\\left(\\begin{array}{rrr}\n",
       "2 & 0 & 0 \\\\\n",
       "0 & 3 & 0 \\\\\n",
       "0 & 0 & 3\n",
       "\\end{array}\\right)</script></html>"
      ],
      "text/plain": [
       "[2 0 0]\n",
       "[0 3 0]\n",
       "[0 0 3]"
      ]
     },
     "metadata": {},
     "output_type": "display_data"
    },
    {
     "name": "stdout",
     "output_type": "stream",
     "text": [
      "La matrice de passage de P est \n"
     ]
    },
    {
     "data": {
      "text/html": [
       "<html><script type=\"math/tex; mode=display\">\\newcommand{\\Bold}[1]{\\mathbf{#1}}\\left(\\begin{array}{rrr}\n",
       "0 & 1 & 0 \\\\\n",
       "1 & 0 & 1 \\\\\n",
       "-1 & -1 & 0\n",
       "\\end{array}\\right)</script></html>"
      ],
      "text/plain": [
       "[ 0  1  0]\n",
       "[ 1  0  1]\n",
       "[-1 -1  0]"
      ]
     },
     "metadata": {},
     "output_type": "display_data"
    },
    {
     "name": "stdout",
     "output_type": "stream",
     "text": [
      "On sait que : M^k = P * D^k * P^-1 donc M exposant 7 : \n"
     ]
    },
    {
     "data": {
      "text/html": [
       "<html><script type=\"math/tex; mode=display\">\\newcommand{\\Bold}[1]{\\mathbf{#1}}\\left(\\begin{array}{rrr}\n",
       "2187 & 0 & 0 \\\\\n",
       "2059 & 2187 & 2059 \\\\\n",
       "-2059 & 0 & 128\n",
       "\\end{array}\\right)</script></html>"
      ],
      "text/plain": [
       "[ 2187     0     0]\n",
       "[ 2059  2187  2059]\n",
       "[-2059     0   128]"
      ]
     },
     "metadata": {},
     "output_type": "display_data"
    }
   ],
   "source": [
    "M = matrix(3,3, [[3,0,0], [1,3,1], [-1,0,2]])\n",
    "print(\"On calcule le polynôme caractéristique : \",charpoly(M))\n",
    "\n",
    "print(\"\\nOn factorise le polynôme caracteristique pour lire les valeurs propres de  A :\\n\",factor(charpoly(M))) \n",
    "print(\"\\nOn vérifie le calcul des valeurs propres avec la commande de Sage A.eigenvalues() : \",M.eigenvalues())\n",
    "print(\"\\nLes valeurs propres sont : \",M.eigenvalues()[0],\",\",M.eigenvalues()[1],\"et\",M.eigenvalues()[2])\n",
    "\n",
    "D = matrix(3,3,[[2,0,0], [0,3,0], [0,0,3]])\n",
    "P = matrix(3,3,[[0,1,0],[1,0,1],[-1,-1,0]])\n",
    "print(\"\\nLa matrice diagonale de M est \")\n",
    "show(D)\n",
    "print(\"La matrice de passage de P est \")\n",
    "show(P)\n",
    "print(\"On sait que : M^k = P * D^k * P^-1 donc M exposant 7 : \")\n",
    "show(P*D^7*P^-1)"
   ]
  },
  {
   "cell_type": "markdown",
   "metadata": {},
   "source": [
    "# EXERCICE 5 : Méthode de la puissance"
   ]
  },
  {
   "cell_type": "markdown",
   "metadata": {},
   "source": [
    "Écrire la fonction `eigpower(A,nmax,v0)` qui évalue numériquement une valeur propre d'une matrice.\n",
    "\n",
    "Elle calcule avec la méthode de la puissance la valeur propre de  $A$  de module maximal à partir d'une donnée initial qui par défaut est le vecteur constitué de 1.\n",
    "\n",
    "La fonction retourne le vecteur propre $v$ tel que  $A∗v=\\lambda∗v$  et le numéro de l'iteration à laquelle  $v$  a été calculé.\n",
    "\n",
    "Des suggestions :\n",
    "\n",
    "- Définir  $v0$  un vecteur unitaire colonne de la même taille que la matrice  $A$ .\n",
    "- Calculer le produit de la matrice  $A$  par  $v0$  :  $vProd=A∗v0$ .\n",
    "- On normalise (norm) le vecteur :  $v0=vProd/norm(vProd)$ \n",
    "- Calculer  $\\lambda=v0^T∗A∗v0 $.\n",
    "- Jusqu'à quand on n'a pas rejoint le nombre maximales d'iterations, calculer  $vProd=A∗v0$, le normaliser et  $\\lambda=v0^T∗A∗v0$ \n",
    "- Returner  $\\lambda$, le nombre d'iterations effectuées et le vecteur propre associée $v$.\n",
    "\n",
    "\n",
    "Testez votre fonction avec la  matrice  B  ci-dessous et comparez votre résultat avec la commande `B.eigenvalues()`"
   ]
  },
  {
   "cell_type": "code",
   "execution_count": 73,
   "metadata": {},
   "outputs": [
    {
     "data": {
      "text/plain": [
       "[30  2  3 13]\n",
       "[ 5 11 10  8]\n",
       "[ 9  7  6 12]\n",
       "[ 4 14 15  1]"
      ]
     },
     "execution_count": 73,
     "metadata": {},
     "output_type": "execute_result"
    }
   ],
   "source": [
    "B = matrix(QQ, [[30, 2,3,13], [5,11,10,8],[9,7,6,12],[4,14,15,1]]); B"
   ]
  },
  {
   "cell_type": "code",
   "execution_count": 74,
   "metadata": {},
   "outputs": [],
   "source": [
    "def eigpower(A,nmax,v0):\n",
    "    \n",
    "    i = 0\n",
    "    #on va définir  v0 ,un vecteur unitaire colonne de la même taille que la matrice A.\n",
    "    v0 = matrix(QQ,v0).transpose()\n",
    "    #on va calculer le produit de la matrice  A  par  v0  :  vProd=A∗v0  \n",
    "    vProd = A * v0\n",
    "    ldepart = transpose(v0)*vProd\n",
    "    l = ldepart + 1\n",
    "    \n",
    "    #Jusqu'à quand on n'a pas rejoint le nombre maximales d'iterations, \n",
    "    while (i < nmax): \n",
    "        #calculer  vProd=A∗v0 ,\n",
    "        vProd = A*v0\n",
    "        #, le normaliser\n",
    "        v0 = vProd/vProd.norm()\n",
    "        # et  λ=v0T∗A∗v0\n",
    "        l = transpose(v0)*A*v0\n",
    "        i = i + 1\n",
    "    #On retourne λ , le nombre d'iterations effectuées et le vecteur propre associée  v\n",
    "    return [l,v0,i]\n"
   ]
  },
  {
   "cell_type": "code",
   "execution_count": 75,
   "metadata": {},
   "outputs": [
    {
     "data": {
      "text/html": [
       "<html><script type=\"math/tex; mode=display\">\\newcommand{\\Bold}[1]{\\mathbf{#1}}\\left[\\left(\\begin{array}{r}\n",
       "39.39601087034531\n",
       "\\end{array}\\right), \\left(\\begin{array}{r}\n",
       "0.7354225381337087 \\\\\n",
       "0.38151791175712196 \\\\\n",
       "0.41375598069479036 \\\\\n",
       "0.37736422969427147\n",
       "\\end{array}\\right), 20\\right]</script></html>"
      ],
      "text/plain": [
       "[\n",
       "                     [ 0.7354225381337087]    \n",
       "                     [0.38151791175712196]    \n",
       "                     [0.41375598069479036]    \n",
       "[39.39601087034531], [0.37736422969427147], 20\n",
       "]"
      ]
     },
     "metadata": {},
     "output_type": "display_data"
    },
    {
     "data": {
      "text/html": [
       "<html><script type=\"math/tex; mode=display\">\\newcommand{\\Bold}[1]{\\mathbf{#1}}\\left[-9.50221368271688?, 0.2854057899066645?, 17.82079703055716?, 39.39601086225306?\\right]</script></html>"
      ],
      "text/plain": [
       "[-9.50221368271688?, 0.2854057899066645?, 17.82079703055716?, 39.39601086225306?]"
      ]
     },
     "metadata": {},
     "output_type": "display_data"
    },
    {
     "name": "stdout",
     "output_type": "stream",
     "text": [
      "\n",
      "On a bien une valeur propre approximativement égale : \n"
     ]
    },
    {
     "data": {
      "text/html": [
       "<html><script type=\"math/tex; mode=display\">\\newcommand{\\Bold}[1]{\\mathbf{#1}}\\left(\\begin{array}{r}\n",
       "39.39601087034531\n",
       "\\end{array}\\right)</script></html>"
      ],
      "text/plain": [
       "[39.39601087034531]"
      ]
     },
     "metadata": {},
     "output_type": "display_data"
    },
    {
     "data": {
      "text/html": [
       "<html><script type=\"math/tex; mode=display\">\\newcommand{\\Bold}[1]{\\mathbf{#1}}39.39601086225306?</script></html>"
      ],
      "text/plain": [
       "39.39601086225306?"
      ]
     },
     "metadata": {},
     "output_type": "display_data"
    }
   ],
   "source": [
    "# affichage de eigpower()\n",
    "show(eigpower(B, 20, vector([1,1,1,1])))\n",
    "# affichage de B.eigenvalues()\n",
    "show(B.eigenvalues())\n",
    "\n",
    "print(\"\\nOn a bien une valeur propre approximativement égale : \")\n",
    "\n",
    "# affichage de eigpower()\n",
    "show(eigpower(B, 20, vector([1,1,1,1]))[0])\n",
    "# affichage de B.eigenvalues()\n",
    "show(B.eigenvalues()[-1])\n",
    "\n"
   ]
  },
  {
   "cell_type": "markdown",
   "metadata": {},
   "source": [
    "# EXERCICE 6 : Connections interurbaines"
   ]
  },
  {
   "cell_type": "markdown",
   "metadata": {},
   "source": [
    "Etant donné  $n$  villes, on note  $A$  la matrice dont les coefficients $ a_{ij}$  valent $1$ si la  $i− ème$ ville est directement reliée à la  $j− ème$, et $0$ sinon.\n",
    "\n",
    "On peut montrer que les composantes d'un vecteurs propre $x$ de norme 1 associé à la valeur propre la plus grande donnent le taux d'accessibilité (qui est une mesure de la facilité d'accès) des diverses villes.\n",
    "\n",
    "Calculer ce vecteur dans le cas des connections ferroviaires entre les onze plus grandes villes de Lombardie.\n",
    "\n",
    "<img src=lombardie.jpg></img>\n",
    "\n",
    "On note  $A\\in M_{11 \\times 11}(\\mathbb{R})$  la matrice associée au réseau ferroviaire de Lombardie, i.e. la matrice dont les coefficients  $a_{ij}$  sont égaux à $1$ s'il y a une connection directe entre la ville  $i$  et la ville  $j$ , et $0$ sinon.\n",
    "\n",
    "En posant $v0$  le vecteur unitaire avec $11$ composantes, calculer avec la méthode de la puissance (fonction `eigpower` de l'exercice 5) l'approximation d'un vecteur propre associé à la valeur propre de  $A$  de plus grand module.\n",
    "\n",
    "En déduire la ville la mieux et la moins bien desservie."
   ]
  },
  {
   "cell_type": "code",
   "execution_count": 76,
   "metadata": {},
   "outputs": [
    {
     "data": {
      "text/html": [
       "<html><script type=\"math/tex; mode=display\">\\newcommand{\\Bold}[1]{\\mathbf{#1}}\\left(\\begin{array}{rrrrrrrrrrr}\n",
       "0 & 1 & 1 & 1 & 1 & 1 & 1 & 0 & 0 & 0 & 0 \\\\\n",
       "1 & 0 & 0 & 0 & 0 & 0 & 0 & 0 & 0 & 0 & 0 \\\\\n",
       "1 & 0 & 0 & 0 & 0 & 0 & 0 & 0 & 0 & 1 & 0 \\\\\n",
       "1 & 0 & 0 & 0 & 1 & 0 & 0 & 0 & 0 & 1 & 0 \\\\\n",
       "1 & 0 & 0 & 1 & 0 & 1 & 0 & 1 & 0 & 0 & 0 \\\\\n",
       "1 & 0 & 0 & 0 & 1 & 0 & 0 & 1 & 0 & 0 & 0 \\\\\n",
       "1 & 0 & 0 & 0 & 0 & 0 & 0 & 0 & 0 & 0 & 0 \\\\\n",
       "0 & 0 & 0 & 0 & 1 & 1 & 0 & 0 & 1 & 0 & 0 \\\\\n",
       "0 & 0 & 0 & 0 & 0 & 0 & 0 & 1 & 0 & 0 & 0 \\\\\n",
       "0 & 0 & 1 & 1 & 0 & 0 & 0 & 0 & 0 & 0 & 1 \\\\\n",
       "0 & 0 & 0 & 0 & 0 & 0 & 0 & 0 & 0 & 1 & 0\n",
       "\\end{array}\\right)</script></html>"
      ],
      "text/plain": [
       "[0 1 1 1 1 1 1 0 0 0 0]\n",
       "[1 0 0 0 0 0 0 0 0 0 0]\n",
       "[1 0 0 0 0 0 0 0 0 1 0]\n",
       "[1 0 0 0 1 0 0 0 0 1 0]\n",
       "[1 0 0 1 0 1 0 1 0 0 0]\n",
       "[1 0 0 0 1 0 0 1 0 0 0]\n",
       "[1 0 0 0 0 0 0 0 0 0 0]\n",
       "[0 0 0 0 1 1 0 0 1 0 0]\n",
       "[0 0 0 0 0 0 0 1 0 0 0]\n",
       "[0 0 1 1 0 0 0 0 0 0 1]\n",
       "[0 0 0 0 0 0 0 0 0 1 0]"
      ]
     },
     "metadata": {},
     "output_type": "display_data"
    },
    {
     "data": {
      "image/png": "[encoded data removed]",
      "text/plain": [
       "Graphics object consisting of 50 graphics primitives"
      ]
     },
     "metadata": {},
     "output_type": "display_data"
    },
    {
     "name": "stdout",
     "output_type": "stream",
     "text": [
      "\n",
      "On définit v0 ,un vecteur unitaire colonne de la même taille que la matrice A.\n",
      "\n",
      "Donc l'approximation d'un vecteur propre associé à la valeur propre de  A  de plus grand module :\n"
     ]
    },
    {
     "data": {
      "text/html": [
       "<html><script type=\"math/tex; mode=display\">\\newcommand{\\Bold}[1]{\\mathbf{#1}}\\left[\\left(\\begin{array}{r}\n",
       "3.3152346660795553\n",
       "\\end{array}\\right), \\left(\\begin{array}{r}\n",
       "0.5265245505387183 \\\\\n",
       "0.15924995519447685 \\\\\n",
       "0.2168888908019526 \\\\\n",
       "0.3583454219664402 \\\\\n",
       "0.46908047665166225 \\\\\n",
       "0.3863572609797849 \\\\\n",
       "0.15924995519447685 \\\\\n",
       "0.2835890806060497 \\\\\n",
       "0.08565077462082048 \\\\\n",
       "0.19028681879168924 \\\\\n",
       "0.057638935607475766\n",
       "\\end{array}\\right), 20\\right]</script></html>"
      ],
      "text/plain": [
       "[\n",
       "                      [  0.5265245505387183]    \n",
       "                      [ 0.15924995519447685]    \n",
       "                      [  0.2168888908019526]    \n",
       "                      [  0.3583454219664402]    \n",
       "                      [ 0.46908047665166225]    \n",
       "                      [  0.3863572609797849]    \n",
       "                      [ 0.15924995519447685]    \n",
       "                      [  0.2835890806060497]    \n",
       "                      [ 0.08565077462082048]    \n",
       "                      [ 0.19028681879168924]    \n",
       "[3.3152346660795553], [0.057638935607475766], 20\n",
       "]"
      ]
     },
     "metadata": {},
     "output_type": "display_data"
    },
    {
     "data": {
      "text/html": [
       "<html><script type=\"math/tex; mode=display\">\\newcommand{\\Bold}[1]{\\mathbf{#1}}\\left[0, 0, 0, -2.533801436189426?, -1.831722184254401?, -1.172402942421557?, -1.123465230817891?, 0.4387983012893731?, 1.155158040256600?, 1.752194770728764?, 3.315240681408537?\\right]</script></html>"
      ],
      "text/plain": [
       "[0, 0, 0, -2.533801436189426?, -1.831722184254401?, -1.172402942421557?, -1.123465230817891?, 0.4387983012893731?, 1.155158040256600?, 1.752194770728764?, 3.315240681408537?]"
      ]
     },
     "metadata": {},
     "output_type": "display_data"
    }
   ],
   "source": [
    "#On construit A à partir des connexion directe avec les autres villes\n",
    "#A est directement connecté à 2,3,4,5,6,7 \n",
    "\n",
    "A = matrix(11, 11, [\n",
    "           [0,1,1,1,1,1,1,0,0,0,0],\n",
    "           [1,0,0,0,0,0,0,0,0,0,0],\n",
    "           [1,0,0,0,0,0,0,0,0,1,0],\n",
    "           [1,0,0,0,1,0,0,0,0,1,0],\n",
    "           [1,0,0,1,0,1,0,1,0,0,0],\n",
    "           [1,0,0,0,1,0,0,1,0,0,0],\n",
    "           [1,0,0,0,0,0,0,0,0,0,0],\n",
    "           [0,0,0,0,1,1,0,0,1,0,0],\n",
    "           [0,0,0,0,0,0,0,1,0,0,0],\n",
    "           [0,0,1,1,0,0,0,0,0,0,1],\n",
    "           [0,0,0,0,0,0,0,0,0,1,0]\n",
    "])\n",
    "\n",
    "show(A)\n",
    "\n",
    "show(DiGraph(A))\n",
    "\n",
    "\n",
    "print(\"\\nOn définit v0 ,un vecteur unitaire colonne de la même taille que la matrice A.\")\n",
    "print(\"\\nDonc l'approximation d'un vecteur propre associé à la valeur propre de  A  de plus grand module :\")\n",
    "show(eigpower(A, 20, vector([1,1,1,1,1,1,1,1,1,1,1])))\n",
    "\n",
    "show(A.eigenvalues())\n",
    "#Pour savoir la ville la mieux desservie on calcule les valeurs propres en regardant la plus grande et la plus petite."
   ]
  },
  {
   "cell_type": "code",
   "execution_count": 77,
   "metadata": {},
   "outputs": [
    {
     "data": {
      "text/html": [
       "<html><script type=\"math/tex; mode=display\">\\newcommand{\\Bold}[1]{\\mathbf{#1}}\\begin{array}{l}\n",
       "\\verb|On|\\phantom{\\verb!x!}\\verb|en|\\phantom{\\verb!x!}\\verb|déduit|\\phantom{\\verb!x!}\\verb|que|\\phantom{\\verb!x!}\\verb|la|\\phantom{\\verb!x!}\\verb|ligne|\\phantom{\\verb!x!}\\verb|avec|\\phantom{\\verb!x!}\\verb|le|\\phantom{\\verb!x!}\\verb|nombre|\\phantom{\\verb!x!}\\verb|le|\\phantom{\\verb!x!}\\verb|plus|\\phantom{\\verb!x!}\\verb|proche|\\phantom{\\verb!x!}\\verb|de|\\phantom{\\verb!x!}\\verb|1|\\phantom{\\verb!x!}\\verb|est|\\phantom{\\verb!x!}\\verb|la|\\phantom{\\verb!x!}\\verb|une|\\phantom{\\verb!x!}\\verb|qui|\\phantom{\\verb!x!}\\verb|est|\\phantom{\\verb!x!}\\verb|Milan.|\\\\\n",
       "\\verb|Donc|\\phantom{\\verb!x!}\\verb|Milan|\\phantom{\\verb!x!}\\verb|est|\\phantom{\\verb!x!}\\verb|la|\\phantom{\\verb!x!}\\verb|ville|\\phantom{\\verb!x!}\\verb|la|\\phantom{\\verb!x!}\\verb|plus|\\phantom{\\verb!x!}\\verb|connectee|\\phantom{\\verb!x!}\\verb|et|\\phantom{\\verb!x!}\\verb|la|\\phantom{\\verb!x!}\\verb|ville|\\phantom{\\verb!x!}\\verb|la|\\phantom{\\verb!x!}\\verb|moins|\\phantom{\\verb!x!}\\verb|connectee|\\phantom{\\verb!x!}\\verb|est|\\phantom{\\verb!x!}\\verb|Mantoue|\n",
       "\\end{array}</script></html>"
      ],
      "text/plain": [
       "'On en déduit que la ligne avec le nombre le plus proche de 1 est la une qui est Milan.\\nDonc Milan est la ville la plus connectee et la ville la moins connectee est Mantoue'"
      ]
     },
     "metadata": {},
     "output_type": "display_data"
    }
   ],
   "source": [
    "show(\"On en déduit que la ligne avec le nombre le plus proche de 1 est la une qui est Milan.\\nDonc Milan est la ville la plus connectee et la ville la moins connectee est Mantoue\")"
   ]
  },
  {
   "cell_type": "markdown",
   "metadata": {},
   "source": [
    "# Curiosité:  L'algèbre linéaire à la base de Google!"
   ]
  },
  {
   "cell_type": "markdown",
   "metadata": {},
   "source": [
    "\n",
    "<p><span id=\"cell_outer_73\"><a href=\"http://www.incomediary.com/wp-content/uploads/2012/02/larry-page-sergey-brin.jpg\">Deux jeunes docteurs en informatique</a> ont un jour eu l'id&eacute;e de classer les pages web par ordre de pertinence (puis ils ont fond&eacute; une compagnie pour mettre en pratique <a href=\"http://en.wikipedia.org/wiki/Pagerank\">leur id&eacute;e</a> et &ccedil;a a <a href=\"https://www.google.com/finance?chddm=953649&amp;q=GOOG\">plut&ocirc;t pas mal march&eacute;</a>). </span></p>\n",
    "<p><span>Leur id&eacute;e &eacute;tait de consid&eacute;rer qu'une page est pertinente si elle est r&eacute;f&eacute;renc&eacute;e par beaucoup de pages pertinentes. On peut impl&eacute;menter cette id&eacute;e un peu circulaire gr&acirc;ce &agrave; la notion de marche al&eacute;atoire: on repr&eacute;sente le web par un graphe orient&eacute; (exemples de graphe : connections interurbaines des villes de Lombardie), chaque sommet repr&eacute;sente une page et les ar&ecirc;tes repr&eacute;sentent les hyperliens. On imagine quelqu'un se baladant al&eacute;atoirement de page en page; &agrave; la longue il finira par tomber sur les pages les plus pertinentes puisqu'elles vont avoir tendance &agrave; attirer le trafic.</span></p>\n",
    "<p>Voici comment on peut cr&eacute;er un<em> graphe non orient&eacute;</em> et sa matrice d'adjacence dans Sage :</p>"
   ]
  },
  {
   "cell_type": "code",
   "execution_count": 78,
   "metadata": {},
   "outputs": [
    {
     "data": {
      "image/png": "[encoded data removed]",
      "text/plain": [
       "Graphics object consisting of 7 graphics primitives"
      ]
     },
     "metadata": {},
     "output_type": "display_data"
    }
   ],
   "source": [
    "A = matrix([[0,1,1], [1,0,1], [1,1,0]])\n",
    "k = Graph(A) # graphe complet K_3\n",
    "k.show()"
   ]
  },
  {
   "cell_type": "code",
   "execution_count": 79,
   "metadata": {},
   "outputs": [
    {
     "data": {
      "text/plain": [
       "[0 1 1]\n",
       "[1 0 1]\n",
       "[1 1 0]"
      ]
     },
     "execution_count": 79,
     "metadata": {},
     "output_type": "execute_result"
    }
   ],
   "source": [
    "k.adjacency_matrix()"
   ]
  },
  {
   "cell_type": "markdown",
   "metadata": {},
   "source": [
    "Et voici comment un graphe orienté et sa matrice d'adjacence :"
   ]
  },
  {
   "cell_type": "code",
   "execution_count": 80,
   "metadata": {},
   "outputs": [
    {
     "data": {
      "image/png": "[encoded data removed]",
      "text/plain": [
       "Graphics object consisting of 16 graphics primitives"
      ]
     },
     "metadata": {},
     "output_type": "display_data"
    }
   ],
   "source": [
    "g = DiGraph([(0,1), (0,2), (1,2), (2,1), (2,3), (1,3), (3,0), (3,1)])\n",
    "g.show()"
   ]
  },
  {
   "cell_type": "markdown",
   "metadata": {},
   "source": [
    "Vous disposez maintenant de (presque) tous les moyens (matrice d'adjacence d'un graphe, valeurs propres...) pour comprendre l'algorithme sur lequel se base la recherche des plus imposants moteurs de recherche : GOOGLE."
   ]
  }
 ],
 "metadata": {
  "kernelspec": {
   "display_name": "SageMath 9.1",
   "language": "sage",
   "name": "sagemath"
  },
  "language_info": {
   "codemirror_mode": {
    "name": "ipython",
    "version": 3
   },
   "file_extension": ".py",
   "mimetype": "text/x-python",
   "name": "python",
   "nbconvert_exporter": "python",
   "pygments_lexer": "ipython3",
   "version": "3.7.3"
  }
 },
 "nbformat": 4,
 "nbformat_minor": 1
}
