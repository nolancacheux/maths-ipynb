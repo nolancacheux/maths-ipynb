{
 "cells": [
  {
   "cell_type": "markdown",
   "metadata": {},
   "source": [
    "# TP 11 : Espaces vectoriels"
   ]
  },
  {
   "cell_type": "markdown",
   "metadata": {},
   "source": [
    "Consignes :\n",
    "\n",
    "- Renommer ce fichier <b>nom1-nom2-TP11</b> , en cliquant sur le titre du fichier \"TP 11 : Espaces vectoriels\" en haut à gauche\n",
    "\n",
    "\n",
    "\n",
    "- <center>ATTENTION : </center>\n",
    "    \n",
    "  <u>   <center> une première version du TP est à rendre dans le devoir Teams à la fin de la séance. </center> </u>\n",
    "    \n",
    "  <u>   <center> Vous avez jusqu'à lundi 4 avril à 23h59 pour rendre une nouvelle version de votre TP.</center> </u>\n",
    "    \n",
    "    \n",
    "    \n",
    "    \n",
    "- TP à faire par groupes de 2. Le groupe de travail sera le même pour toute l'année.\n",
    "\n",
    "\n",
    "  Cliquer deux fois sur la cellule pour completer ci-dessous :\n",
    "\n",
    "- NOM PRENOM : CACHEUX Nolan\n",
    "- NOM PRENOM : MERLAUD Thomas\n",
    "\n"
   ]
  },
  {
   "cell_type": "markdown",
   "metadata": {},
   "source": [
    "  <u><i> Prenez le temps de réviser les concepts liés aux matrices, vecteurs, systèmes d'équations linéaires, ... des séances de TP précédentes. </i> </u>"
   ]
  },
  {
   "cell_type": "markdown",
   "metadata": {},
   "source": [
    "# Exercice 1 : Interpolation polynomiale"
   ]
  },
  {
   "cell_type": "markdown",
   "metadata": {},
   "source": [
    "Considérons le problème suivant: on cherche un polynôme  $P(X)$  à coefficients réels dont le graphe passe par les points\n",
    "\n",
    "$$ (1,4), \\ (2,-1), \\ (3,2), \\ (4,3), \\ (5, 1). $$\n",
    " \n",
    "a) Soit  $V $ l'espace vectoriel des polynômes de degré  $\\leq 4$ et $f: V \\to \\mathbb{R}^5$   l'application linéaire définie par\n",
    "\n",
    "$$ f(P) = (P(1), P(2), P(3), P(4), P(5)) $$\n",
    " \n",
    "Construire informatiquement une matrice  $A$  représentant  $f$  en calculant tout d'abord  $f(1), \\ f(X), \\ f(X^2), \\ f(X^3), \\ f(X^4).$\n",
    "\n"
   ]
  },
  {
   "cell_type": "code",
   "execution_count": 2,
   "metadata": {},
   "outputs": [
    {
     "data": {
      "text/html": [
       "<html><script type=\"math/tex; mode=display\">\\newcommand{\\Bold}[1]{\\mathbf{#1}}\\left(\\begin{array}{rrrrr}\n",
       "1 & 1 & 1 & 1 & 1 \\\\\n",
       "1 & 2 & 4 & 8 & 16 \\\\\n",
       "1 & 3 & 9 & 27 & 81 \\\\\n",
       "1 & 4 & 16 & 64 & 256 \\\\\n",
       "1 & 5 & 25 & 125 & 625\n",
       "\\end{array}\\right)</script></html>"
      ],
      "text/plain": [
       "[  1   1   1   1   1]\n",
       "[  1   2   4   8  16]\n",
       "[  1   3   9  27  81]\n",
       "[  1   4  16  64 256]\n",
       "[  1   5  25 125 625]"
      ]
     },
     "metadata": {},
     "output_type": "display_data"
    }
   ],
   "source": [
    "# a)\n",
    "# f(1) = [1,1,1,1,1]\n",
    "# f(X) = [1,2,3,4,5]\n",
    "# f(X²) = [1,4,9,16,25]\n",
    "# f(X³) = [1,8,27,64,125]\n",
    "# f(X⁴) = [1,16,81,256,625]\n",
    "\n",
    "\n",
    "A = matrix(5,5)\n",
    "for i in range(5):\n",
    "    for j in range(5) :\n",
    "        A[i,j] = (i+1)**j\n",
    "        \n",
    "show(A)"
   ]
  },
  {
   "cell_type": "markdown",
   "metadata": {},
   "source": [
    "b) Vérifier la validité de votre matrice  $A$  de la question précédente en l'utilisant pour calculer  $f(Q)$  et $ f(R)$  avec  $Q(X) = X^3 - X + 1$ et $R(X) = 2X^4 - 1$  (et vérifiez que vous obtenez bien les bonnes réponses !)."
   ]
  },
  {
   "cell_type": "code",
   "execution_count": 3,
   "metadata": {},
   "outputs": [
    {
     "name": "stdout",
     "output_type": "stream",
     "text": [
      "Produit de A par Q :\n"
     ]
    },
    {
     "data": {
      "text/html": [
       "<html><script type=\"math/tex; mode=display\">\\newcommand{\\Bold}[1]{\\mathbf{#1}}\\left(\\begin{array}{r}\n",
       "1 \\\\\n",
       "7 \\\\\n",
       "25 \\\\\n",
       "61 \\\\\n",
       "121\n",
       "\\end{array}\\right)</script></html>"
      ],
      "text/plain": [
       "[  1]\n",
       "[  7]\n",
       "[ 25]\n",
       "[ 61]\n",
       "[121]"
      ]
     },
     "metadata": {},
     "output_type": "display_data"
    },
    {
     "name": "stdout",
     "output_type": "stream",
     "text": [
      "Produit de A par R :\n"
     ]
    },
    {
     "data": {
      "text/html": [
       "<html><script type=\"math/tex; mode=display\">\\newcommand{\\Bold}[1]{\\mathbf{#1}}\\left(\\begin{array}{r}\n",
       "1 \\\\\n",
       "31 \\\\\n",
       "161 \\\\\n",
       "511 \\\\\n",
       "1249\n",
       "\\end{array}\\right)</script></html>"
      ],
      "text/plain": [
       "[   1]\n",
       "[  31]\n",
       "[ 161]\n",
       "[ 511]\n",
       "[1249]"
      ]
     },
     "metadata": {},
     "output_type": "display_data"
    }
   ],
   "source": [
    "Q = Matrix([[1],[-1],[0],[1],[0]]) #on prend les coefficients directeurs λ devant chaque X^n pour n variant de 0 à 4\n",
    "R = Matrix([[-1],[0],[0],[0],[2]])\n",
    "\n",
    "# f(Q) = [1,7,25,61,121]\n",
    "\n",
    "# f(R) = [1,31,161,511,1249]\n",
    "\n",
    "print(\"Produit de A par Q :\")\n",
    "show(A*Q)\n",
    "print(\"Produit de A par R :\")\n",
    "show(A*R)"
   ]
  },
  {
   "cell_type": "markdown",
   "metadata": {},
   "source": [
    "c) Pour revenir à la question initiale: convainquez-vous que  $f$  est bijective en remarquant que  $A$  est inversible, et déterminez  $f^{-1}(4,-1,2,3,1)$ en utilisant $A^{-1}$."
   ]
  },
  {
   "cell_type": "code",
   "execution_count": 6,
   "metadata": {},
   "outputs": [
    {
     "name": "stdout",
     "output_type": "stream",
     "text": [
      "Le determimant de A : \n"
     ]
    },
    {
     "data": {
      "text/html": [
       "<html><script type=\"math/tex; mode=display\">\\newcommand{\\Bold}[1]{\\mathbf{#1}}288</script></html>"
      ],
      "text/plain": [
       "288"
      ]
     },
     "metadata": {},
     "output_type": "display_data"
    },
    {
     "name": "stdout",
     "output_type": "stream",
     "text": [
      "Il est différent de 0, donc A est inversible. \n",
      "\n",
      "L'inverse de A : \n"
     ]
    },
    {
     "data": {
      "text/html": [
       "<html><script type=\"math/tex; mode=display\">\\newcommand{\\Bold}[1]{\\mathbf{#1}}\\left(\\begin{array}{rrrrr}\n",
       "5 & -10 & 10 & -5 & 1 \\\\\n",
       "-\\frac{77}{12} & \\frac{107}{6} & -\\frac{39}{2} & \\frac{61}{6} & -\\frac{25}{12} \\\\\n",
       "\\frac{71}{24} & -\\frac{59}{6} & \\frac{49}{4} & -\\frac{41}{6} & \\frac{35}{24} \\\\\n",
       "-\\frac{7}{12} & \\frac{13}{6} & -3 & \\frac{11}{6} & -\\frac{5}{12} \\\\\n",
       "\\frac{1}{24} & -\\frac{1}{6} & \\frac{1}{4} & -\\frac{1}{6} & \\frac{1}{24}\n",
       "\\end{array}\\right)</script></html>"
      ],
      "text/plain": [
       "[     5    -10     10     -5      1]\n",
       "[-77/12  107/6  -39/2   61/6 -25/12]\n",
       "[ 71/24  -59/6   49/4  -41/6  35/24]\n",
       "[ -7/12   13/6     -3   11/6  -5/12]\n",
       "[  1/24   -1/6    1/4   -1/6   1/24]"
      ]
     },
     "metadata": {},
     "output_type": "display_data"
    },
    {
     "name": "stdout",
     "output_type": "stream",
     "text": [
      "On a donc f(X) = Y <=> AX = Y <=> A^1 * A * X = A^-1 * Y <=> X = A^-1 * Y <=> X = f^-1(Y)\n",
      "\n",
      "Ainsi, f^−1(4,−1,2,3,1) : \n"
     ]
    },
    {
     "data": {
      "text/html": [
       "<html><script type=\"math/tex; mode=display\">\\newcommand{\\Bold}[1]{\\mathbf{#1}}\\left(\\begin{array}{r}\n",
       "36 \\\\\n",
       "-\\frac{649}{12} \\\\\n",
       "\\frac{217}{8} \\\\\n",
       "-\\frac{65}{12} \\\\\n",
       "\\frac{3}{8}\n",
       "\\end{array}\\right)</script></html>"
      ],
      "text/plain": [
       "[     36]\n",
       "[-649/12]\n",
       "[  217/8]\n",
       "[ -65/12]\n",
       "[    3/8]"
      ]
     },
     "metadata": {},
     "output_type": "display_data"
    }
   ],
   "source": [
    "print(\"Le determimant de A : \")\n",
    "\n",
    "show(det(A))\n",
    "\n",
    "print(\"Il est différent de 0, donc A est inversible. \\n\")\n",
    "\n",
    "print(\"L'inverse de A : \")\n",
    "Ainv = A.inverse()\n",
    "show(Ainv)\n",
    "\n",
    "print(\"On a donc f(X) = Y <=> AX = Y <=> A^1 * A * X = A^-1 * Y <=> X = A^-1 * Y <=> X = f^-1(Y)\")\n",
    "Y = Matrix([[4],[-1],[2],[3],[1]])\n",
    "print(\"\\nAinsi, f^−1(4,−1,2,3,1) : \")\n",
    "show(Ainv*Y)"
   ]
  },
  {
   "cell_type": "markdown",
   "metadata": {},
   "source": [
    "d) Représenter sur une même figure: le graphe du polynôme  $P$  obtenu à la question précédente ainsi que les  $5 $ points $(1,4), (2,-1), (3,2), (4,3), (5, 1)$  pour vérifier que  $P$  passe bien par ceux-ci.\n"
   ]
  },
  {
   "cell_type": "code",
   "execution_count": 7,
   "metadata": {},
   "outputs": [
    {
     "data": {
      "image/png": "[encoded data removed]",
      "text/plain": [
       "Graphics object consisting of 2 graphics primitives"
      ]
     },
     "execution_count": 7,
     "metadata": {},
     "output_type": "execute_result"
    }
   ],
   "source": [
    "X = var('X')\n",
    "\n",
    "P(X) = (3/8) * (X^4) - (65/12) * (X^3) + (217/8) * X^2 - (649/12) * X + 36\n",
    "\n",
    "\n",
    "point([[1,4],[2,-1],[3,2],[4,3],[5,1]],color = 'black') + plot(P(X), (x, 0.7, 5))"
   ]
  },
  {
   "cell_type": "markdown",
   "metadata": {},
   "source": [
    "# Exercice 2 : Intérpolation d'Hermite"
   ]
  },
  {
   "cell_type": "markdown",
   "metadata": {},
   "source": [
    "Encore un problème où on cherche un polynôme: on cherche cette fois-ci un polynôme  $P$  de degré  $\\leq 3$  pour lequel\n",
    "\n",
    "$$P(0)=1, P′(0)=−2, P(1)=4, P′(1)=2$$\n",
    " \n",
    "a) Donner une représentation matricielle de l'application $P \\mapsto (P(0), P'(0), P(1), P'(1))$."
   ]
  },
  {
   "cell_type": "code",
   "execution_count": 8,
   "metadata": {},
   "outputs": [
    {
     "data": {
      "text/html": [
       "<html><script type=\"math/tex; mode=display\">\\newcommand{\\Bold}[1]{\\mathbf{#1}}\\left(\\begin{array}{rrrr}\n",
       "1 & 0 & 0 & 0 \\\\\n",
       "0 & 1 & 0 & 0 \\\\\n",
       "1 & 1 & 1 & 1 \\\\\n",
       "0 & 1 & 2 & 3\n",
       "\\end{array}\\right)</script></html>"
      ],
      "text/plain": [
       "[1 0 0 0]\n",
       "[0 1 0 0]\n",
       "[1 1 1 1]\n",
       "[0 1 2 3]"
      ]
     },
     "metadata": {},
     "output_type": "display_data"
    }
   ],
   "source": [
    "# f(1) = [1,0,1,0]\n",
    "# f(X) = [0,1,1,1]\n",
    "# f(X²) = [0,0,1,2]\n",
    "# f(X³) = [0,0,1,3]\n",
    "\n",
    "# P1(X)= 1     P1'(X)= 0\n",
    "# P2(X) = X    P2'(X)= 1\n",
    "# P3(X) = X^2  P3'(X)= 2X\n",
    "# P4(X) = X^3  P4'(X)= 3X^2\n",
    "\n",
    "\n",
    "\n",
    "T = Matrix([[1,0,1,0], \n",
    "           [0,1,1,1],\n",
    "           [0,0,1,2],\n",
    "           [0,0,1,3]])\n",
    "\n",
    "T = transpose(T)\n",
    "\n",
    "show(T)"
   ]
  },
  {
   "cell_type": "markdown",
   "metadata": {},
   "source": [
    "b) Vérifier que votre représentation matricielle fonctionne bien en l'utilisant pour calculer l'image de   $Q(X) = X^3 + X^2 - X + 1$ et $R(X) = X^2 + 3 X$."
   ]
  },
  {
   "cell_type": "code",
   "execution_count": 9,
   "metadata": {},
   "outputs": [
    {
     "data": {
      "text/html": [
       "<html><script type=\"math/tex; mode=display\">\\newcommand{\\Bold}[1]{\\mathbf{#1}}\\left(\\begin{array}{r}\n",
       "1 \\\\\n",
       "-1 \\\\\n",
       "2 \\\\\n",
       "4\n",
       "\\end{array}\\right)</script></html>"
      ],
      "text/plain": [
       "[ 1]\n",
       "[-1]\n",
       "[ 2]\n",
       "[ 4]"
      ]
     },
     "metadata": {},
     "output_type": "display_data"
    },
    {
     "data": {
      "text/html": [
       "<html><script type=\"math/tex; mode=display\">\\newcommand{\\Bold}[1]{\\mathbf{#1}}\\left(\\begin{array}{r}\n",
       "0 \\\\\n",
       "3 \\\\\n",
       "4 \\\\\n",
       "5\n",
       "\\end{array}\\right)</script></html>"
      ],
      "text/plain": [
       "[0]\n",
       "[3]\n",
       "[4]\n",
       "[5]"
      ]
     },
     "metadata": {},
     "output_type": "display_data"
    }
   ],
   "source": [
    "Q = Matrix([[1],[-1],[1],[1]])\n",
    "R = Matrix([[0],[3],[1],[0]])\n",
    "\n",
    "\n",
    "\n",
    "# P(Q) = [1,-1,2,4]\n",
    "# P(R) = [0,3,4,5]\n",
    "\n",
    "show(T*Q)\n",
    "show(T*R)"
   ]
  },
  {
   "cell_type": "markdown",
   "metadata": {},
   "source": [
    "c) Montrer qu'il existe un unique polynôme de degré inférieur ou égal $ 3$  satisfaisant les conditions imposées et déterminez-le."
   ]
  },
  {
   "cell_type": "code",
   "execution_count": 10,
   "metadata": {},
   "outputs": [
    {
     "data": {
      "text/html": [
       "<html><script type=\"math/tex; mode=display\">\\newcommand{\\Bold}[1]{\\mathbf{#1}}1</script></html>"
      ],
      "text/plain": [
       "1"
      ]
     },
     "metadata": {},
     "output_type": "display_data"
    },
    {
     "name": "stdout",
     "output_type": "stream",
     "text": [
      "Le determinant de T est != 0, donc P⁻¹ existe\n"
     ]
    },
    {
     "data": {
      "text/html": [
       "<html><script type=\"math/tex; mode=display\">\\newcommand{\\Bold}[1]{\\mathbf{#1}}\\verb|P⁻¹(1,−2,4,2)|</script></html>"
      ],
      "text/plain": [
       "'P⁻¹(1,−2,4,2)'"
      ]
     },
     "metadata": {},
     "output_type": "display_data"
    },
    {
     "data": {
      "text/html": [
       "<html><script type=\"math/tex; mode=display\">\\newcommand{\\Bold}[1]{\\mathbf{#1}}\\left(\\begin{array}{r}\n",
       "1 \\\\\n",
       "-2 \\\\\n",
       "11 \\\\\n",
       "-6\n",
       "\\end{array}\\right)</script></html>"
      ],
      "text/plain": [
       "[ 1]\n",
       "[-2]\n",
       "[11]\n",
       "[-6]"
      ]
     },
     "metadata": {},
     "output_type": "display_data"
    }
   ],
   "source": [
    "#Pour le trouver il faut faire l'inverse de la matrice, et l'inverse d'une matrice est unique. \n",
    "#Donc la solution est unique\n",
    "\n",
    "show(det(T))\n",
    "print(\"Le determinant de T est != 0, donc P⁻¹ existe\")\n",
    "\n",
    "Tinv = T.inverse()\n",
    "\n",
    "Y = Matrix([[1],[-2],[4],[2]])\n",
    "show(\"P⁻¹(1,−2,4,2)\")\n",
    "show(Tinv*Y)"
   ]
  },
  {
   "cell_type": "markdown",
   "metadata": {},
   "source": [
    "d) Représentez, sur une même figure, le graphe du polynôme trouvé à la question précédente, les points  $(0,1)$  et  $(1,4)$  ainsi que ses tangentes en  $x=0$  et  $x=1$  pour vérifier la cohérence de votre réponse."
   ]
  },
  {
   "cell_type": "code",
   "execution_count": 11,
   "metadata": {},
   "outputs": [
    {
     "data": {
      "image/png": "[encoded data removed]",
      "text/plain": [
       "Graphics object consisting of 4 graphics primitives"
      ]
     },
     "execution_count": 11,
     "metadata": {},
     "output_type": "execute_result"
    }
   ],
   "source": [
    "X = var('X')\n",
    "\n",
    "T(X) = -6 * (X^3) + 11 * (X^2) - 2 * X + 1\n",
    "O(X) = 4\n",
    "I(X) = 1\n",
    "point([[0,1],[1,4]]) + plot(T(X), (x, -10, 15), ymin=-50, ymax=50) + plot(O(X), (x, -10, 15), color='green', ymin=-50, ymax=50) + plot(I(X), (x, -10, 15), color='red', ymin=-50, ymax=50)"
   ]
  }
 ],
 "metadata": {
  "kernelspec": {
   "display_name": "SageMath 9.1",
   "language": "sage",
   "name": "sagemath"
  },
  "language_info": {
   "codemirror_mode": {
    "name": "ipython",
    "version": 3
   },
   "file_extension": ".py",
   "mimetype": "text/x-python",
   "name": "python",
   "nbconvert_exporter": "python",
   "pygments_lexer": "ipython3",
   "version": "3.7.3"
  }
 },
 "nbformat": 4,
 "nbformat_minor": 1
}
