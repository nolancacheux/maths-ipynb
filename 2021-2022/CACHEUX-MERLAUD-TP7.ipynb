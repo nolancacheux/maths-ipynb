{
 "cells": [
  {
   "cell_type": "markdown",
   "metadata": {},
   "source": [
    "# TP 7 - Arithmétique dans Z"
   ]
  },
  {
   "cell_type": "markdown",
   "metadata": {},
   "source": [
    "#  Division euclidienne et reste"
   ]
  },
  {
   "cell_type": "markdown",
   "metadata": {},
   "source": [
    "Consignes :\n",
    "\n",
    "- Renommer ce fichier <b>nom1-nom2-TP7</b> , en cliquant sur le titre du fichier \"TP 7 - Arithmétique dans Z\" en haut à gauche\n",
    "- <u>ATTENTION : TP à rendre dans le devoir Teams à la fin de la séance</u>.\n",
    "- TP à faire par groupes de 2. Le groupe de travail sera le même pour toute l'année.\n",
    "\n",
    "\n",
    "  Cliquer deux fois sur la cellule pour completer ci-dessous :\n",
    "  \n",
    "  - NOM PRENOM : CACHEUX Nolan \n",
    "  - NOM PRENOM : MERLAUD Thomas\n"
   ]
  },
  {
   "cell_type": "markdown",
   "metadata": {},
   "source": [
    "Comme vous avez vu en cours, la division euclidienne de $a$ par $b$, avec $a\\in\\mathbb{Z}$ et $b\\in\\mathbb{N}^*$ s'écrit :\n",
    "\n",
    "$$a=bq+r \\qquad 0\\leq r< b$$\n",
    "\n",
    "où $q\\in \\mathbb{Z}$ est le $quotient$ et $r\\in \\mathbb{N}$ est le $reste$."
   ]
  },
  {
   "cell_type": "markdown",
   "metadata": {},
   "source": [
    "En Python le quotient se calcul par `a // b` \n",
    "\n"
   ]
  },
  {
   "cell_type": "code",
   "execution_count": 1,
   "metadata": {},
   "outputs": [
    {
     "data": {
      "text/plain": [
       "4"
      ]
     },
     "execution_count": 1,
     "metadata": {},
     "output_type": "execute_result"
    }
   ],
   "source": [
    "14//3"
   ]
  },
  {
   "cell_type": "markdown",
   "metadata": {},
   "source": [
    "Le reste se calcule par `a%b`"
   ]
  },
  {
   "cell_type": "code",
   "execution_count": 2,
   "metadata": {},
   "outputs": [
    {
     "data": {
      "text/plain": [
       "2"
      ]
     },
     "execution_count": 2,
     "metadata": {},
     "output_type": "execute_result"
    }
   ],
   "source": [
    "14%3 # 14 modulo 3"
   ]
  },
  {
   "cell_type": "markdown",
   "metadata": {},
   "source": [
    "On a bien $14 = 3 \\times 4 +2$"
   ]
  },
  {
   "cell_type": "markdown",
   "metadata": {},
   "source": [
    "# EXERCICE 1"
   ]
  },
  {
   "cell_type": "markdown",
   "metadata": {},
   "source": [
    "Combien y-a-t-il d'occurences du chiffre 1 dans les nombres de 1 à 999 ?\n",
    "\n",
    "Par exemple le chiffre 1 apparaît une fois dans 51 mais deux fois dans 131.\n",
    "\n",
    "Pour vous aider, repondez d'abord aux questions suivantes :"
   ]
  },
  {
   "cell_type": "markdown",
   "metadata": {},
   "source": [
    "a) Comment obtient-on le chiffre des unités d’un entier $N$ ? Quelle instruction il faut utiliser ?"
   ]
  },
  {
   "cell_type": "markdown",
   "metadata": {},
   "source": [
    "Explication : Nous cherchons le premier digit d'un nombre, cela correspond à faire N modulo 10 car si l'on divise le chiffre par 10, alors le reste sera forcément inférieur à 10, ce qui nous donnera un chiffre compris entre [0, 9], soit l'unité\n",
    "\n",
    "Exemple avec 251 :"
   ]
  },
  {
   "cell_type": "markdown",
   "metadata": {},
   "source": [
    " Le chiffre les unités est obtenu en faisant le modulo par 10 de notre entier. Soit N%10"
   ]
  },
  {
   "cell_type": "code",
   "execution_count": 3,
   "metadata": {},
   "outputs": [
    {
     "data": {
      "text/plain": [
       "1"
      ]
     },
     "execution_count": 3,
     "metadata": {},
     "output_type": "execute_result"
    }
   ],
   "source": [
    "251%10"
   ]
  },
  {
   "cell_type": "markdown",
   "metadata": {},
   "source": [
    "b) Comment obtient-on le chiffre des dizaines ?"
   ]
  },
  {
   "cell_type": "markdown",
   "metadata": {},
   "source": [
    "Pour avoir le nombre de dizaines, on divise notre nombre par 10, cela retire le chiffre de l'unité et nous donne 25.\n",
    "Ensuite, on effectue la même opération qu'au dessus, pour récupérer le chiffre de l'unité de 25, qui correspond à 5. Cela nous donne donc le chiffre des dizaines.\n",
    "\n",
    "Exemple avec 251 :"
   ]
  },
  {
   "cell_type": "markdown",
   "metadata": {},
   "source": [
    "Le chiffre des dizaines est obtenu en faisant le modulo par 10 du quotient de notre nombre."
   ]
  },
  {
   "cell_type": "code",
   "execution_count": 4,
   "metadata": {},
   "outputs": [
    {
     "data": {
      "text/plain": [
       "5"
      ]
     },
     "execution_count": 4,
     "metadata": {},
     "output_type": "execute_result"
    }
   ],
   "source": [
    "(251//10) % 10"
   ]
  },
  {
   "cell_type": "markdown",
   "metadata": {},
   "source": [
    "c) Comment obtient-on le chiffre des centaines ?"
   ]
  },
  {
   "cell_type": "markdown",
   "metadata": {},
   "source": [
    "Pour trouver le chiffre des centaines (ou le premier digit en général), il faut prendre N // 10^(nombre de digits dans N), car cela déplacera la virgule jusqu'à dernier chiffre, soit ici le chiffre des centaines, et comme nous prenons que le quotient, cela revient à arrondir le résultat à l'unité en dessous.\n",
    "\n",
    "Exemple avec 251:"
   ]
  },
  {
   "cell_type": "markdown",
   "metadata": {},
   "source": [
    "Le chiffre des centaines est obtenu en faisant le quotient par 100 de notre nombre."
   ]
  },
  {
   "cell_type": "code",
   "execution_count": 5,
   "metadata": {},
   "outputs": [
    {
     "data": {
      "text/plain": [
       "2"
      ]
     },
     "execution_count": 5,
     "metadata": {},
     "output_type": "execute_result"
    }
   ],
   "source": [
    "251//100"
   ]
  },
  {
   "cell_type": "markdown",
   "metadata": {},
   "source": [
    "Vous pouvez maintenant répondre à la question de l'exercice 1."
   ]
  },
  {
   "cell_type": "code",
   "execution_count": 6,
   "metadata": {},
   "outputs": [
    {
     "name": "stdout",
     "output_type": "stream",
     "text": [
      "Le nombre d'occurrences de 1 entre 1 et 999 est de : 300.\n"
     ]
    }
   ],
   "source": [
    "def occurrences(n, nb_occurrence):\n",
    "    \n",
    "    #La fonction va renvoyer le nombre d'occurences de nb_occurrence entre 1 et n.\n",
    "    occurrence = 0\n",
    "    \n",
    "    for i in range(1, n):\n",
    "        for j in range (0, len(str(i))):\n",
    "            if ((i // 10^j) % 10 ==  nb_occurrence):\n",
    "                \n",
    "                #On regarde pour chaque chiffre d'un nombre i (chiffre des centaines, dizaines...) \n",
    "                #si il y a le nombre que l'on recherche\n",
    "                occurrence +=1\n",
    "    return occurrence\n",
    "\n",
    "print(f\"Le nombre d'occurrences de 1 entre 1 et 999 est de : {occurrences(999, 1)}.\")"
   ]
  },
  {
   "cell_type": "markdown",
   "metadata": {},
   "source": [
    "# Ecriture des nombres en base 10"
   ]
  },
  {
   "cell_type": "markdown",
   "metadata": {},
   "source": [
    "On rappelle que l'écriture décimale d'un nombre, c'est associer à un entier $N$ la suite de ses chiffres $[a_0,a_1,\\ldots,a_n]$ de sorte que $a_i$ soit le $i-ème$ chiffre de $N$. c'est-à-dire\n",
    "\n",
    "$$N=a_n10^n+a_{n-1}10^{n-1}+\\ldots +a_210^2+a_1 10 +a_0 \\qquad a_i\\in \\{0,1,\\ldots,9\\}$$\n",
    "\n",
    "$a_0$ est le chiffre des unités, $a_1$ celui des dizaines, $a_2$ celui des centaines, $\\ldots$"
   ]
  },
  {
   "cell_type": "markdown",
   "metadata": {},
   "source": [
    "# Rappel : listes (ou tableaux) en Python \n",
    "\n"
   ]
  },
  {
   "cell_type": "markdown",
   "metadata": {},
   "source": [
    "Une liste est présentée entre des crochets "
   ]
  },
  {
   "cell_type": "code",
   "execution_count": 7,
   "metadata": {},
   "outputs": [],
   "source": [
    "tab = [4,3,2,1]"
   ]
  },
  {
   "cell_type": "markdown",
   "metadata": {},
   "source": [
    "On accède aux valeurs par "
   ]
  },
  {
   "cell_type": "code",
   "execution_count": 8,
   "metadata": {},
   "outputs": [
    {
     "data": {
      "text/plain": [
       "4"
      ]
     },
     "execution_count": 8,
     "metadata": {},
     "output_type": "execute_result"
    }
   ],
   "source": [
    "tab[0] "
   ]
  },
  {
   "cell_type": "code",
   "execution_count": 9,
   "metadata": {},
   "outputs": [
    {
     "data": {
      "text/plain": [
       "1"
      ]
     },
     "execution_count": 9,
     "metadata": {},
     "output_type": "execute_result"
    }
   ],
   "source": [
    "tab[3]"
   ]
  },
  {
   "cell_type": "markdown",
   "metadata": {},
   "source": [
    "La longueur du tableau s’obtient par"
   ]
  },
  {
   "cell_type": "code",
   "execution_count": 10,
   "metadata": {
    "scrolled": true
   },
   "outputs": [
    {
     "data": {
      "text/plain": [
       "4"
      ]
     },
     "execution_count": 10,
     "metadata": {},
     "output_type": "execute_result"
    }
   ],
   "source": [
    "len(tab)"
   ]
  },
  {
   "cell_type": "markdown",
   "metadata": {},
   "source": [
    "Pour parcourir toutes les valeurs d’un tableau on peut donc aussi écrire"
   ]
  },
  {
   "cell_type": "code",
   "execution_count": 11,
   "metadata": {},
   "outputs": [
    {
     "name": "stdout",
     "output_type": "stream",
     "text": [
      "4\n",
      "3\n",
      "2\n",
      "1\n"
     ]
    }
   ],
   "source": [
    "for i in range(len(tab)):\n",
    "    print(tab[i])"
   ]
  },
  {
   "cell_type": "markdown",
   "metadata": {},
   "source": [
    "La liste vide est seulement notée avec deux crochets"
   ]
  },
  {
   "cell_type": "code",
   "execution_count": 12,
   "metadata": {},
   "outputs": [],
   "source": [
    "tab=[] # liste vide"
   ]
  },
  {
   "cell_type": "markdown",
   "metadata": {},
   "source": [
    "Pour ajouter un élément à une liste tab existante on utilise la fonction append"
   ]
  },
  {
   "cell_type": "code",
   "execution_count": 13,
   "metadata": {},
   "outputs": [],
   "source": [
    "tab.append(4) #on ajoute 4 à la fin de la liste"
   ]
  },
  {
   "cell_type": "code",
   "execution_count": 14,
   "metadata": {},
   "outputs": [],
   "source": [
    "tab.append(3) #on ajoute 4 "
   ]
  },
  {
   "cell_type": "code",
   "execution_count": 15,
   "metadata": {},
   "outputs": [
    {
     "data": {
      "text/plain": [
       "[4, 3]"
      ]
     },
     "execution_count": 15,
     "metadata": {},
     "output_type": "execute_result"
    }
   ],
   "source": [
    "tab # liste a deux éléments"
   ]
  },
  {
   "cell_type": "markdown",
   "metadata": {},
   "source": [
    "# EXERCICE 2"
   ]
  },
  {
   "cell_type": "markdown",
   "metadata": {},
   "source": [
    "a) Écrire une fonction qui à partir d’une liste $[a_0,a_1,\\ldots,a_n]$ calcule l’entier $N$ correspondant.\n",
    "\n",
    "Par exemple $[4,3,2,1]$ doit renvoyer $1234$"
   ]
  },
  {
   "cell_type": "code",
   "execution_count": 16,
   "metadata": {},
   "outputs": [
    {
     "data": {
      "text/plain": [
       "1234"
      ]
     },
     "execution_count": 16,
     "metadata": {},
     "output_type": "execute_result"
    }
   ],
   "source": [
    "def tableau_entier(tab):\n",
    "    #La fonction renvoie l'entier N correspondant à la liste \n",
    "    entier = 0\n",
    "    for i in range(len(tab)):#On parcourt le tableau\n",
    "        entier += tab[i] * 10^i \n",
    "        # 10^i pour que le premier élément soit celui des unités puis le suivant celui des dizaines..etc\n",
    "    return entier\n",
    "\n",
    "tableau_entier([4,3,2,1])"
   ]
  },
  {
   "cell_type": "markdown",
   "metadata": {},
   "source": [
    "b) Écrire une fonction qui à partir de $N$ calcule son écriture décimale $[a_0,a_1,\\ldots,a_n]$.\n",
    "\n",
    "Par exemple $1234$ doit renvoyer $[4,3,2,1]$"
   ]
  },
  {
   "cell_type": "code",
   "execution_count": 17,
   "metadata": {},
   "outputs": [
    {
     "data": {
      "text/plain": [
       "[4, 3, 2, 1]"
      ]
     },
     "execution_count": 17,
     "metadata": {},
     "output_type": "execute_result"
    }
   ],
   "source": [
    "def entier_tableau(n):\n",
    "    #La fonction renvoie la liste correspondant à l'entier N\n",
    "    tab = []\n",
    "    while n != 0:\n",
    "        tab.append(n%10) #ajoute au tableau le chiffre des unités , puis des dizaines...etc.\n",
    "        n = n // 10\n",
    "    return tab\n",
    "\n",
    "entier_tableau(1234)"
   ]
  },
  {
   "cell_type": "markdown",
   "metadata": {},
   "source": [
    "# L'algorithme d'Euclide"
   ]
  },
  {
   "cell_type": "markdown",
   "metadata": {},
   "source": [
    "L'algorithme d'Euclide est basé sur le principe suivant \n",
    "$$\\text{si } \\ b|a \\text{ alors } pgcd(a,b)=b \\ \\text{ sinon } \\ pgcd(a,b)=pgcd(b, r)$$\n",
    "\n",
    "avec $r$ le reste de la division euclidienne de $a$ par $b$."
   ]
  },
  {
   "cell_type": "markdown",
   "metadata": {},
   "source": [
    "# EXERCICE 3"
   ]
  },
  {
   "cell_type": "markdown",
   "metadata": {},
   "source": [
    "a) Créer une fonction récursive qui calcule le $pgcd$ de $a,b$"
   ]
  },
  {
   "cell_type": "code",
   "execution_count": 18,
   "metadata": {},
   "outputs": [
    {
     "data": {
      "text/plain": [
       "4"
      ]
     },
     "execution_count": 18,
     "metadata": {},
     "output_type": "execute_result"
    }
   ],
   "source": [
    "def pgcd(a, b):\n",
    "    #La fonction renvoie le PGCD de a et b récursivement\n",
    "    reste = a%b\n",
    "    if (reste == 0):#Si le reste est nul alors le pgcd de a et b est celui de b et 0 soit b.\n",
    "        return b\n",
    "    return pgcd(b, reste) #le pgcd de a et b est celui de b et le reste\n",
    "\n",
    "pgcd(56, 4) "
   ]
  },
  {
   "cell_type": "markdown",
   "metadata": {},
   "source": [
    "En Python, nous puvons utiliser `gcd` pour calculer le pgcd de deux nombre. \n",
    "\n",
    "b) Vérifier le bon résultat de votre fonction avec cette commande."
   ]
  },
  {
   "cell_type": "code",
   "execution_count": 19,
   "metadata": {},
   "outputs": [
    {
     "data": {
      "text/plain": [
       "4"
      ]
     },
     "execution_count": 19,
     "metadata": {},
     "output_type": "execute_result"
    }
   ],
   "source": [
    "gcd(56, 4)"
   ]
  },
  {
   "cell_type": "markdown",
   "metadata": {},
   "source": [
    "#  Nombres amiables"
   ]
  },
  {
   "cell_type": "markdown",
   "metadata": {},
   "source": [
    "Pythagore aurait défini l’amitié (de deux entiers) ainsi :\n",
    "\n",
    "            Deux nombres sont amiables ou amicaux si ils sont distincts et si chacun des deux nombres est égal à la somme des  diviseurs stricts (ses diviseurs sauf lui-même) de l’autre.\n",
    "\n",
    "\n",
    "Par exemple : 220 et 284 sont amiables car \n",
    "\n",
    "- $220 + 284 = 504$\n",
    "\n",
    "- somme des diviseurs stricts de $220 = 1+ 2+ 4+ 5+ 10+ 11 +20 +22 +44 +55 +110 = 284$\n",
    "\n",
    "- somme des diviseurs stricts de $284 = 1+ 2+ 4+ 71+142 = 220$\n",
    "    "
   ]
  },
  {
   "cell_type": "markdown",
   "metadata": {},
   "source": [
    "# EXERCICE 4"
   ]
  },
  {
   "cell_type": "markdown",
   "metadata": {},
   "source": [
    "a) Ecrire une fonction `sommediv(N)` qui calcule la somme des diviseurs strict d'un nombre $N$."
   ]
  },
  {
   "cell_type": "code",
   "execution_count": 20,
   "metadata": {},
   "outputs": [
    {
     "data": {
      "text/plain": [
       "284"
      ]
     },
     "execution_count": 20,
     "metadata": {},
     "output_type": "execute_result"
    }
   ],
   "source": [
    "def diviseurs_stricts(n):\n",
    "    # Fonction qui calcule tous les diviseurs stricts d'un nombre N\n",
    "    diviseurs = []\n",
    "    for i in range(1,n):\n",
    "        if (n % i) == 0: # Si le reste dans la division euclidienne de n et i alors i est un diviseur de n.\n",
    "            diviseurs.append(i)\n",
    "    return diviseurs\n",
    "\n",
    "\n",
    "def sommediv(n):\n",
    "    # Fonction sommediv(N) qui calcule la somme des diviseurs strict d'un nombre N .\n",
    "    somme = 0\n",
    "    for i in diviseurs_stricts(n):# On parcourt la liste des diviseurs stricts de n dont on fait la somme.\n",
    "        somme += i\n",
    "    return somme\n",
    "\n",
    "sommediv(220)"
   ]
  },
  {
   "cell_type": "markdown",
   "metadata": {},
   "source": [
    "b) Ecrire une fonction `amiable(N)` qui affiche la liste des paires de nombres amiables qui sont inférieurs à $N$."
   ]
  },
  {
   "cell_type": "code",
   "execution_count": 21,
   "metadata": {},
   "outputs": [],
   "source": [
    "def amiable(N):\n",
    "    \n",
    "    # Affiche la liste des paires de nombres amiables qui sont inférieurs à N\n",
    "    liste_paires = []\n",
    "    \n",
    "    for i in range(1,N):\n",
    "        if((i + sommediv(i)) == (sommediv(i) + sommediv(sommediv(i)))) and (i != sommediv(i)):\n",
    "            \n",
    "            #On regarde si pour tous les nombres i inférieurs à N la somme de ce nombre \n",
    "            #et de la somme de ses diviseurs est égale la somme de ses diviseurs et la somme des diviseurs de ses diviseurs.\n",
    "            \n",
    "            #Si c'est le cas , le nombre et la somme de ses diviseurs sont amiables.\n",
    "            \n",
    "            #Exemple avec 220 et 284 , la somme donne 504 , c'est bien égal à la somme des diviseurs de 220 \n",
    "            #et des diviseurs de 284, et 220 est bien différent de 284 donc ils sont amiables\n",
    "            \n",
    "            #On s'assure aussi que le nombre est différent de la somme de ses diviseurs.\n",
    "            \n",
    "             liste_paires.append((i,sommediv(i)))\n",
    "                \n",
    "    return liste_paires"
   ]
  },
  {
   "cell_type": "markdown",
   "metadata": {},
   "source": [
    "c) Afficher la liste des paires de nombres amiables dont le plus petit des deux est inférieur à 3000"
   ]
  },
  {
   "cell_type": "code",
   "execution_count": 22,
   "metadata": {},
   "outputs": [
    {
     "data": {
      "text/plain": [
       "[(220, 284),\n",
       " (284, 220),\n",
       " (1184, 1210),\n",
       " (1210, 1184),\n",
       " (2620, 2924),\n",
       " (2924, 2620)]"
      ]
     },
     "execution_count": 22,
     "metadata": {},
     "output_type": "execute_result"
    }
   ],
   "source": [
    "amiable(3000)"
   ]
  }
 ],
 "metadata": {
  "kernelspec": {
   "display_name": "SageMath 9.1",
   "language": "sage",
   "name": "sagemath"
  },
  "language_info": {
   "codemirror_mode": {
    "name": "ipython",
    "version": 3
   },
   "file_extension": ".py",
   "mimetype": "text/x-python",
   "name": "python",
   "nbconvert_exporter": "python",
   "pygments_lexer": "ipython3",
   "version": "3.7.3"
  }
 },
 "nbformat": 4,
 "nbformat_minor": 1
}
