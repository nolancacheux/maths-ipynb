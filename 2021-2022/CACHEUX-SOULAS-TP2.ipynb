{
 "cells": [
  {
   "cell_type": "markdown",
   "metadata": {},
   "source": [
    "# TP 2 : Introduction à Sage"
   ]
  },
  {
   "cell_type": "markdown",
   "metadata": {},
   "source": [
    "Consignes :\n",
    "\n",
    "- Renommer ce fichier <b>nom1-nom2-TP2</b> , en cliquant sur le titre du fichier \"TP 2 - Introduction à Sage\" en haut à gauche\n",
    "- <u>TP à rendre dans le devoir Teams à la fin de la séance</u>. Vous avez jusqu'à lundi 18 octobre à minuit pour rendre une version à jour de votre TP si vous le souhaitez.\n",
    "- TP à faire par groupes de 2. Le groupe de travail sera le même pour toute l'année.\n",
    "\n",
    "\n",
    "  Cliquer deux fois sur la cellule pour completer ci-dessous :\n",
    "\n",
    "- NOM PRENOM :CACHEUX Nolan\n",
    "- NOM PRENOM :SOULAS Benjamin\n",
    "\n",
    " \n",
    " \n",
    "\n",
    "\n"
   ]
  },
  {
   "cell_type": "markdown",
   "metadata": {},
   "source": [
    "# Exercice 1"
   ]
  },
  {
   "cell_type": "markdown",
   "metadata": {},
   "source": [
    "Calculer : "
   ]
  },
  {
   "cell_type": "markdown",
   "metadata": {},
   "source": [
    "$42!$"
   ]
  },
  {
   "cell_type": "code",
   "execution_count": 39,
   "metadata": {},
   "outputs": [
    {
     "data": {
      "text/plain": [
       "1405006117752879898543142606244511569936384000000000"
      ]
     },
     "execution_count": 39,
     "metadata": {},
     "output_type": "execute_result"
    }
   ],
   "source": [
    "factorial(42)"
   ]
  },
  {
   "cell_type": "markdown",
   "metadata": {},
   "source": [
    "$\\sqrt{\\frac{1}{5}}+8^3$"
   ]
  },
  {
   "cell_type": "code",
   "execution_count": 40,
   "metadata": {},
   "outputs": [
    {
     "data": {
      "text/plain": [
       "512.447213595500"
      ]
     },
     "execution_count": 40,
     "metadata": {},
     "output_type": "execute_result"
    }
   ],
   "source": [
    "sqrt(1./5)+8^3\n"
   ]
  },
  {
   "cell_type": "markdown",
   "metadata": {},
   "source": [
    "$\\binom{13}{4} \\cdot \\sqrt[3]{\\frac{27}{22}} \\cdot 17!$"
   ]
  },
  {
   "cell_type": "code",
   "execution_count": 41,
   "metadata": {},
   "outputs": [
    {
     "data": {
      "text/plain": [
       "2.72283663158814e17"
      ]
     },
     "execution_count": 41,
     "metadata": {},
     "output_type": "execute_result"
    }
   ],
   "source": [
    "binomial(13,4)*(27./22)^(1/3)*factorial(17)"
   ]
  },
  {
   "cell_type": "markdown",
   "metadata": {},
   "source": [
    "La derivée de $\\ln(5x-e^{3x})$"
   ]
  },
  {
   "cell_type": "code",
   "execution_count": 42,
   "metadata": {},
   "outputs": [
    {
     "data": {
      "text/html": [
       "<html><script type=\"math/tex; mode=display\">\\newcommand{\\Bold}[1]{\\mathbf{#1}}-\\frac{3 \\, e^{\\left(3 \\, x\\right)} - 5}{5 \\, x - e^{\\left(3 \\, x\\right)}}</script></html>"
      ],
      "text/latex": [
       "\\begin{math}\n",
       "\\newcommand{\\Bold}[1]{\\mathbf{#1}}-\\frac{3 \\, e^{\\left(3 \\, x\\right)} - 5}{5 \\, x - e^{\\left(3 \\, x\\right)}}\n",
       "\\end{math}"
      ],
      "text/plain": [
       "-(3*e^(3*x) - 5)/(5*x - e^(3*x))"
      ]
     },
     "metadata": {},
     "output_type": "display_data"
    }
   ],
   "source": [
    "pretty_print(derivative(ln(5*x - exp (3*x)),x))"
   ]
  },
  {
   "cell_type": "markdown",
   "metadata": {},
   "source": [
    "Afficher des décimales de $\\pi$"
   ]
  },
  {
   "cell_type": "code",
   "execution_count": 43,
   "metadata": {},
   "outputs": [
    {
     "data": {
      "text/plain": [
       "3.14159265358979"
      ]
     },
     "execution_count": 43,
     "metadata": {},
     "output_type": "execute_result"
    }
   ],
   "source": [
    "n(pi)"
   ]
  },
  {
   "cell_type": "markdown",
   "metadata": {},
   "source": [
    "Factoriser $4x+4y+2x^2+9x^2+2x^3+9xy$"
   ]
  },
  {
   "cell_type": "code",
   "execution_count": 44,
   "metadata": {},
   "outputs": [
    {
     "data": {
      "text/html": [
       "<html><script type=\"math/tex; mode=display\">\\newcommand{\\Bold}[1]{\\mathbf{#1}}2 \\, x^{3} + 11 \\, x^{2} + 9 \\, x y + 4 \\, x + 4 \\, y</script></html>"
      ],
      "text/latex": [
       "\\begin{math}\n",
       "\\newcommand{\\Bold}[1]{\\mathbf{#1}}2 \\, x^{3} + 11 \\, x^{2} + 9 \\, x y + 4 \\, x + 4 \\, y\n",
       "\\end{math}"
      ],
      "text/plain": [
       "2*x^3 + 11*x^2 + 9*x*y + 4*x + 4*y"
      ]
     },
     "metadata": {},
     "output_type": "display_data"
    }
   ],
   "source": [
    "var ('x y')\n",
    "show(factor(4*x +4*y+2*x^2+9*x^2+2*x^3+9*x*y))"
   ]
  },
  {
   "cell_type": "markdown",
   "metadata": {},
   "source": [
    "# Exercice 2"
   ]
  },
  {
   "cell_type": "markdown",
   "metadata": {},
   "source": [
    "1) Définissez la fonction symbolique $f(x)=\\frac{1}{2+x^4}$\n",
    "\n",
    "2) Calculez $f(2)$ de deux fa&ccedil;ons diff&eacute;rentes (valeur exacte et approximation).\n",
    "\n",
    "3) Tracer le graphe de $f$ en bleu sur l'intervalle $[-3,3]$.\n",
    "\n",
    "4) $f$ est-elle injective ? surjective ? bijective ? Justifier.\n",
    "\n"
   ]
  },
  {
   "cell_type": "code",
   "execution_count": 5,
   "metadata": {},
   "outputs": [],
   "source": [
    "def f(x):\n",
    "    return((1./(2+x^4)))"
   ]
  },
  {
   "cell_type": "code",
   "execution_count": 6,
   "metadata": {},
   "outputs": [
    {
     "name": "stdout",
     "output_type": "stream",
     "text": [
      " Valeur exacte : 1/18 \n",
      " Approximation : 0.0555555555555556\n"
     ]
    }
   ],
   "source": [
    "def calcul(x):\n",
    "    exacte = (1/(2+x^4))\n",
    "    approximation=(1./ (2+x^4))\n",
    "    print(\" Valeur exacte :\", exacte,\"\\n Approximation :\", approximation)\n",
    "    \n",
    "calcul(2)"
   ]
  },
  {
   "cell_type": "code",
   "execution_count": 7,
   "metadata": {},
   "outputs": [
    {
     "data": {
      "image/png": "[encoded data removed]",
      "text/plain": [
       "Graphics object consisting of 1 graphics primitive"
      ]
     },
     "execution_count": 7,
     "metadata": {},
     "output_type": "execute_result"
    }
   ],
   "source": [
    "plot((f(x)),-3,3)"
   ]
  },
  {
   "cell_type": "markdown",
   "metadata": {},
   "source": [
    "$\\textbf{Injectivité : }$\n",
    "\n",
    "Soit $x_1,x_2 \\in R$ :\n",
    "\n",
    "$$f(x_1)=f(x_2) \\Rightarrow 1/(2+(x_1)^4) = 1/(2+(x_2)^4) \\Rightarrow 2+(x_1)^4 = 2+(x_2)^4 \\Rightarrow (x_1)^4 = (x_2)^4 \\nRightarrow x_1 = x_2 $$$$\\text{  ( Si  } x_1 = -1 \\text{  et  } x_2 = 1 \\text {  par exemple,   } x_1 \\text{  n'est pas égal à   } x_2 \\text{  malgré que  } (x_1)^4 \\text{  soit égal à   } (x_2)^4  ) $$ \n",
    "\n",
    "Par conséquent, $f$ n'est pas injective.\n",
    "\n",
    "$\\textbf{Surjectivité :}$\n",
    "\n",
    "$$\\forall y \\in R, \\exists x \\in R,\\text{ } g(x) = y \\text{ }\\Rightarrow \\text{ } 1/(2+x^4) = y \\text{ } \\Rightarrow\\text{ } (2+x^4) = 1/y \\text{ }\\Rightarrow\\text{ } x^4 = 1/y - 2 \\text{ }\\Rightarrow\\text{ } x = \\sqrt[4]{ 1/y  - 2} $$\n",
    "\n",
    "Il faut donc que $y$ soit > 1/2 or , on doit satisfaire la définition pour tout $y \\in R$ donc f n'est pas surjective.\n",
    "\n",
    "Par conséquent , $f$ n'étant pas surjective , $f$ n'est pas $\\textbf{bijective}$."
   ]
  },
  {
   "cell_type": "markdown",
   "metadata": {},
   "source": [
    "# Exercice 3"
   ]
  },
  {
   "cell_type": "markdown",
   "metadata": {},
   "source": [
    "On veut estimer la valeur de la constante mathématique $e$ en utilisant la formule\n",
    "$$e=\\displaystyle \\sum_{k=0}^n \\dfrac{1}{i!}$$\n",
    "\n",
    "1) Programmer avec une boucle l'estimation de $e$ pour un certain ordre $n$.\n",
    "\n",
    "2) Vérifier votre résultat avec la commande sum"
   ]
  },
  {
   "cell_type": "code",
   "execution_count": 3,
   "metadata": {},
   "outputs": [
    {
     "name": "stdout",
     "output_type": "stream",
     "text": [
      "Avec une boucle :  2.71828182845905\n",
      "Avec la commande somme :  2.71828182845905\n"
     ]
    }
   ],
   "source": [
    "e = 0\n",
    "n = 10000\n",
    "for i in range (0, n):\n",
    "    e = e + 1./factorial(i)\n",
    "print(\"Avec une boucle : \", e)\n",
    "\n",
    "print(\"Avec la commande somme : \", sum(1./factorial(x) for x in range(0, n)))"
   ]
  },
  {
   "cell_type": "markdown",
   "metadata": {},
   "source": [
    "# Exercice 4"
   ]
  },
  {
   "cell_type": "markdown",
   "metadata": {},
   "source": [
    "On tire 5 cartes dans un jeu de 32 cartes usuel. Combien y a-t-il de tirages possibles vérifiant la condition suivante :\n",
    "\n",
    "                    Il y a au moins un 10 parmi les cartes tirées\n",
    "\n",
    "Donnez votre réponse de deux manières différentes, en implémentant une boucle."
   ]
  },
  {
   "cell_type": "code",
   "execution_count": 2,
   "metadata": {},
   "outputs": [
    {
     "name": "stdout",
     "output_type": "stream",
     "text": [
      "Le nombre de tirages possibles pour qu'il y ait au moins un 10 parmi les cartes tirées (Méthode 1):  103096\n",
      "Le nombre de tirages possibles pour qu'il y ait au moins un 10 parmi les cartes tirées (Méthode 2):  103096\n"
     ]
    }
   ],
   "source": [
    "\n",
    "def methode1():\n",
    "    \"\"\"\n",
    "    Le nombre de tirages possibles pour qu'il y ait au moins un 10 parmi les cartes tirées est le\n",
    "    nombre total de mains auquel on retranche le nombre de mains contenant aucun 10.\n",
    "    \n",
    "    \"\"\"\n",
    "    return (binomial(32,5)-binomial(28,5))\n",
    "\n",
    "def methode2():\n",
    "    \"\"\"\n",
    "    Le nombre de tirages possibles pour qu'il y ait au moins un 10 parmi les cartes tirées est égal à \n",
    "    binomial(4,1)*binomial(28,4) + binomial(4,2)*binomial(28,3) + binomial(4,3)*binomial(28,2) + binomial(4,4)*binomial(28,1)\n",
    "    \n",
    "    \"\"\"\n",
    "    tirage_compteur = 0 #Compteur du nombre de tirage.\n",
    "    \n",
    "    j=4 # j va prendre les valeurs 4,3,2,1 ; on l'initialise à 4\n",
    "    \n",
    "    for i in range(1,5):# i prend les valeurs 1,2,3,4\n",
    "        \n",
    "        tirage_compteur += (binomial(4,i)* binomial(28,j))\n",
    "\n",
    "        j -= 1\n",
    "        \n",
    "    return tirage_compteur\n",
    "\n",
    "#help(methode1)\n",
    "#help(methode2)                        \n",
    "                            \n",
    "print(\"Le nombre de tirages possibles pour qu'il y ait au moins un 10 parmi les cartes tirées (Méthode 1): \", methode1())\n",
    "print(\"Le nombre de tirages possibles pour qu'il y ait au moins un 10 parmi les cartes tirées (Méthode 2): \", methode2())\n",
    "\n",
    "\n",
    "\n",
    "\n"
   ]
  }
 ],
 "metadata": {
  "kernelspec": {
   "display_name": "SageMath 9.1",
   "language": "sage",
   "name": "sagemath"
  },
  "language_info": {
   "codemirror_mode": {
    "name": "ipython",
    "version": 3
   },
   "file_extension": ".py",
   "mimetype": "text/x-python",
   "name": "python",
   "nbconvert_exporter": "python",
   "pygments_lexer": "ipython3",
   "version": "3.7.3"
  }
 },
 "nbformat": 4,
 "nbformat_minor": 1
}
