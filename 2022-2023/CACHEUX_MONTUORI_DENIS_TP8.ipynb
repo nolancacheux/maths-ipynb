{
 "cells": [
  {
   "cell_type": "markdown",
   "metadata": {},
   "source": [
    "# TP8 - Série génératrice"
   ]
  },
  {
   "cell_type": "markdown",
   "metadata": {},
   "source": [
    "### CACHEUX Nolan , MONTUORI Milo , DENIS Guillaume"
   ]
  },
  {
   "cell_type": "markdown",
   "metadata": {},
   "source": [
    "<div class=\"alert-info\">\n",
    "\n",
    "   ### Série génératrice\n",
    "\n",
    "</div>"
   ]
  },
  {
   "cell_type": "code",
   "execution_count": 24,
   "metadata": {},
   "outputs": [
    {
     "data": {
      "text/plain": [
       "1 + x + 2*x^2 + 3*x^3 + 5*x^4 + 8*x^5 + 13*x^6 + 21*x^7 + 34*x^8 + 55*x^9 + 89*x^10 + 144*x^11 + 233*x^12 + 377*x^13 + 610*x^14 + 987*x^15 + 1597*x^16 + 2584*x^17 + 4181*x^18 + 6765*x^19 + O(x^20)"
      ]
     },
     "execution_count": 24,
     "metadata": {},
     "output_type": "execute_result"
    }
   ],
   "source": [
    "R.<x> = PowerSeriesRing ( QQ )\n",
    "F = 1/(1 - x - x ^2)\n",
    "F\n"
   ]
  },
  {
   "cell_type": "markdown",
   "metadata": {},
   "source": [
    "<div class=\"alert-info\">\n",
    "\n",
    "   ### Exercice 1 : question de partages\n",
    "\n",
    "</div>"
   ]
  },
  {
   "cell_type": "code",
   "execution_count": 25,
   "metadata": {},
   "outputs": [
    {
     "name": "stdout",
     "output_type": "stream",
     "text": [
      "Façons de répartir les biscuits en tas de paquets 2 et paquets de 3 :  8\n"
     ]
    }
   ],
   "source": [
    "R.<x > = PowerSeriesRing ( QQ , 50)\n",
    "print(\"Façons de répartir les biscuits en tas de paquets 2 et paquets de 3 : \",(1/(1 - x ^2) * 1/(1 - x ^3) ).padded_list () [42]) # get the coefficient of x^42\n"
   ]
  },
  {
   "cell_type": "markdown",
   "metadata": {},
   "source": [
    "On vérifie ainsi qu’il y a 8 façons de répartir les biscuits en tas de paquets 2 et paquets de 3. On liste toutes les possibilités de partage entre Vivien et Pierre : "
   ]
  },
  {
   "cell_type": "code",
   "execution_count": 26,
   "metadata": {},
   "outputs": [
    {
     "name": "stdout",
     "output_type": "stream",
     "text": [
      "(a, b) = (0, 14)\n",
      "(a, b) = (3, 12)\n",
      "(a, b) = (6, 10)\n",
      "(a, b) = (9, 8)\n",
      "(a, b) = (12, 6)\n",
      "(a, b) = (15, 4)\n",
      "(a, b) = (18, 2)\n"
     ]
    }
   ],
   "source": [
    "def repartition_biscuits():\n",
    "    a = 0\n",
    "    b = 0\n",
    "    for i in range(21):\n",
    "        a = i\n",
    "        b = (42 - (2 * a))/3\n",
    "        if b.is_integer():\n",
    "            print(\"(a, b) = (\" + str(a) + \", \" + str(int(b)) + \")\")\n",
    "\n",
    "repartition_biscuits()"
   ]
  },
  {
   "cell_type": "markdown",
   "metadata": {},
   "source": [
    "En utilisant cette méthode, on détermine le nombre de façons de répartir 10 biscuits entre deux personnes si on suppose que tous les biscuits soient distribués par paquets de 1"
   ]
  },
  {
   "cell_type": "markdown",
   "metadata": {},
   "source": [
    "### (a)"
   ]
  },
  {
   "cell_type": "markdown",
   "metadata": {},
   "source": [
    "Pour répartir 10 biscuits entre deux personnes, avec des paquets de taille 1, il faut utiliser n = 10, k = 2 et m1 = m2 = 1. Le coefficient de x^10 dans la fonction génératrice produit de i allant de 1 à 2 de (1-(x^m_i))^-1 , est le nombre de façons de répartir 10 biscuits entre deux personnes.\n",
    "Ici on a donc en remplaçant avec nos paramètres la fonction génératrice F = (1 -x)^(-2)"
   ]
  },
  {
   "cell_type": "code",
   "execution_count": 27,
   "metadata": {},
   "outputs": [
    {
     "data": {
      "text/plain": [
       "1 + 2*x + 3*x^2 + 4*x^3 + 5*x^4 + 6*x^5 + 7*x^6 + 8*x^7 + 9*x^8 + 10*x^9 + 11*x^10 + 12*x^11 + 13*x^12 + 14*x^13 + 15*x^14 + 16*x^15 + 17*x^16 + 18*x^17 + 19*x^18 + 20*x^19 + O(x^20)"
      ]
     },
     "execution_count": 27,
     "metadata": {},
     "output_type": "execute_result"
    }
   ],
   "source": [
    "R.<x> = PowerSeriesRing ( QQ )\n",
    "F = (1 -x)^(-2)\n",
    "F"
   ]
  },
  {
   "cell_type": "code",
   "execution_count": 28,
   "metadata": {},
   "outputs": [
    {
     "name": "stdout",
     "output_type": "stream",
     "text": [
      "\n",
      "Le nombre de façon de répartir les biscuits:  11\n"
     ]
    }
   ],
   "source": [
    "print(\"\\nLe nombre de façon de répartir les biscuits: \", F. padded_list () [10]) "
   ]
  },
  {
   "cell_type": "code",
   "execution_count": 29,
   "metadata": {},
   "outputs": [
    {
     "name": "stdout",
     "output_type": "stream",
     "text": [
      "Tous les couples possibles :\n",
      "\n",
      " (a, b) = (0, 10)\n",
      " (a, b) = (1, 9)\n",
      " (a, b) = (2, 8)\n",
      " (a, b) = (3, 7)\n",
      " (a, b) = (4, 6)\n",
      " (a, b) = (5, 5)\n",
      " (a, b) = (6, 4)\n",
      " (a, b) = (7, 3)\n",
      " (a, b) = (8, 2)\n",
      " (a, b) = (9, 1)\n",
      " (a, b) = (10, 0)\n",
      "\n",
      "Le nombre de façon de répartir les biscuits:  11\n",
      "On Retrouve bien la même chose qu'avec la méthode demandée dans l'exercice !\n"
     ]
    }
   ],
   "source": [
    "def repartition_biscuits():\n",
    "    print(\"Tous les couples possibles :\\n\")\n",
    "    compteur = 0\n",
    "    for x in range(0,11):\n",
    "        for y in range(0,11):\n",
    "            result = x + y\n",
    "            if(result==10):\n",
    "                print(\" (a, b) = (\" + str(x) + \", \" + str(int(y)) + \")\")\n",
    "                compteur+=1\n",
    "        \n",
    "    print(\"\\nLe nombre de façon de répartir les biscuits: \", compteur)\n",
    "    \n",
    "repartition_biscuits()\n",
    "print(\"On Retrouve bien la même chose qu'avec la méthode demandée dans l'exercice !\")"
   ]
  },
  {
   "cell_type": "markdown",
   "metadata": {},
   "source": [
    "AVEC les techniques combinatoires usuelles :\n",
    "\n",
    "répartir k biscuits entre n personnes = (k+n–1)C(n–1)\n",
    "\n",
    "\n",
    "La première personne a 1 possibilité parmi 10 et la deuxième personne n'a plus qu'une possibilité car la somme doit faire 10 donc 11 posssibilités: "
   ]
  },
  {
   "cell_type": "code",
   "execution_count": 30,
   "metadata": {},
   "outputs": [
    {
     "name": "stdout",
     "output_type": "stream",
     "text": [
      "11\n"
     ]
    }
   ],
   "source": [
    "k = 10 # k biscuits \n",
    "n = 2 # n personnes\n",
    "\n",
    "#calcule le nombre de façons de répartir k biscuits entre n personnes\n",
    "result = binomial(k+n-1, n-1)\n",
    "\n",
    "print(result)\n"
   ]
  },
  {
   "cell_type": "code",
   "execution_count": 31,
   "metadata": {},
   "outputs": [
    {
     "name": "stdout",
     "output_type": "stream",
     "text": [
      "66\n"
     ]
    }
   ],
   "source": [
    "k = 10 # k biscuits \n",
    "n = 3 # n personnes\n",
    "\n",
    "#calcule le nombre de façons de répartir k biscuits entre n personnes\n",
    "result = binomial(k+n-1, n-1)\n",
    "\n",
    "print(result)\n"
   ]
  },
  {
   "cell_type": "markdown",
   "metadata": {},
   "source": [
    "![voir jpg fourni](2NOLANEX1JUSTIF.jpg)\n"
   ]
  },
  {
   "cell_type": "markdown",
   "metadata": {},
   "source": [
    "![voir jpg  fourni]( 3NOLANEX1JUSTIF_.jpg)"
   ]
  },
  {
   "cell_type": "markdown",
   "metadata": {},
   "source": [
    "### (b) \n",
    "Si une troisième personne se joint à la partie"
   ]
  },
  {
   "cell_type": "markdown",
   "metadata": {},
   "source": [
    "Pour répartir 10 biscuits entre trois personnes, il faut utiliser n = 10, k = 3 et m1 = m2 = m3 = 1. Le coefficient de x^10 dans la fonction génératrice produit de i allant de 1 à 3 de (1-(x^m_i))^-1 est le nombre de façons de répartir 10 biscuits entre trois personnes.\n",
    "\n",
    "Ici on a donc en remplaçant avec nos paramètres la fonction génératrice F = (1 -x)^(-2)"
   ]
  },
  {
   "cell_type": "markdown",
   "metadata": {},
   "source": [
    "Ainsi, avec la méthode : "
   ]
  },
  {
   "cell_type": "code",
   "execution_count": 32,
   "metadata": {},
   "outputs": [
    {
     "data": {
      "text/plain": [
       "1 + 3*x + 6*x^2 + 10*x^3 + 15*x^4 + 21*x^5 + 28*x^6 + 36*x^7 + 45*x^8 + 55*x^9 + 66*x^10 + 78*x^11 + 91*x^12 + 105*x^13 + 120*x^14 + 136*x^15 + 153*x^16 + 171*x^17 + 190*x^18 + 210*x^19 + O(x^20)"
      ]
     },
     "execution_count": 32,
     "metadata": {},
     "output_type": "execute_result"
    }
   ],
   "source": [
    "R.<x> = PowerSeriesRing ( QQ )\n",
    "F = (1 -x)^(-3)\n",
    "F"
   ]
  },
  {
   "cell_type": "code",
   "execution_count": 33,
   "metadata": {},
   "outputs": [
    {
     "name": "stdout",
     "output_type": "stream",
     "text": [
      "\n",
      "Le nombre de façon de répartir les biscuits:  66\n"
     ]
    }
   ],
   "source": [
    "print(\"\\nLe nombre de façon de répartir les biscuits: \", F. padded_list () [10]) "
   ]
  },
  {
   "cell_type": "markdown",
   "metadata": {},
   "source": [
    "On vérifie en affichant tous les couples possibles : "
   ]
  },
  {
   "cell_type": "code",
   "execution_count": 34,
   "metadata": {},
   "outputs": [
    {
     "name": "stdout",
     "output_type": "stream",
     "text": [
      "Tous les couples possibles :\n",
      "\n",
      " (a, b, c) = (0, 0, 10)\n",
      " (a, b, c) = (0, 1, 9)\n",
      " (a, b, c) = (0, 2, 8)\n",
      " (a, b, c) = (0, 3, 7)\n",
      " (a, b, c) = (0, 4, 6)\n",
      " (a, b, c) = (0, 5, 5)\n",
      " (a, b, c) = (0, 6, 4)\n",
      " (a, b, c) = (0, 7, 3)\n",
      " (a, b, c) = (0, 8, 2)\n",
      " (a, b, c) = (0, 9, 1)\n",
      " (a, b, c) = (0, 10, 0)\n",
      " (a, b, c) = (1, 0, 9)\n",
      " (a, b, c) = (1, 1, 8)\n",
      " (a, b, c) = (1, 2, 7)\n",
      " (a, b, c) = (1, 3, 6)\n",
      " (a, b, c) = (1, 4, 5)\n",
      " (a, b, c) = (1, 5, 4)\n",
      " (a, b, c) = (1, 6, 3)\n",
      " (a, b, c) = (1, 7, 2)\n",
      " (a, b, c) = (1, 8, 1)\n",
      " (a, b, c) = (1, 9, 0)\n",
      " (a, b, c) = (2, 0, 8)\n",
      " (a, b, c) = (2, 1, 7)\n",
      " (a, b, c) = (2, 2, 6)\n",
      " (a, b, c) = (2, 3, 5)\n",
      " (a, b, c) = (2, 4, 4)\n",
      " (a, b, c) = (2, 5, 3)\n",
      " (a, b, c) = (2, 6, 2)\n",
      " (a, b, c) = (2, 7, 1)\n",
      " (a, b, c) = (2, 8, 0)\n",
      " (a, b, c) = (3, 0, 7)\n",
      " (a, b, c) = (3, 1, 6)\n",
      " (a, b, c) = (3, 2, 5)\n",
      " (a, b, c) = (3, 3, 4)\n",
      " (a, b, c) = (3, 4, 3)\n",
      " (a, b, c) = (3, 5, 2)\n",
      " (a, b, c) = (3, 6, 1)\n",
      " (a, b, c) = (3, 7, 0)\n",
      " (a, b, c) = (4, 0, 6)\n",
      " (a, b, c) = (4, 1, 5)\n",
      " (a, b, c) = (4, 2, 4)\n",
      " (a, b, c) = (4, 3, 3)\n",
      " (a, b, c) = (4, 4, 2)\n",
      " (a, b, c) = (4, 5, 1)\n",
      " (a, b, c) = (4, 6, 0)\n",
      " (a, b, c) = (5, 0, 5)\n",
      " (a, b, c) = (5, 1, 4)\n",
      " (a, b, c) = (5, 2, 3)\n",
      " (a, b, c) = (5, 3, 2)\n",
      " (a, b, c) = (5, 4, 1)\n",
      " (a, b, c) = (5, 5, 0)\n",
      " (a, b, c) = (6, 0, 4)\n",
      " (a, b, c) = (6, 1, 3)\n",
      " (a, b, c) = (6, 2, 2)\n",
      " (a, b, c) = (6, 3, 1)\n",
      " (a, b, c) = (6, 4, 0)\n",
      " (a, b, c) = (7, 0, 3)\n",
      " (a, b, c) = (7, 1, 2)\n",
      " (a, b, c) = (7, 2, 1)\n",
      " (a, b, c) = (7, 3, 0)\n",
      " (a, b, c) = (8, 0, 2)\n",
      " (a, b, c) = (8, 1, 1)\n",
      " (a, b, c) = (8, 2, 0)\n",
      " (a, b, c) = (9, 0, 1)\n",
      " (a, b, c) = (9, 1, 0)\n",
      " (a, b, c) = (10, 0, 0)\n",
      "\n",
      "Le nombre de façon de répartir les biscuits:  66\n",
      "On Retrouve bien la même chose qu'avec la méthode demandée dans l'exercice !\n"
     ]
    }
   ],
   "source": [
    "def repartition_biscuits():\n",
    "    print(\"Tous les couples possibles :\\n\")\n",
    "    compteur = 0\n",
    "    for x in range(0,11):\n",
    "        for y in range(0,11):\n",
    "            for z in range(0,11):\n",
    "                result = x + y + z\n",
    "                if(result==10):\n",
    "                    print(\" (a, b, c) = (\" + str(x) + \", \" + str(int(y)) + \", \" + str(int(z)) +\")\")\n",
    "                    compteur+=1\n",
    "    print(\"\\nLe nombre de façon de répartir les biscuits: \", compteur)\n",
    "    \n",
    "repartition_biscuits()\n",
    "print(\"On Retrouve bien la même chose qu'avec la méthode demandée dans l'exercice !\")"
   ]
  },
  {
   "cell_type": "markdown",
   "metadata": {},
   "source": [
    "Est-ce que les réponses sont cohérentes avec les techniques combinatoires usuelles ?"
   ]
  },
  {
   "cell_type": "markdown",
   "metadata": {},
   "source": [
    "## 2.\n",
    "De combien de façons peut-on rendre 1.47 euros en monnaie ?"
   ]
  },
  {
   "cell_type": "markdown",
   "metadata": {},
   "source": [
    "Pour calculer le nombre de façons de rendre 1.47 euros en monnaie, nous pouvons utiliser la méthode décrite précédemment avec \n",
    "\n",
    "n = 147 (1.47 € converti en centimes),\n",
    "\n",
    "k = 8 (il y a 8 types de pièces en euro: 1c, 2c, 5c, 10c, 20c, 50c, 1€)\n",
    "\n",
    "Les tailles de paquet m1 = 1, m2 = 2, m3 = 5, m4 = 10, m5 = 20, m6 = 50, m7 = 100. \n",
    "\n",
    "Le coefficient de x^147 dans la fonction génératrice produit de i allant de 1 à 7 de (1-(x^mi))^-1 est le nombre de façons de rendre 1.47 euros en monnaie."
   ]
  },
  {
   "cell_type": "code",
   "execution_count": 35,
   "metadata": {},
   "outputs": [],
   "source": [
    "R.<x> = PowerSeriesRing ( QQ,148 )\n",
    "\n",
    "pieces = [1,2,5,10,20,50,100]\n",
    "\n",
    "F = 1\n",
    "for i in pieces: \n",
    "    F *= (1-x^i)^-1 \n",
    "#F"
   ]
  },
  {
   "cell_type": "code",
   "execution_count": 36,
   "metadata": {},
   "outputs": [
    {
     "name": "stdout",
     "output_type": "stream",
     "text": [
      "\n",
      "Le nombre de façon de rendre 1.47 euros en monnaie : 20116\n"
     ]
    }
   ],
   "source": [
    "print(\"\\nLe nombre de façon de rendre 1.47 euros en monnaie :\", F. padded_list () [147]) "
   ]
  },
  {
   "cell_type": "code",
   "execution_count": null,
   "metadata": {},
   "outputs": [],
   "source": []
  },
  {
   "cell_type": "markdown",
   "metadata": {},
   "source": [
    "(a) Pour calculer le nombre de façons d'écrire 20 comme la somme d'entiers positifs, où l'ordre des termes n'a pas d'importance, nous pouvons utiliser la méthode décrite précédemment avec n = 20, k = 20 (car il y a 20 entiers positifs de 1 à 20) et m1 = 1, m2 = 2 , ... = m20 = 20. Le coefficient de x^20 dans la fonction génératrice produit de i allant de 1 à 20 de (1-(x^mi))^-1 est le nombre de façons d'écrire 20 = a1 × 1 + a2 × 2 + · · · + a20 × 20."
   ]
  },
  {
   "cell_type": "code",
   "execution_count": 37,
   "metadata": {},
   "outputs": [],
   "source": [
    "R.<x> = PowerSeriesRing ( QQ,148 )\n",
    "F = 1\n",
    "for i in range(1,21): \n",
    "    F *= (1-x^i)^-1 \n",
    "#F"
   ]
  },
  {
   "cell_type": "code",
   "execution_count": 38,
   "metadata": {},
   "outputs": [
    {
     "name": "stdout",
     "output_type": "stream",
     "text": [
      "\n",
      "Le nombre de façon d'écrire 20 comme la somme d’entiers positifs sans ordre :      627\n"
     ]
    }
   ],
   "source": [
    "print(\"\\nLe nombre de façon d'écrire 20 comme la somme d’entiers positifs sans ordre :     \", F. padded_list () [20]) "
   ]
  },
  {
   "cell_type": "markdown",
   "metadata": {},
   "source": [
    "(b) Pour calculer le nombre de façons d'écrire 20 comme la somme d'entiers positifs, où l'ordre des termes importe, nous pouvons utiliser la méthode décrite précédemment avec n = 20, k = 20 et m1 = 1. Le coefficient de x^20 dans la fonction génératrice SOMME de i allant de 1 à 20 de (x/(1-x))^i est le nombre de façons d'écrire 20 en utilisant des paquets de 1."
   ]
  },
  {
   "cell_type": "markdown",
   "metadata": {},
   "source": [
    "![voir jpg fourni](NOLANEX1JUSTIF.jpg)"
   ]
  },
  {
   "cell_type": "markdown",
   "metadata": {},
   "source": [
    "Lorsque l'ordre est importannt,  x^0 n'existe pas donc ce n'est plus avec 1/(1-x) que l'on travaille mais avec x/(1-x), AINSI,  on fait la somme de k=1 à k=20 de (x/(1-x))^k "
   ]
  },
  {
   "cell_type": "markdown",
   "metadata": {},
   "source": [
    "<div class=\"alert-info\">\n",
    "\n",
    "   ### Exercice 2 : empilement et dépilement\n",
    "\n",
    "</div>"
   ]
  },
  {
   "cell_type": "code",
   "execution_count": 39,
   "metadata": {},
   "outputs": [],
   "source": [
    "R.<x> = PowerSeriesRing ( QQ,148 )\n",
    "F = 0\n",
    "for i in range(1,21): \n",
    "    F += (x/(1-x))^i\n",
    "#F"
   ]
  },
  {
   "cell_type": "code",
   "execution_count": 40,
   "metadata": {},
   "outputs": [
    {
     "name": "stdout",
     "output_type": "stream",
     "text": [
      "\n",
      "Le nombre de façon d'écrire 20 comme la somme d’entiers positifs avec ordre :   524288\n"
     ]
    }
   ],
   "source": [
    "print(\"\\nLe nombre de façon d'écrire 20 comme la somme d’entiers positifs avec ordre :  \", F. padded_list () [20]) "
   ]
  },
  {
   "cell_type": "code",
   "execution_count": 72,
   "metadata": {},
   "outputs": [
    {
     "data": {
      "text/plain": [
       "8"
      ]
     },
     "execution_count": 72,
     "metadata": {},
     "output_type": "execute_result"
    }
   ],
   "source": [
    "R.<x> = PowerSeriesRing(QQ, 50)\n",
    "(1/(1 -x^2) * 1/(1-x^3)).padded_list()[42]\n",
    "#(1/(1 -x^2) * 1/(1-x^3))"
   ]
  },
  {
   "cell_type": "code",
   "execution_count": 42,
   "metadata": {},
   "outputs": [
    {
     "data": {
      "text/plain": [
       "False"
      ]
     },
     "execution_count": 42,
     "metadata": {},
     "output_type": "execute_result"
    }
   ],
   "source": [
    "# Fonction deDyck :\n",
    "# -- return True si le mot en paramètre est un mot de Dyck\n",
    "# -- return False sinon\n",
    "\n",
    "def deDyck(mot):\n",
    "    \n",
    "    # Je vérifie qu'on empile pas à la fin ou qu'on ne dépile pas au début\n",
    "    if ((mot[-1] == \"E\") or (mot[0] == \"D\")):\n",
    "        return false\n",
    "        \n",
    "    # Sinon, je crée une variable qui compte le nombre \"d'entrée dans une paranthèse\"\n",
    "    # J'ajoute 1 à chaque E (empilement) et j'enlève 1 à chaque D (dépilement)\n",
    "    NbE = 0\n",
    "    for lettre in mot:\n",
    "        if lettre == \"E\":\n",
    "            NbE += 1\n",
    "        else:\n",
    "            if NbE > 0:\n",
    "                NbE -= 1\n",
    "            else:\n",
    "                return False # Je dépile trop ! (j'enlève un objet qui n'existe pas)\n",
    "    \n",
    "    # Si ce nombre n'est pas égal à zéro à la fin, il y a un problème : \n",
    "    # J'empile plus que je ne dépile ou inversement\n",
    "    if NbE != 0:\n",
    "        return False\n",
    "    \n",
    "    return True\n",
    "    \n",
    "deDyck(\"EDEDDEED\")"
   ]
  },
  {
   "cell_type": "code",
   "execution_count": 43,
   "metadata": {},
   "outputs": [
    {
     "name": "stdout",
     "output_type": "stream",
     "text": [
      "['EDEDED', 'EDEEDD', 'EEDDED', 'EEDEDD', 'EEEDDD'] 5\n"
     ]
    }
   ],
   "source": [
    "# Fonction recDyck :\n",
    "# -- return un tableau de tous les mots possibles d'une longueur 2n\n",
    "\n",
    "# Pour les besoins de la récursivité (garder des données en paramètres à travers les exécutions),\n",
    "# je crée une fonction avec la taille des \"futurs mots\", une chaine de caractère\n",
    "# contenant le mot actuel, le nombre \"d'ouverture\" (de fois empilé mais pas dépilé)\n",
    "# ainsi que le tableau final, contenant tous les mots possible\n",
    "\n",
    "# Je n'ai pas utilisé la méthode consistant en boucle appelant x fois la fonction,\n",
    "# cela m'évite des récursions (je crois)\n",
    "\n",
    "def recDyck(n, mot = \"\", NbE = 0, final = []):\n",
    "    \n",
    "    # Si le mot est fini (la longueur du mot = 2n)\n",
    "    if len(mot) == 2 * n:\n",
    "        final.append(mot)\n",
    "        \n",
    "    else:\n",
    "        # Si le nombre \"d'ouverture\" est trop grand, on rajoute un D\n",
    "        if NbE > len(mot) - NbE:\n",
    "            recDyck(n, mot + \"D\", NbE, final)\n",
    "        \n",
    "        # Si la longueur du mot est supérieur au nombre \"d'ouverture\", on ajoute un E\n",
    "        if NbE < n:\n",
    "            recDyck(n, mot + \"E\", NbE + 1, final)\n",
    "\n",
    "\n",
    "    return final\n",
    "\n",
    "t = recDyck(3)\n",
    "print(t, len(t)) \n",
    "\n",
    "\n",
    "# Par contre, la complexité de cette fonction est exponentielle par rapport à n, \n",
    "# Cela peut rendre la fonction très lente et consommer beaucoup de mémoire pour des grandes valeurs de n.\n",
    "# On pourrait enregistré les valeurs dans un tableau et vérifié si la valeur est présente ou non avant de lancer la fonction récursive\n"
   ]
  },
  {
   "cell_type": "code",
   "execution_count": 44,
   "metadata": {},
   "outputs": [
    {
     "data": {
      "text/plain": [
       "[[1, 0, 1, 0, 1, 0],\n",
       " [1, 0, 1, 1, 0, 0],\n",
       " [1, 1, 0, 0, 1, 0],\n",
       " [1, 1, 0, 1, 0, 0],\n",
       " [1, 1, 1, 0, 0, 0]]"
      ]
     },
     "execution_count": 44,
     "metadata": {},
     "output_type": "execute_result"
    }
   ],
   "source": [
    "# On peut vérifier cette liste avec la fonction DyckWords présente dans Sage.\n",
    "# Il suffit de remplacer les 1 par des E et les 0 par D.\n",
    "\n",
    "DyckWords(3).list()\n",
    "\n",
    "# Nous obtenons bien la même liste."
   ]
  },
  {
   "cell_type": "code",
   "execution_count": 45,
   "metadata": {},
   "outputs": [
    {
     "name": "stdout",
     "output_type": "stream",
     "text": [
      "42\n",
      "47\n"
     ]
    }
   ],
   "source": [
    "# Le problème avec un tableau en paramètre d'une fonction récursive, \n",
    "# c'est que les données du tableau sont enregistrés d'un appel à l'autre (premier appel de la fonction)\n",
    "# Il faut donc, à chaque rappel de la fonction, réinitialisé le tableau des résultats (soit un tableau vide)\n",
    "\n",
    "print(len(recDyck(5, final = [])))\n",
    "\n",
    "# Sinon, si on réexecute UNIQUEMENT cette cellule, le nombre d'élément ne se remettra pas à 0, alors que c'est le même appel.\n",
    "print(len(recDyck(5)))  "
   ]
  },
  {
   "cell_type": "code",
   "execution_count": 46,
   "metadata": {},
   "outputs": [
    {
     "name": "stdout",
     "output_type": "stream",
     "text": [
      "Voici le nombre des mots de Dyck pour n allant de 1 à 10:\n",
      "Nombre de mot pour n = 1 :  1\n",
      "Nombre de mot pour n = 2 :  2\n",
      "Nombre de mot pour n = 3 :  5\n",
      "Nombre de mot pour n = 4 :  14\n",
      "Nombre de mot pour n = 5 :  42\n",
      "Nombre de mot pour n = 6 :  132\n",
      "Nombre de mot pour n = 7 :  429\n",
      "Nombre de mot pour n = 8 :  1430\n",
      "Nombre de mot pour n = 9 :  4862\n",
      "Nombre de mot pour n = 10 :  16796\n"
     ]
    }
   ],
   "source": [
    "# Faisons l'appel de la fonction précédente pour n allant de 1 à 10:\n",
    "\n",
    "print(\"Voici le nombre des mots de Dyck pour n allant de 1 à 10:\")\n",
    "\n",
    "for n in range(1,11):\n",
    "    t = recDyck(n, final = [])\n",
    "    print(\"Nombre de mot pour n =\",n,\": \", len(t)) \n",
    "    \n",
    "    \n",
    "# Ceci n'est pas du tout optimisé, car on rappel la fonction pour calculer plusieurs fois la même chose\n",
    "# I.e : Si on calcul recDyck(1), puis recDyck(2), on calcule indirectement 2 fois recDyck(1).\n",
    "# Comme dit précédement, on pourrait enregistré les valeurs dans un tableau et vérifié \n",
    "# si la valeur est présente ou non avant de lancer la fonction récursive."
   ]
  },
  {
   "cell_type": "code",
   "execution_count": 48,
   "metadata": {},
   "outputs": [
    {
     "name": "stdout",
     "output_type": "stream",
     "text": [
      "Nombre de mot pour n = 1 :  1\n",
      "Nombre de mot pour n = 2 :  2\n",
      "Nombre de mot pour n = 3 :  5\n",
      "Nombre de mot pour n = 4 :  14\n",
      "Nombre de mot pour n = 5 :  42\n",
      "Nombre de mot pour n = 6 :  132\n",
      "Nombre de mot pour n = 7 :  429\n",
      "Nombre de mot pour n = 8 :  1430\n",
      "Nombre de mot pour n = 9 :  4862\n",
      "Nombre de mot pour n = 10 :  16796\n"
     ]
    }
   ],
   "source": [
    "# UNe manière plus efficace et optimisée pour lister le nombre de mots de Dyck pour n allant de 1 à 10 :\n",
    "# c'est d'utiliser la programmation dynamique\n",
    "#ce qui permet de réduire considérablement le temps d'exécution et la mémoire utilisée\n",
    "# On va trouver le nombre de manières de générer un mot de Dyck de longueur i \n",
    "# en utilisant le nombre de manières pour les longueurs i-1, i-2, i-3 et ainsi de suite\n",
    "\n",
    "# On initialise un tableau pour stocker les résultats\n",
    "dyck = [0] * (10+1)\n",
    "dyck[0] = 1\n",
    "dyck[1] = 1\n",
    "\n",
    "# On remplit le tableau en utilisant la formule de récurrence\n",
    "for i in range(2, 11):\n",
    "    for j in range(i):\n",
    "        dyck[i] += dyck[j] * dyck[i-j-1]\n",
    "\n",
    "for i in range(1, 11):\n",
    "    print(\"Nombre de mot pour n =\",i,\": \", dyck[i])\n"
   ]
  },
  {
   "cell_type": "code",
   "execution_count": 68,
   "metadata": {},
   "outputs": [
    {
     "name": "stdout",
     "output_type": "stream",
     "text": [
      "Nombre de mot pour n = 1 :  1\n",
      "Nombre de mot pour n = 2 :  2\n",
      "Nombre de mot pour n = 3 :  5\n",
      "Nombre de mot pour n = 4 :  14\n",
      "Nombre de mot pour n = 5 :  42\n",
      "Nombre de mot pour n = 6 :  132\n",
      "Nombre de mot pour n = 7 :  429\n",
      "Nombre de mot pour n = 8 :  1430\n",
      "Nombre de mot pour n = 9 :  4862\n",
      "Nombre de mot pour n = 10 :  16796\n"
     ]
    }
   ],
   "source": [
    "# On utilise la formule suivante pour calculer le nombre de mots de Dyck de longueur 2n:\n",
    "# C_n = (2n)! / (n! * (n+1)!)\n",
    "\n",
    "for n in range(1, 11):\n",
    "    # On calcule C_n en utilisant la formule mentionnée ci-dessus\n",
    "    C_n = factorial(2*n) // (factorial(n) * factorial(n+1))\n",
    "    \n",
    "    print(\"Nombre de mot pour n =\",n,\": \", C_n)\n"
   ]
  },
  {
   "cell_type": "markdown",
   "metadata": {},
   "source": [
    "La formule C_n = (2n)! / (n! * (n+1)!) est utilisée pour calculer le nombre de mots de Dyck de longueur 2n.\n",
    "Elle vient de la combinatoire des chemins, on se base sur l e fait que pour construire un mot de Dyck de longueur 2n, \n",
    "on  choisit n positions parmis les 2n pour y placer les caractères \"D\" (dépilement) et\n",
    "on respecte  la condition que pour chaque \"D\" il y ait un \"E\" (empilement) avant\n",
    "\n",
    "Cette formule peut être exprimée comme étant le nombre de \n",
    "façons de choisir n \"D\" parmi les 2n positions , ellee est aussi connu pour etre le  n-ème terme de la suite de Catalan"
   ]
  },
  {
   "cell_type": "raw",
   "metadata": {},
   "source": [
    "4. Confirmer les valeurs trouvées à la question précédente avec les10premiers coefficients de la fonction génératrice :"
   ]
  },
  {
   "cell_type": "code",
   "execution_count": 71,
   "metadata": {},
   "outputs": [
    {
     "name": "stdout",
     "output_type": "stream",
     "text": [
      "Coefficient C1 = 1\n",
      "Coefficient C2 = 2\n",
      "Coefficient C3 = 5\n",
      "Coefficient C4 = 14\n",
      "Coefficient C5 = 42\n",
      "Coefficient C6 = 132\n",
      "Coefficient C7 = 429\n",
      "Coefficient C8 = 1430\n",
      "Coefficient C9 = 4862\n",
      "Coefficient C10 = 16796\n"
     ]
    }
   ],
   "source": [
    "# On définit la fonction génératrice C(x)\n",
    "C = (1 - sqrt(1 - 4*x)) / (2*x)\n",
    "\n",
    "# Puis on extrait les coefficients de la fonction génératrice ! \n",
    "coeff = C.coefficients()\n",
    "\n",
    "# Enfin,on confirme les valeurs trouvées à la question précédente avec les 10 premiers coefficients de la fonction génératrice\n",
    "for i in range(1, 11):\n",
    "    print(\"Coefficient C{} = {}\".format(i, coeff[i]))\n"
   ]
  },
  {
   "cell_type": "markdown",
   "metadata": {},
   "source": [
    "AINSI, nous avons abordé deux méthodes différentes pour calculer le nombre de mots de Dyck de longueur 2n. La première méthode était une approche récursive pour générer tous les mots de Dyck possibles de longueur 2n et compter ceux qui respectent les règles de mots de Dyck, cette méthode était peu efficace en termes de temps d'exécution et de mémoire, car elle génère tous les mots possibles, même ceux qui ne respectent pas les règles, et la complexité de cette méthode est exponentielle par rapport à n\n",
    "\n",
    "La deuxième méthode utilisée était une approche basée sur la combinatoire pour calculer le nombre de mots de Dyck de longueur 2n en utilisant la formule mathématique C_n = (2n)! / (n! * (n+1)!). Elle est basée sur la combinatoire des chemins et permet de calculer le nombre de façons de choisir n \"D\" parmi les 2n positions,\n",
    "\n",
    "Cette méthode est plus efficace en termes de temps d'exécution et de mémoire car elle ne génère pas tous les mots possibles, on calcule directement le nombre de mots de Dyck valide"
   ]
  }
 ],
 "metadata": {
  "kernelspec": {
   "display_name": "SageMath 9.1",
   "language": "sage",
   "name": "sagemath"
  },
  "language_info": {
   "codemirror_mode": {
    "name": "ipython",
    "version": 3
   },
   "file_extension": ".py",
   "mimetype": "text/x-python",
   "name": "python",
   "nbconvert_exporter": "python",
   "pygments_lexer": "ipython3",
   "version": "3.7.3"
  }
 },
 "nbformat": 4,
 "nbformat_minor": 4
}
