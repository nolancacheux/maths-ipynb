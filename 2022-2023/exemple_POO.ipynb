{
 "cells": [
  {
   "cell_type": "markdown",
   "metadata": {},
   "source": [
    "## Exemple: la programmation orientée objet en python"
   ]
  },
  {
   "cell_type": "markdown",
   "metadata": {},
   "source": [
    "Ci-dessous, on implèmente la classe ```Vector```. Elle nous permettra de définir des **objets** pour se représenter (via les **attributs**) et manipuler (via les **méthodes**) des vecteurs du plan. \n",
    "\n",
    "- Le nom de la classe est ```Vector```. \n",
    "\n",
    "- Dans le corps de classe, on travaille avec l'objet ```self```.\n",
    "\n",
    "- La méthode spéciale ```__init__``` est appelée au moment de la création de l'objet ```self```. \n",
    "\n",
    "- La méthode spéciale ```__repr__``` permet de représenter l'objet par une chaîne de caractères. \n",
    "\n",
    "- Les méthodes spéciales ```__add__``` et ```__iadd__``` permettent de définir + et += sur des objets ```Vector```\n",
    "\n",
    "- ```compute_norm``` et ```normalize``` sont deux méthodes. Elles utilisent les attributs de l'objet, ce pourquoi ```self``` est en paramètre de ces méthodes. "
   ]
  },
  {
   "cell_type": "code",
   "execution_count": 6,
   "metadata": {},
   "outputs": [],
   "source": [
    "import math\n",
    "class Vector:\n",
    "\n",
    "    # constructor \n",
    "    def __init__(self, x=0, y=0):\n",
    "        self.x = x\n",
    "        self.y = y\n",
    "        \n",
    "    # class representation \n",
    "    def __repr__(self): \n",
    "        return \"Working with Vector(x={}, y={})\".format(self.x, self.y)\n",
    "    \n",
    "    # what to do when adding two Vector objects with + \n",
    "    def __add__(self, v): \n",
    "        return Vector(self.x + v.x, self.y + v.y) \n",
    "    \n",
    "    # what to do when using += on a Vector object \n",
    "    def __iadd__(self,v):\n",
    "        self.x += v.x\n",
    "        self.y += v.y\n",
    "        return self\n",
    "\n",
    "    # a method to compute the norm of a Vector \n",
    "    def compute_norm(self):\n",
    "        return math.sqrt(self.x**2 + self.y**2)\n",
    "\n",
    "    # a mathod to normalize a Vector \n",
    "    def normalize(self):\n",
    "        norm = self.compute_norm()\n",
    "        self.x /= norm\n",
    "        self.y /= norm"
   ]
  },
  {
   "cell_type": "markdown",
   "metadata": {},
   "source": [
    "Lorsque l'on instancie un objet de la classe ```Vector```, on précise les paramètres requis pour sa construction. Ici, il s'agit uniquement des attributs ```x``` et ```y```. Pour ne pas avoir de mauvaises surprises, on a quand même mis des paramètres par défaut dans ```__init__```. "
   ]
  },
  {
   "cell_type": "code",
   "execution_count": 7,
   "metadata": {},
   "outputs": [],
   "source": [
    "# create the vec object - calls the __init__ special method \n",
    "vec1 = Vector(3,4) "
   ]
  },
  {
   "cell_type": "markdown",
   "metadata": {},
   "source": [
    "On peut alors s'amuser avec l'objet. Lorsqu'on a besoin d'accéder à une méthode ou un attribut, on oublie pas d'utiliser le ```.```. "
   ]
  },
  {
   "cell_type": "code",
   "execution_count": 8,
   "metadata": {},
   "outputs": [
    {
     "name": "stdout",
     "output_type": "stream",
     "text": [
      "Working with Vector(x=3, y=4)\n",
      "norm is 5.0\n",
      "Working with Vector(x=0.6, y=0.8)\n",
      "norm is now 1.0\n"
     ]
    }
   ],
   "source": [
    "# print the object - calls the __repr__ special method \n",
    "print(vec1)\n",
    "\n",
    "# compute norm of the vector\n",
    "print(\"norm is \" + str(vec1.compute_norm())) \n",
    "\n",
    "# normalize the vector \n",
    "vec1.normalize() \n",
    "\n",
    "# print new attributes \n",
    "print(vec1)\n",
    "\n",
    "# check norm \n",
    "print(\"norm is now \" + str(vec1.compute_norm())) "
   ]
  },
  {
   "cell_type": "markdown",
   "metadata": {},
   "source": [
    "Concernant la surcharge d'opérateurs: "
   ]
  },
  {
   "cell_type": "code",
   "execution_count": 9,
   "metadata": {},
   "outputs": [
    {
     "name": "stdout",
     "output_type": "stream",
     "text": [
      "Working with Vector(x=3, y=6)\n",
      "Working with Vector(x=7, y=11)\n"
     ]
    }
   ],
   "source": [
    "# add two Vector objects\n",
    "vec2 = Vector(1,3)+Vector(2,3)\n",
    "print(vec2)\n",
    "\n",
    "# use =+ on a Vector object \n",
    "vec2 += Vector(4,5)\n",
    "print(vec2)"
   ]
  }
 ],
 "metadata": {
  "kernelspec": {
   "display_name": "SageMath 9.1",
   "language": "sage",
   "name": "sagemath"
  },
  "language_info": {
   "codemirror_mode": {
    "name": "ipython",
    "version": 3
   },
   "file_extension": ".py",
   "mimetype": "text/x-python",
   "name": "python",
   "nbconvert_exporter": "python",
   "pygments_lexer": "ipython3",
   "version": "3.7.3"
  }
 },
 "nbformat": 4,
 "nbformat_minor": 5
}
