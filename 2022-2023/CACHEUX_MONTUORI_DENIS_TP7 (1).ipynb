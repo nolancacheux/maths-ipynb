{
 "cells": [
  {
   "cell_type": "markdown",
   "metadata": {},
   "source": [
    "# TP7 - Parties"
   ]
  },
  {
   "cell_type": "markdown",
   "metadata": {},
   "source": [
    "### CACHEUX Nolan , MONTUORI Milo , DENIS Guillaume"
   ]
  },
  {
   "cell_type": "markdown",
   "metadata": {},
   "source": [
    "<div class=\"alert-info\">\n",
    "\n",
    "   ### Exercice 0 : rappels sur la récursivité\n",
    "\n",
    "</div>"
   ]
  },
  {
   "cell_type": "code",
   "execution_count": 282,
   "metadata": {},
   "outputs": [
    {
     "name": "stdout",
     "output_type": "stream",
     "text": [
      "1\n",
      "3\n",
      "7\n",
      "15\n",
      "None\n"
     ]
    }
   ],
   "source": [
    "def v(n):\n",
    "    if n == 1:\n",
    "        return 1\n",
    "    elif n > 1:\n",
    "        return 2*v(n-1) + 1\n",
    "\n",
    "    \n",
    "print(v(1)) # 1\n",
    "print(v(2)) # 3\n",
    "print(v(3)) # 7\n",
    "print(v(4)) # 15\n",
    "\n",
    "print(v(0)) #La valeur de v(0) n'est pas définie "
   ]
  },
  {
   "cell_type": "markdown",
   "metadata": {},
   "source": [
    "Expression explicite de vn : (qui permet de déterminer le n-ième terme de la suite à partir de n)"
   ]
  },
  {
   "cell_type": "code",
   "execution_count": 283,
   "metadata": {},
   "outputs": [
    {
     "name": "stdout",
     "output_type": "stream",
     "text": [
      "1\n",
      "3\n",
      "7\n",
      "15\n",
      "None\n"
     ]
    }
   ],
   "source": [
    "def v(n):\n",
    "    if n == 1:\n",
    "        return 1\n",
    "    elif n > 1:\n",
    "        return 2**n -1\n",
    "\n",
    "    \n",
    "print(v(1)) # 1\n",
    "print(v(2)) # 3\n",
    "print(v(3)) # 7\n",
    "print(v(4)) # 15\n",
    "\n",
    "print(v(0)) #La valeur de v(0) n'est pas définie "
   ]
  },
  {
   "cell_type": "markdown",
   "metadata": {},
   "source": [
    "<div class=\"alert-info\">\n",
    "\n",
    "   ### Exercice 1 : suites binaires\n",
    "\n",
    "</div>"
   ]
  },
  {
   "cell_type": "code",
   "execution_count": 284,
   "metadata": {},
   "outputs": [
    {
     "name": "stdout",
     "output_type": "stream",
     "text": [
      "3\n",
      "2\n",
      "1\n",
      "3\n",
      "2\n"
     ]
    }
   ],
   "source": [
    "t = (3,2,1,3,2) # a tuple\n",
    "for i in t:\n",
    "    print(i)"
   ]
  },
  {
   "cell_type": "code",
   "execution_count": 285,
   "metadata": {},
   "outputs": [
    {
     "name": "stdout",
     "output_type": "stream",
     "text": [
      "(1, 2, 3)\n"
     ]
    }
   ],
   "source": [
    "# créer une liste vide\n",
    "l = []\n",
    "\n",
    "# créer un tuple et l'ajouter à la liste\n",
    "t1 = (1, 2)\n",
    "l.append(t1)\n",
    "\n",
    "# créer un autre tuple à partir de t1\n",
    "t2 = t1 + (3,)\n",
    "\n",
    "# ajouter t2 à la liste\n",
    "l.append(t2)\n",
    "\n",
    "print(l[1]) # devrait afficher (1, 2, 3)\n"
   ]
  },
  {
   "cell_type": "markdown",
   "metadata": {},
   "source": [
    "1) Pour construire toutes les suites binaires de taille n+1 à partir de celles de taille n, il suffit d'ajouter un élément binaire (0 ou 1) à la fin de chaque suite de taille n. Ainsi, on obtient 2^n suites de taille n+1."
   ]
  },
  {
   "cell_type": "markdown",
   "metadata": {},
   "source": [
    "2)"
   ]
  },
  {
   "cell_type": "code",
   "execution_count": 286,
   "metadata": {},
   "outputs": [
    {
     "name": "stdout",
     "output_type": "stream",
     "text": [
      "[(0, 0, 0), (0, 0, 1), (0, 1, 0), (0, 1, 1), (1, 0, 0), (1, 0, 1), (1, 1, 0), (1, 1, 1)]\n"
     ]
    }
   ],
   "source": [
    "def suites(n):\n",
    "    if n == 0:\n",
    "        return []\n",
    "    if n == 1:\n",
    "        return [(0,), (1,)]\n",
    "    else:# Si n est supérieur à 1, la fonction fait appel à elle-même avec n-1 en argument\n",
    "        result = []\n",
    "        # Pour chaque suite de l'ensemble des suites de taille n,\n",
    "        for seq in suites(n-1):\n",
    "          # On ajoute un 0 et un 1 à la fin de la suite\n",
    "            result.append(seq + (0,))\n",
    "            result.append(seq + (1,))\n",
    "        return result\n",
    "\n",
    "print(suites(3))"
   ]
  },
  {
   "cell_type": "markdown",
   "metadata": {},
   "source": [
    "La fonction génère les suites binaires de taille n en utilisant la récurrence suivante: elle ajoute un 0 ou un 1 à la fin de chaque suite binaire de taille n-1. Si n est 0 ou 1, elle renvoie la liste vide ou les deux suites binaires de taille 1 (0 et 1)."
   ]
  },
  {
   "cell_type": "markdown",
   "metadata": {},
   "source": [
    "3)"
   ]
  },
  {
   "cell_type": "markdown",
   "metadata": {},
   "source": [
    "Pour compter le nombre de suites binaires de taille n, on peut simplement utiliser la fonction suites que j'ai précédemment proposée et renvoyer la longueur de la liste qu'elle renvoie. Par exemple:"
   ]
  },
  {
   "cell_type": "code",
   "execution_count": 287,
   "metadata": {},
   "outputs": [
    {
     "data": {
      "text/plain": [
       "32"
      ]
     },
     "execution_count": 287,
     "metadata": {},
     "output_type": "execute_result"
    }
   ],
   "source": [
    "def nb_suites(n):\n",
    "    return len(suites(n))\n",
    "\n",
    "nb_suites(5)"
   ]
  },
  {
   "cell_type": "markdown",
   "metadata": {},
   "source": [
    "3) On sait que le nombre de suites binaires de taille n est égal à 2^n. En effet, chaque élément de la suite binaire peut prendre deux valeurs (0 ou 1) et il y a n éléments dans la suite, donc il y a 2^n suites binaires possibles.\n",
    "Cela était donc évident."
   ]
  },
  {
   "cell_type": "markdown",
   "metadata": {},
   "source": [
    "<div class=\"alert-info\">\n",
    "\n",
    "   ### Exercice 2 : ensemble des parties\n",
    "\n",
    "</div>"
   ]
  },
  {
   "cell_type": "code",
   "execution_count": 288,
   "metadata": {},
   "outputs": [
    {
     "name": "stdout",
     "output_type": "stream",
     "text": [
      "1\n",
      "2\n",
      "3\n"
     ]
    }
   ],
   "source": [
    "# Un set comprenant 5 valeurs dont 2 fois 2 et 3\n",
    "# Or un set est un ensemble au sens mathématique: les doublons sont \"supprimés\"\n",
    "t = {3,2,1,3,2} \n",
    "\n",
    "# Boucle pour afficher les valeurs du set (des valeurs entières)\n",
    "# Les doublons sont affichés qu'une unique fois de par le set\n",
    "for i in t:\n",
    "    print(i)"
   ]
  },
  {
   "cell_type": "markdown",
   "metadata": {},
   "source": [
    "1)"
   ]
  },
  {
   "cell_type": "markdown",
   "metadata": {},
   "source": [
    "Il *suffit* d'ajouter, en plus des éléments présent, les éléments avec 3.\n",
    "\n",
    "C'est à dire, reprendre les sous ensembles des parties de $\\{1,2\\}$ et pour chaque élément de la liste (en plus des parties de $\\{1,2\\}$), ajouter 3.\n",
    "\n",
    "Exemple : $\\{1,2\\}$ a pour parties $$[\\varnothing, \\{1\\}, \\{2\\}, \\{1,2\\}]$$\n",
    "\n",
    "Si on créé les éléments en ajoutant 3 à chaques parties on obtient:\n",
    "$$[\\{3\\}, \\{1,3\\}, \\{2,3\\}, \\{1,2,3\\}]$$\n",
    "\n",
    "Et si on somme les deux listes, on obtient bien une liste des parties de $\\{1,2,3\\}$\n"
   ]
  },
  {
   "cell_type": "markdown",
   "metadata": {},
   "source": [
    "2)"
   ]
  },
  {
   "cell_type": "code",
   "execution_count": 289,
   "metadata": {},
   "outputs": [
    {
     "data": {
      "text/plain": [
       "[set(), {3}, {2}, {2, 3}, {1}, {1, 3}, {1, 2}, {1, 2, 3}]"
      ]
     },
     "execution_count": 289,
     "metadata": {},
     "output_type": "execute_result"
    }
   ],
   "source": [
    "E = {1,2,3}   #Un set comme vu précédemment\n",
    "\n",
    "# fonction Récursive \"parties\" permettant l'écriture d'une liste contenant les parties de E\n",
    "def parties(E):\n",
    "    #print(len(E), E)\n",
    "    \n",
    "    # Si le set E est vide, au début ou durant l'execution, un set() correspondant à l'ensemble vide est retourner\n",
    "    if (len(E) == 0):\n",
    "        return [set()]\n",
    "    \n",
    "    # Sinon, on prend une valeur de E, ici la dernière du set (l'ordre n'a pas d'importance dans un set)\n",
    "    val = E.pop()\n",
    "    \n",
    "    # Ainsi que le reste (donc E sans la valeur \"enlevé\" au dessus)\n",
    "    reste = parties(E.copy())\n",
    "    \n",
    "    # Et comme expliqué au dessus, on va sommer la valeur de \"val\" à TOUTES les parties de reste\n",
    "    # Par exemple, si reste est la liste [{1, 2}, {2}] et val est 3, alors cela retournerai [{1, 2, 3}, {2, 3}]\n",
    "    # Et on ajoute le reste \"initial\" pour avoir notre liste au complet.\n",
    "    return reste + [(i | {val}) for i in reste]\n",
    "\n",
    "parties(E.copy())"
   ]
  },
  {
   "cell_type": "markdown",
   "metadata": {},
   "source": [
    "3)"
   ]
  },
  {
   "cell_type": "code",
   "execution_count": 290,
   "metadata": {},
   "outputs": [
    {
     "data": {
      "text/plain": [
       "8"
      ]
     },
     "execution_count": 290,
     "metadata": {},
     "output_type": "execute_result"
    }
   ],
   "source": [
    "def Size(n):\n",
    "    return 2**n    # On sait que le nombre de parties est égale à   2^card(E)\n",
    "\n",
    "Size(len(E))   # ==> le cardinal"
   ]
  },
  {
   "cell_type": "markdown",
   "metadata": {},
   "source": [
    "4)"
   ]
  },
  {
   "cell_type": "code",
   "execution_count": 291,
   "metadata": {},
   "outputs": [
    {
     "name": "stdout",
     "output_type": "stream",
     "text": [
      "[set(), {2}, {1}, {1, 2}]\n",
      "[0, 0, 0, 1, 1, 0, 1, 1]\n"
     ]
    }
   ],
   "source": [
    "# Implémentation de la fonction indicatrice\n",
    "# Si x est présent dans l'ensemble A, alors on retourne 1, sinon on retourne 0\n",
    "def UnA(A,x):\n",
    "    if x in A:\n",
    "        return 1\n",
    "    return 0\n",
    "\n",
    "# On test avec l'ensemble {1,2}    \n",
    "E = {1,2}\n",
    "print(parties(E.copy()))\n",
    "\n",
    "result = []\n",
    "for i in parties(E):\n",
    "    result.append(UnA(i,1))\n",
    "    result.append(UnA(i,2))\n",
    "\n",
    "print(result)\n",
    "\n",
    "# Le résultat est une liste contenant tous les \"tests\" de chaque partie avec chaque éléments de l'ensemble E"
   ]
  },
  {
   "cell_type": "markdown",
   "metadata": {},
   "source": [
    "Dans le cas où E = {1, 2}, il y a 4 parties possibles de E: l'ensemble vide, {1}, {2} et {1, 2}. On peut associer à chaque partie A une liste de longueur 2 de 0 et de 1 de la manière suivante:\n",
    "\n",
    "Si 1 ∈ A et 2 ∈ A, alors la liste associée à A sera (1, 1).\n",
    "Si 1 ∈ A et 2 ∉ A, alors la liste associée à A sera (1, 0).\n",
    "Si 1 ∉ A et 2 ∈ A, alors la liste associée à A sera (0, 1).\n",
    "Si 1 ∉ A et 2 ∉ A, alors la liste associée à A sera (0, 0).\n",
    "On peut donc réécrire l'application φ comme suit:\n",
    "\n",
    "$$φ: P({1, 2}) → {(0, 0), (0, 1), (1, 0), (1, 1)}$$\n",
    "$$A → (1_A(1), 1_A(2))$$\n",
    "\n",
    "Cette bijection permet de représenter les parties de E sous forme de listes de 0 et de 1, plutôt que sous forme de listes de sous-ensembles.\n",
    "\n",
    "On peut alors utiliser cette bijection pour implémenter une nouvelle fonction parties(E) qui prend en entrée un ensemble E et qui retourne l'ensemble de toutes les parties de E. Voici comment cette fonction pourrait être implémentée:\n"
   ]
  },
  {
   "cell_type": "code",
   "execution_count": 292,
   "metadata": {},
   "outputs": [
    {
     "name": "stdout",
     "output_type": "stream",
     "text": [
      "[set(), {1}, {2}, {1, 2}, {3}, {1, 3}, {2, 3}, {1, 2, 3}]\n"
     ]
    }
   ],
   "source": [
    "#  Nouvelle implémentation de la fonction \n",
    "#  parties(E) qui utilise la bijection φ :\n",
    "\n",
    "E = {1,2,3}\n",
    "\n",
    "def parties(E):\n",
    "\n",
    "  n = len(E.copy())\n",
    "  E = list(E.copy())\n",
    "\n",
    "  # Ensemble des parties\n",
    "  parts = []\n",
    "\n",
    "  # On parcourt tous les entiers compris entre 0 et 2^n - 1\n",
    "  for i in range(2**n):\n",
    "    part = set()\n",
    "    # On parcourt tous les éléments de E\n",
    "    for j in range(n):\n",
    "      # Si le bit j de l'entier i est à 1, \n",
    "    #on ajoute l'élément correspondant à la partie en cours\n",
    "      if i & (1 << j):\n",
    "        part.add(E.copy()[j])\n",
    "    # On ajoute la partie en cours à l'ensemble des parties\n",
    "    parts.append(part)\n",
    "  return parts\n",
    "\n",
    "print(parties(E.copy()))\n"
   ]
  },
  {
   "cell_type": "markdown",
   "metadata": {},
   "source": [
    "Cette implémentation a l'avantage d'être plus efficace que la précédente car elle ne nécessite pas de parcourir tous les sous-ensembles d'E pour trouver les parties de E. Elle ne nécessite pas non plus de récursion et utilise des opérations de bits pour générer toutes les parties de l'ensemble E."
   ]
  },
  {
   "cell_type": "markdown",
   "metadata": {},
   "source": [
    "<div class=\"alert-info\">\n",
    "\n",
    "   ### Exercice 3 : parties de taille donnée\n",
    "\n",
    "</div>"
   ]
  },
  {
   "cell_type": "markdown",
   "metadata": {},
   "source": [
    "1)"
   ]
  },
  {
   "cell_type": "code",
   "execution_count": 293,
   "metadata": {},
   "outputs": [],
   "source": [
    "def parties_taille(k, E):\n",
    "    result = []\n",
    "    for i in parties(E.copy()):\n",
    "        if (len(i)== k):\n",
    "            result.append(i) \n",
    "            #On sélectionne dans parties(E)les parties de taille requise\n",
    "    return result"
   ]
  },
  {
   "cell_type": "markdown",
   "metadata": {},
   "source": [
    "On vérifie que l'on trouve le bon nombre de parties avec la commande binomial(n,k) : "
   ]
  },
  {
   "cell_type": "code",
   "execution_count": 294,
   "metadata": {},
   "outputs": [
    {
     "name": "stdout",
     "output_type": "stream",
     "text": [
      "Nombre de parties avec len(parties_taille(k, E) : 6\n",
      "\n",
      "Nombre de parties avec la commande binomial(len(E), k) : 6\n"
     ]
    }
   ],
   "source": [
    "E = {1, 2, 3, 4}\n",
    "\n",
    "k = 2\n",
    "\n",
    "print(\"Nombre de parties avec len(parties_taille(k, E) :\",len(parties_taille(k, E)))\n",
    "\n",
    "\n",
    "print(\"\\nNombre de parties avec la commande binomial(len(E), k) :\",binomial(len(E), k))"
   ]
  },
  {
   "cell_type": "markdown",
   "metadata": {},
   "source": [
    "2) \n",
    "\n",
    "On utilise cette astuce pour avoir une implémentation récursive de parties_taille(k,E) :\n",
    "(voir commentaires de chaque ligne pour comprendre chaque étape)"
   ]
  },
  {
   "cell_type": "code",
   "execution_count": 295,
   "metadata": {},
   "outputs": [
    {
     "name": "stdout",
     "output_type": "stream",
     "text": [
      "Nombre de parties avec len(parties_taille(k, E) : 6 \n",
      "\n",
      "On retrouve bien 6, le même résultat que précédemment.\n",
      "\n",
      "Parties obtenues :\n",
      "\n",
      " [[2, 1], [3, 1], [1, 2], [3, 2], [1, 3], [2, 3]]\n"
     ]
    }
   ],
   "source": [
    "def parties_taille(k, E):\n",
    "  # Si E est vide ou si k est négatif, il n'y a aucune partie à retourner\n",
    "  if len(E) == 0 or k < 0:\n",
    "    return []\n",
    "\n",
    "  # Si la taille k est égale à 0, on retourne l'ensemble vide\n",
    "  if k == 0:\n",
    "    return [[]]\n",
    "\n",
    "  # On initialise l'ensemble des parties à vide\n",
    "  all_parts = []\n",
    "\n",
    "  # Pour chaque élément a de l'ensemble E:\n",
    "  for a in E:\n",
    "    # Parties de taille k - 1 de l'ensemble E sans l'élément a\n",
    "    sub_parts = parties_taille(k - 1, E - {a})\n",
    "\n",
    "    # Pour chaque partie obtenue, on ajoute l'élément \"a\" à la fin de la partie\n",
    "    # et la nouvelle partie à la liste des parties à retourner\n",
    "    for part in sub_parts:\n",
    "      all_parts.append(part + [a])\n",
    "\n",
    "  return all_parts\n",
    "\n",
    "\n",
    "E = {1, 2, 3}\n",
    "\n",
    "# On appelle la fonction avec comme exemple k = 2 et E\n",
    "part = parties_taille(2, E.copy())\n",
    "\n",
    "# On affiche le nombre de parties obtenues\n",
    "print(\"Nombre de parties avec len(parties_taille(k, E) :\",len(part),\"\\n\\nOn retrouve bien 6, le même résultat que précédemment.\")\n",
    "\n",
    "# On affiche les parties obtenues\n",
    "print(\"\\nParties obtenues :\\n\\n\",part)\n"
   ]
  },
  {
   "cell_type": "markdown",
   "metadata": {},
   "source": [
    "3)"
   ]
  },
  {
   "cell_type": "code",
   "execution_count": 296,
   "metadata": {},
   "outputs": [],
   "source": [
    "import time\n",
    "\n",
    "def parties(E):\n",
    "  n = len(E)\n",
    "  E = list(E)\n",
    "  parts = []\n",
    "  for i in range(2**n):\n",
    "    part = set()\n",
    "    for j in range(n):\n",
    "      if i & (1 << j):\n",
    "        part.add(E[j])\n",
    "    parts.append(part)\n",
    "  return parts\n",
    "\n",
    "\n",
    "def parties_taille_1(k, E):\n",
    "    result = []\n",
    "    for i in parties(E.copy()):\n",
    "        if (len(i)== k):\n",
    "            result.append(i) \n",
    "            #On sélectionne dans parties(E) les parties de taille requise\n",
    "    return result\n",
    "\n",
    "\n",
    "def parties_taille_2(k, E):\n",
    "  # Si E est vide ou si k est négatif, il n'y a aucune partie à retourner\n",
    "  if len(E) == 0 or k < 0:\n",
    "    return []\n",
    "\n",
    "  # Si la taille k est égale à 0, on retourne l'ensemble vide\n",
    "  if k == 0:\n",
    "    return [[]]\n",
    "\n",
    "  # On initialise l'ensemble des parties à vide\n",
    "  all_parts = []\n",
    "\n",
    "  # Pour chaque élément a de l'ensemble E:\n",
    "  for a in E:\n",
    "    # Parties de taille k - 1 de l'ensemble E sans l'élément a\n",
    "    sub_parts = parties_taille(k - 1, E - {a})\n",
    "\n",
    "    # Pour chaque partie obtenue, on ajoute l'élément \"a\" à la fin de la partie\n",
    "    # et la nouvelle partie à la liste des parties à retourner\n",
    "    for part in sub_parts:\n",
    "      all_parts.append(part + [a])\n",
    "\n",
    "  return all_parts"
   ]
  },
  {
   "cell_type": "code",
   "execution_count": 297,
   "metadata": {},
   "outputs": [
    {
     "name": "stdout",
     "output_type": "stream",
     "text": [
      "Temps d'exécution de parties_taille_1 : 0.0001423358917236328\n",
      "Temps d'exécution de parties_taille_2 : 0.00010156631469726562\n"
     ]
    }
   ],
   "source": [
    "\n",
    "k = 2\n",
    "E = {1, 2, 3}\n",
    "\n",
    "start = time.time()\n",
    "part_taille_1(k, {1, 2, 3})\n",
    "end = time.time()\n",
    "print(\"Temps d'exécution de parties_taille_1 :\", end - start)\n",
    "\n",
    "start = time.time()\n",
    "part_taille_2(k, {1, 2, 3})\n",
    "end = time.time()\n",
    "print(\"Temps d'exécution de parties_taille_2 :\", end - start)\n"
   ]
  },
  {
   "cell_type": "markdown",
   "metadata": {},
   "source": [
    "La deuxième fonction parties_taille_2(k, E) utilise une approche récursive pour générer uniquement les parties de taille k de l'ensemble E, ce qui peut être plus rapide que la première fonction parties_taille_1(k, E) qui génère toutes les parties de l'ensemble E, même celles qui ne sont pas de taille k."
   ]
  }
 ],
 "metadata": {
  "kernelspec": {
   "display_name": "SageMath 9.1",
   "language": "sage",
   "name": "sagemath"
  },
  "language_info": {
   "codemirror_mode": {
    "name": "ipython",
    "version": 3
   },
   "file_extension": ".py",
   "mimetype": "text/x-python",
   "name": "python",
   "nbconvert_exporter": "python",
   "pygments_lexer": "ipython3",
   "version": "3.7.3"
  }
 },
 "nbformat": 4,
 "nbformat_minor": 4
}
