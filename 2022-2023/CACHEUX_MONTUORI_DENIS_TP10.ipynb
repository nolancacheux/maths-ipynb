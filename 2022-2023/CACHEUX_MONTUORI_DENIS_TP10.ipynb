{
 "cells": [
  {
   "cell_type": "markdown",
   "metadata": {},
   "source": [
    "# T10 - Propriétés des opérations"
   ]
  },
  {
   "cell_type": "markdown",
   "metadata": {},
   "source": [
    "### CACHEUX Nolan , MONTUORI Milo , DENIS Guillaume"
   ]
  },
  {
   "cell_type": "markdown",
   "metadata": {},
   "source": [
    "<div class=\"alert-info\">\n",
    "\n",
    "   ### Exercice 1 : arithmétique modulaire\n",
    "\n",
    "</div>"
   ]
  },
  {
   "cell_type": "markdown",
   "metadata": {},
   "source": [
    "Pour déterminer les pas qui permettent d'avoir l'aiguille des minutes sur 1 après un certain nombre d'étapes à partir de 0, nous devons trouver les nombres premiers entre eux avec 60, car ces nombres ont un inverse modulaire modulo 60.\n",
    "\n",
    "Soit p un entier premier avec 60. Nous cherchons un entier k tel que kp ≡ 1 [60]. Cela signifie que kp - 1 est divisible par 60. Ainsi, nous pouvons écrire kp - 1 = 60q pour un certain entier q.\n",
    "\n",
    "Nous pouvons alors réécrire l'équation kp ≡ 1 [60] comme kp + 60(-q) = 1. Cette équation est une équation diophantienne linéaire en p et -q. Elle peut être résolue en utilisant l'algorithme d'Euclide étendu pour trouver les coefficients de Bézout.\n",
    "\n",
    "Plus précisément, nous appliquons l'algorithme d'Euclide étendu à p et 60 pour trouver les coefficients de Bézout u et v tels que pu + 60v = pgcd(p, 60) = 1, car p est premier avec 60. Ainsi, u est l'inverse modulaire de p modulo 60. Nous avons donc trouvé un inverse modulaire de p modulo 60.\n",
    "\n",
    "Ensuite, si nous voulons savoir combien d'étapes il faut pour que l'aiguille des minutes atteigne la classe {1} modulo 60, nous pouvons utiliser l'inverse modulaire de p. Supposons que l'aiguille des minutes a effectué k sauts de p minutes, de sorte qu'elle se trouve sur la classe {kp} modulo 60. Nous voulons trouver le plus petit k tel que kp ≡ 1 [60]. En utilisant l'inverse modulaire de p, nous pouvons écrire k ≡ pu [60]. Ainsi, le plus petit k possible est pu modulo 60.\n",
    "\n",
    "Les nombres premiers avec 60 sont 1, 7, 11, 13, 17, 19, 23, 29, 31, 37, 41, 43, 47, 49, 53 et 59. Ce sont les seuls nombres premiers avec 60, car tout entier premier avec 60 doit être premier avec 2 et 3 (les facteurs premiers de 60). Ainsi, il ne peut pas être divisible par 2 ou 3, ce qui limite les choix possibles. Ces nombres premiers avec 60 ont la propriété d'avoir un inverse modulaire modulo 60, ce qui signifie que l'aiguille des minutes peut couvrir toutes les minutes de l'horloge en un certain nombre d'étapes pour chacun de ces nombres."
   ]
  },
  {
   "cell_type": "code",
   "execution_count": 37,
   "metadata": {},
   "outputs": [
    {
     "name": "stdout",
     "output_type": "stream",
     "text": [
      "{1: 1, 7: 43, 11: 11, 13: 37, 17: 53, 19: 19, 23: 47, 29: 29, 31: 31, 37: 13, 41: 41, 43: 7, 47: 23, 49: 49, 53: 17, 59: 59}\n",
      "Pour un pas de 1, il y a 1 étapes.\n",
      "Pour un pas de 7, il y a 43 étapes.\n",
      "Pour un pas de 11, il y a 11 étapes.\n",
      "Pour un pas de 13, il y a 37 étapes.\n",
      "Pour un pas de 17, il y a 53 étapes.\n",
      "Pour un pas de 19, il y a 19 étapes.\n",
      "Pour un pas de 23, il y a 47 étapes.\n",
      "Pour un pas de 29, il y a 29 étapes.\n",
      "Pour un pas de 31, il y a 31 étapes.\n",
      "Pour un pas de 37, il y a 13 étapes.\n",
      "Pour un pas de 41, il y a 41 étapes.\n",
      "Pour un pas de 43, il y a 7 étapes.\n",
      "Pour un pas de 47, il y a 23 étapes.\n",
      "Pour un pas de 49, il y a 49 étapes.\n",
      "Pour un pas de 53, il y a 17 étapes.\n",
      "Pour un pas de 59, il y a 59 étapes.\n"
     ]
    }
   ],
   "source": [
    "def horloge(final, pas):\n",
    "    pos = 0\n",
    "    ite = 0\n",
    "    limit = 10000\n",
    "    while ((pos%60 != final) and (ite < limit)):\n",
    "        #print(float(pos / 60))\n",
    "        pos += pas\n",
    "        if (pos >= (12*60)):\n",
    "            pos = pos - (12*60)\n",
    "        ite += 1\n",
    "    if (ite == limit):\n",
    "        return \"impossible\"\n",
    "    return ite\n",
    "\n",
    "result = {}\n",
    "for i in range (1,60):\n",
    "    pas = horloge(1,i)\n",
    "    if (pas != \"impossible\"):\n",
    "         result[i] = pas\n",
    "print(result)\n",
    "\n",
    "for i in result:\n",
    "    print(\"Pour un pas de \" + str(i) + \", il y a \" + str(result[i]) + \" étapes.\")\n"
   ]
  },
  {
   "cell_type": "markdown",
   "metadata": {},
   "source": [
    "Si on compare avec **la liste des nombres premiers avec 60** inférieurs à 60 ci-dessous:"
   ]
  },
  {
   "cell_type": "code",
   "execution_count": 38,
   "metadata": {},
   "outputs": [
    {
     "data": {
      "text/html": [
       "<html><script type=\"math/tex; mode=display\">\\newcommand{\\Bold}[1]{\\mathbf{#1}}\\left[1, 7, 11, 13, 17, 19, 23, 29, 31, 37, 41, 43, 47, 49, 53, 59\\right]</script></html>"
      ],
      "text/plain": [
       "[1, 7, 11, 13, 17, 19, 23, 29, 31, 37, 41, 43, 47, 49, 53, 59]"
      ]
     },
     "metadata": {},
     "output_type": "display_data"
    }
   ],
   "source": [
    "PremierAvecSoixante = []\n",
    "\n",
    "for i in range (0,60):\n",
    "    if (gcd(i,60) == 1):\n",
    "        PremierAvecSoixante.append(i)\n",
    "        \n",
    "show(PremierAvecSoixante)\n"
   ]
  },
  {
   "cell_type": "markdown",
   "metadata": {},
   "source": [
    "***On remarque que les nombres trouvés plus haut sont exactement les mêmes !***"
   ]
  },
  {
   "cell_type": "markdown",
   "metadata": {},
   "source": [
    "<div class=\"alert-info\">\n",
    "\n",
    "   ### Exercice 2 : autour d’applications\n",
    "\n",
    "</div>"
   ]
  },
  {
   "cell_type": "code",
   "execution_count": 13,
   "metadata": {},
   "outputs": [],
   "source": [
    "#Partie 1 : composition"
   ]
  },
  {
   "cell_type": "code",
   "execution_count": 14,
   "metadata": {},
   "outputs": [],
   "source": [
    "def two_line_repr(f):\n",
    "    \n",
    "    res = \"[ \"\n",
    "    \n",
    "    # keys() are dictionnaries entries \n",
    "    for x in f.keys():\n",
    "        \n",
    "        # pad = number of spaces between two keys \n",
    "        pad = (len(str(f[x])) - len(str(x))) * \" \" if len(str(f[x])) > len(str(x)) else \"\"\n",
    "        res += pad + str(x) + \" \"\n",
    "    res += \"]\\n[ \"\n",
    "    \n",
    "    for x in f.keys():\n",
    "        pad = (len(str(x)) - len(str(f[x]))) * \" \" if len(str(x)) > len(str(f[x])) else \"\"\n",
    "        res += pad + str(f[x]) + \" \"\n",
    "        \n",
    "    res += \"]\"\n",
    "    \n",
    "    print(res)\n",
    "\n"
   ]
  },
  {
   "cell_type": "code",
   "execution_count": 15,
   "metadata": {},
   "outputs": [
    {
     "name": "stdout",
     "output_type": "stream",
     "text": [
      "[ a b c d ]\n",
      "[ 1 2 7 3 ]\n"
     ]
    }
   ],
   "source": [
    "f = {\"a\": 1 , \"b\":2 , \"c\":7 , \"d\":3} # create a dictionnary\n",
    "f [\"b\"] # should print the value associated to field \"b\"\n",
    "\n",
    "two_line_repr (f)"
   ]
  },
  {
   "cell_type": "code",
   "execution_count": 16,
   "metadata": {},
   "outputs": [
    {
     "name": "stdout",
     "output_type": "stream",
     "text": [
      "Application f : \n",
      "\n",
      "[ a b c d ]\n",
      "[ 1 2 7 3 ]\n",
      "\n",
      "Application g : \n",
      "\n",
      "[  1  2  7 3 ]\n",
      "[ zz az aa a ]\n",
      "\n",
      "Application g rond f: \n",
      "\n",
      "[  a  b  c d ]\n",
      "[ zz az aa a ]\n",
      "\n",
      "Exemple de fonctions non composables: \n",
      " f = {'a': 1, 'b': 2, 'c': 7, 'd': 3} \n",
      " g = {1: 'un', 2: 'deux', 5: 'cinq', 3: 'trois'}\n",
      "\n",
      "Les fonctions ne sont pas composables.\n"
     ]
    }
   ],
   "source": [
    "def comp(f, g):\n",
    "    if not all(key in g for key in f.values()):\n",
    "        print(\"\\nLes fonctions ne sont pas composables.\")\n",
    "        return\n",
    "    \n",
    "    return {key: g[f[key]] for key in f}\n",
    "\n",
    "\n",
    "f = {\"a\": 1 , \"b\":2 , \"c\":7 , \"d\":3} \n",
    "g = {1:\"zz\", 2 :\"az\" , 7 :\"aa\", 3 :\"a\"} \n",
    "\n",
    "print(\"Application f : \\n\")\n",
    "two_line_repr (f)\n",
    "print(\"\\nApplication g : \\n\")\n",
    "two_line_repr (g)\n",
    "\n",
    "\n",
    "print(\"\\nApplication g rond f: \\n\")\n",
    "two_line_repr(comp(f, g))\n",
    "\n",
    "f = {\"a\": 1, \"b\": 2, \"c\": 7, \"d\": 3}\n",
    "g = {1: \"un\", 2: \"deux\", 5: \"cinq\", 3: \"trois\"}\n",
    "\n",
    "print(\"\\nExemple de fonctions non composables: \\n f = {'a': 1, 'b': 2, 'c': 7, 'd': 3} \\n g = {1: 'un', 2: 'deux', 5: 'cinq', 3: 'trois'}\")\n",
    "h = comp(f, g)\n",
    "\n"
   ]
  },
  {
   "cell_type": "code",
   "execution_count": 17,
   "metadata": {},
   "outputs": [],
   "source": [
    "#Partie 2 : générer les fonctions"
   ]
  },
  {
   "cell_type": "markdown",
   "metadata": {},
   "source": [
    "La fonction all_func(n, current_function = []) est définie de manière récursive, en commençant par les fonctions de [[1, 1]] dans lui-même, puis en construisant les fonctions de [[1, 2]] dans lui-même à partir de celles de [[1, 1]] dans lui-même, et ainsi de suite jusqu'à [[1, n]] dans lui-même.\n",
    "\n",
    "Elle prend en entrée n et une fonction current_function qui représente la fonction en cours de construction. Si la longueur de current_function est égale à n, cela signifie que la fonction est terminée et nous renvoyons une liste contenant current_function. Sinon, nous devons construire la fonction à partir de current_function.\n",
    "\n",
    "Nous utilisons une boucle for pour parcourir tous les éléments possibles que nous pouvons ajouter à la fonction en cours de construction. Nous ajoutons un élément (i, j) à la fonction en cours de construction, où i est la position dans la fonction et j est la valeur associée à cette position. \n",
    "\n",
    "Pour vérifier que nous avons obtenu le bon nombre d'applications, nous pouvons utiliser la formule de dénombrement qui stipule que le nombre de fonctions de A dans B est égal à |B|^|A|. Dans ce cas, A et B ont la même taille, donc le nombre de fonctions est égal à n^n."
   ]
  },
  {
   "cell_type": "code",
   "execution_count": 18,
   "metadata": {},
   "outputs": [
    {
     "data": {
      "text/plain": [
       "[[(1, 1), (2, 1)], [(1, 1), (2, 2)], [(1, 2), (2, 1)], [(1, 2), (2, 2)]]"
      ]
     },
     "execution_count": 18,
     "metadata": {},
     "output_type": "execute_result"
    }
   ],
   "source": [
    "def all_func(n, current_function=[]):\n",
    "    # Vérifie si la longueur de la fonction actuelle est égale à n\n",
    "    if len(current_function) == n:\n",
    "        # Si c'est le cas, retourne la fonction actuelle dans une liste\n",
    "        return [current_function]\n",
    "    \n",
    "    result = []\n",
    "    # Pour chaque entier i de 1 à n inclus\n",
    "    for i in range(1, n + 1):\n",
    "        # Ajoute à result la liste de toutes les fonctions possibles en\n",
    "        # ajoutant l'élément (len(current_function) + 1, i) à la fonction actuelle\n",
    "        result += all_func(n, current_function + [(len(current_function) + 1, i)])\n",
    "        \n",
    "    # Retourne la liste de toutes les fonctions possibles\n",
    "    return result\n",
    "\n",
    "all_func(2)\n"
   ]
  },
  {
   "cell_type": "code",
   "execution_count": 19,
   "metadata": {},
   "outputs": [
    {
     "name": "stdout",
     "output_type": "stream",
     "text": [
      "27\n"
     ]
    }
   ],
   "source": [
    "n = 3\n",
    "funcs = all_func(n)\n",
    "print(len(funcs)) # affiche 27 = 3^3\n",
    "\n",
    "#Cela devrait afficher 27, ce qui correspond bien au nombre de fonctions attendu pour n = 3."
   ]
  },
  {
   "cell_type": "code",
   "execution_count": 20,
   "metadata": {},
   "outputs": [],
   "source": [
    "#Partie 3 : associativité"
   ]
  },
  {
   "cell_type": "markdown",
   "metadata": {},
   "source": [
    "1) "
   ]
  },
  {
   "cell_type": "markdown",
   "metadata": {},
   "source": [
    "Pour vérifier l'associativité de la composition sur F3, nous pouvons simplement créer toutes les fonctions possibles et vérifier que l'ordre de composition n'affecte pas le résultat. Nous pouvons utiliser la fonction all_func(n) ainsi que comp(f,g) définie dans la partie précédente pour générer toutes les fonctions de [[1, 3]] dans lui-même."
   ]
  },
  {
   "cell_type": "code",
   "execution_count": 21,
   "metadata": {},
   "outputs": [
    {
     "name": "stdout",
     "output_type": "stream",
     "text": [
      "Associativité de F3: True\n"
     ]
    }
   ],
   "source": [
    "def all_func(n, current_function={}):\n",
    "    if len(current_function) == n:\n",
    "        return [current_function]\n",
    "    result = []\n",
    "    for i in range(1, n + 1):\n",
    "        result += all_func(n, {**current_function, len(current_function)+1: i})\n",
    "    return result\n",
    "\n",
    "\n",
    "def comp(f, g):\n",
    "    if not all(key in g for key in f.values()):\n",
    "        print(\"\\nLes fonctions ne sont pas composables.\")\n",
    "        return\n",
    "    \n",
    "    return {key: g[f[key]] for key in f}\n",
    "\n",
    "def check_associativity(n):\n",
    "    funcs = all_func(n)\n",
    "    for f in funcs:\n",
    "        for g in funcs:\n",
    "            for h in funcs:\n",
    "                res1 = comp(h, comp(g, f))\n",
    "                res2 = comp(comp(h, g), f)\n",
    "                if res1 != res2:\n",
    "                    print(f\"Associativité fausse !!! : ({h} o {g}) o {f} != {h} o ({g} o {f})\")\n",
    "                    print(f\"    ({h} o {g}) o {f} = {res1}\")\n",
    "                    print(f\"    {h} o ({g} o {f}) = {res2}\")\n",
    "                    return False\n",
    "    return True\n",
    "\n",
    "print(f\"Associativité de F3: {check_associativity(3)}\")\n"
   ]
  },
  {
   "cell_type": "markdown",
   "metadata": {},
   "source": [
    "Ceci va créer toutes les fonctions possibles de [[1, 3]] dans lui-même, puis va vérifier l'associativité de la composition pour toutes les combinaisons possibles de trois fonctions."
   ]
  },
  {
   "cell_type": "markdown",
   "metadata": {},
   "source": [
    "On fait pareil pour F4 :"
   ]
  },
  {
   "cell_type": "code",
   "execution_count": 24,
   "metadata": {},
   "outputs": [
    {
     "name": "stdout",
     "output_type": "stream",
     "text": [
      "\n"
     ]
    }
   ],
   "source": [
    "print(f\"Associativité de F4: {check_associativity(4)}\")"
   ]
  },
  {
   "cell_type": "markdown",
   "metadata": {},
   "source": [
    "Le calcul de l'associativité pour F4 peut être très long en raison du grand nombre de fonctions possibles. Une manière d'accélérer le calcul est de profiter de la symétrie de l'ensemble des fonctions : en effet, on peut remarquer que pour tout choix de fonctions f, g, et h, le choix de fonctions g, f, et h correspond à une permutation des entrées de h, et le choix de fonctions h, g, et f correspond à une permutation des entrées de f. Ainsi, pour éviter de calculer la composition des mêmes fonctions plusieurs fois, on peut limiter les boucles à un choix de fonctions qui soit symétrique."
   ]
  },
  {
   "cell_type": "code",
   "execution_count": 25,
   "metadata": {},
   "outputs": [],
   "source": [
    "def check_associativity(n):\n",
    "    funcs = all_func(n)\n",
    "    count = 0\n",
    "    for i, f in enumerate(funcs):\n",
    "        for j in range(i, len(funcs)):\n",
    "            g = funcs[j]\n",
    "            for k, h in enumerate(funcs):\n",
    "                if k < j:\n",
    "                    continue\n",
    "                count += 1\n",
    "                res1 = comp(h, comp(g, f))\n",
    "                res2 = comp(comp(h, g), f)\n",
    "                if res1 != res2:\n",
    "                    print(f\"Associativité fausse !!! : ({h} o {g}) o {f} != {h} o ({g} o {f})\")\n",
    "                    print(f\"    ({h} o {g}) o {f} = {res1}\")\n",
    "                    print(f\"    {h} o ({g} o {f}) = {res2}\")\n",
    "                    return False\n",
    "    print(f\"Associativité vérifiée pour F{n} ({count} triplets de fonctions testés)\")\n",
    "    return True\n"
   ]
  },
  {
   "cell_type": "markdown",
   "metadata": {},
   "source": [
    "Le nombre total de tests effectués lors de la vérification de l'associativité des fonctions d'un ensemble $F_n$ est $|F_n|^3$, car il y a $|F_n|$ fonctions possibles pour chaque position dans la composition $h \\circ g \\circ f$. Donc, pour chaque fonction $f$, il y a $|F_n|^2$ tests à effectuer pour les fonctions $g$ et $h$.\n",
    "\n",
    "Pour $n = 4$, $|F_4| = 4^4 = 256$, donc le nombre total de tests est $256^3 = 16,777,216$. Pour $n = 5$, $|F_5| = 5^5 = 3,125$, donc le nombre total de tests est $3,125^3 = 30,517,578,125$.\n",
    "\n",
    "En utilisant un ordinateur suffisamment rapide, il est possible de vérifier l'associativité de toutes les fonctions de $F_5$ en environ 21 heures, comme indiqué dans le raisonnement précédent. Cependant, il est important de noter que la vérification de l'associativité peut être accélérée en utilisant des techniques d'optimisation ou de parallélisation de code."
   ]
  },
  {
   "cell_type": "markdown",
   "metadata": {},
   "source": [
    "###### Pour aller plus loin dans l'optimisation du code : \n",
    "\n",
    "#### LA VERSION SUIVANTE NE SERA PLUS CONSIDERE DANS LE 2 , ON GARDERA CELLE CI-DESSUS POUR LE 2"
   ]
  },
  {
   "cell_type": "markdown",
   "metadata": {},
   "source": [
    "On peut encore optimiser le code en évitant de tester toutes les combinaisons de fonctions. En effet, il suffit de tester la propriété d'associativité sur un sous-ensemble représentatif des fonctions.\n",
    "\n",
    "On peut par exemple générer aléatoirement un nombre limité de fonctions et tester l'associativité sur ces fonctions. Si l'associativité est vérifiée pour toutes les combinaisons de fonctions testées, on peut conclure que l'associativité est vérifiée pour toutes les fonctions de F_n."
   ]
  },
  {
   "cell_type": "code",
   "execution_count": 26,
   "metadata": {},
   "outputs": [],
   "source": [
    "import random\n",
    "\n",
    "def check_associativity(n, num_tests):\n",
    "    funcs = all_func(n)\n",
    "    \n",
    "    for i in range(num_tests):\n",
    "        f = random.choice(funcs)\n",
    "        g = random.choice(funcs)\n",
    "        h = random.choice(funcs)\n",
    "        \n",
    "        res1 = comp(h, comp(g, f))\n",
    "        res2 = comp(comp(h, g), f)\n",
    "        \n",
    "        if res1 != res2:\n",
    "            print(f\"Associativité fausse !!! : ({h} o {g}) o {f} != {h} o ({g} o {f})\")\n",
    "            print(f\"    ({h} o {g}) o {f} = {res1}\")\n",
    "            print(f\"    {h} o ({g} o {f}) = {res2}\")\n",
    "            return False\n",
    "    \n",
    "    return True\n"
   ]
  },
  {
   "cell_type": "markdown",
   "metadata": {},
   "source": [
    "Le nombre de tests à effectuer est un paramètre de la fonction, ce qui permet de régler la vitesse d'exécution en fonction de la précision souhaitée. (random.choice() pour sélectionner aléatoirement des fonctions parmi l'ensemble de toutes les fonctions)\n",
    "\n",
    "On peut par exemple tester l'associativité de F_4 avec 1000 tests :"
   ]
  },
  {
   "cell_type": "code",
   "execution_count": 27,
   "metadata": {},
   "outputs": [
    {
     "name": "stdout",
     "output_type": "stream",
     "text": [
      "Associativité de F4: True\n"
     ]
    }
   ],
   "source": [
    "print(f\"Associativité de F4: {check_associativity(4, 1000)}\")"
   ]
  },
  {
   "cell_type": "markdown",
   "metadata": {},
   "source": [
    "2 ) \n",
    "Prenons l'exemple de F4 qui contient 256 fonctions. Si nous avons besoin de tester chaque triplet de fonctions pour l'associativité, cela nous donnerait un total de 256^3 = 16 777 216 tests. Avec le temps d'exécution mesuré pour F4, qui est d'environ une dizaine de secondes, nous pourrions extrapoler que le temps d'exécution pour F5, qui contient 1024 fonctions, pourrait être de l'ordre de plusieurs heures, voire plusieurs jours."
   ]
  },
  {
   "cell_type": "code",
   "execution_count": 29,
   "metadata": {},
   "outputs": [
    {
     "name": "stdout",
     "output_type": "stream",
     "text": [
      "\n"
     ]
    }
   ],
   "source": [
    "def all_func(n, current_function={}):\n",
    "    if len(current_function) == n:\n",
    "        return [current_function]\n",
    "    result = []\n",
    "    for i in range(1, n + 1):\n",
    "        result += all_func(n, {**current_function, len(current_function)+1: i})\n",
    "    return result\n",
    "\n",
    "\n",
    "def comp(f, g):\n",
    "    if not all(key in g for key in f.values()):\n",
    "        print(\"\\nLes fonctions ne sont pas composables.\")\n",
    "        return\n",
    "    \n",
    "    return {key: g[f[key]] for key in f}\n",
    "\n",
    "def check_associativity(n):\n",
    "    funcs = all_func(n)\n",
    "    count = 0\n",
    "    for i, f in enumerate(funcs):\n",
    "        for j in range(i, len(funcs)):\n",
    "            g = funcs[j]\n",
    "            for k, h in enumerate(funcs):\n",
    "                if k < j:\n",
    "                    continue\n",
    "                count += 1\n",
    "                res1 = comp(h, comp(g, f))\n",
    "                res2 = comp(comp(h, g), f)\n",
    "                if res1 != res2:\n",
    "                    print(f\"Associativité fausse !!! : ({h} o {g}) o {f} != {h} o ({g} o {f})\")\n",
    "                    print(f\"    ({h} o {g}) o {f} = {res1}\")\n",
    "                    print(f\"    {h} o ({g} o {f}) = {res2}\")\n",
    "                    return False\n",
    "    print(f\"Associativité vérifiée pour F{n} ({count} triplets de fonctions testés)\")\n",
    "    return True\n",
    "\n",
    "print(f\"Associativité de F4 : {check_associativity(4)}\")\n",
    "\n"
   ]
  },
  {
   "cell_type": "code",
   "execution_count": 30,
   "metadata": {},
   "outputs": [
    {
     "name": "stdout",
     "output_type": "stream",
     "text": [
      "\n"
     ]
    }
   ],
   "source": [
    "%%time\n",
    "check_associativity(5)"
   ]
  },
  {
   "cell_type": "markdown",
   "metadata": {},
   "source": [
    "#### Partie 4 : applications symétrisables"
   ]
  },
  {
   "cell_type": "markdown",
   "metadata": {},
   "source": [
    "Soit Fn l'ensemble des fonctions de [[1, n]] dans lui-même. Chaque élément de Fn peut être représenté par une liste de n nombres compris entre 1 et n, qui correspond à l'image de chaque élément de [[1, n]] par la fonction. Par exemple, la fonction f telle que f(1) = 3, f(2) = 1, f(3) = 2 peut être représentée par la liste [3, 1, 2].\n",
    "\n",
    "Une fonction de Fn est symétrisable si et seulement si elle est bijective et que sa réciproque est égale à elle-même, c'est-à-dire qu'elle se lit de la même manière dans les deux sens. Une fonction est bijective si et seulement si chaque élément de l'ensemble d'arrivée est l'image d'un et un seul élément de l'ensemble de départ, ce qui signifie que chaque élément de [[1, n]] est représenté exactement une fois dans la liste qui décrit la fonction.\n",
    "\n",
    "Dans le cas de Fn, l'ensemble de départ et l'ensemble d'arrivée ont tous deux n éléments, donc le nombre de fonctions symétrisables de Fn est égal au nombre de bijections de [[1, n]] dans lui-même. Il y a n! façons de permuter les n éléments de [[1, n]], donc pour n ≥ 5, le nombre de fonctions symétrisables est n! qui croît très rapidement avec n.\n",
    "\n",
    "La fonction inverse_dict(fonction) détermine la fonction réciproque f⁻¹. En l'utilisant, compter_bijections(ensemble_fonctions) va calculer f ∘ f⁻¹. Par définition, si la fonction composée renvoyée est la fonction identité cela signifie que f se lit dans les deux sens et qu'elle est bien bijective.\n",
    "\n",
    "On trouve 120 (5!) fonctions bijectives dans F5 et 720 (6!) dans F6."
   ]
  },
  {
   "cell_type": "code",
   "execution_count": 32,
   "metadata": {},
   "outputs": [
    {
     "name": "stdout",
     "output_type": "stream",
     "text": [
      "Nombre d’éléments de F5 qui sont symétrisables :  120\n",
      "Nombre d’éléments de F6 qui sont symétrisables :  720\n",
      "...\n"
     ]
    }
   ],
   "source": [
    "def inverse_dict(fonction):\n",
    "    inverse = {}  # Initialiser un dictionnaire vide pour stocker la fonction inversée\n",
    "    for cle in fonction:  # Parcourir les clés de la fonction\n",
    "        inverse[fonction[cle]] = cle  # Inverser la clé et la valeur et les ajouter au dictionnaire inverse\n",
    "    return inverse  # Retourner la fonction inversée\n",
    "\n",
    "\n",
    "def compter_bijections(ensemble_fonctions):\n",
    "    id_fonction = {x: x for x in range(1, (list(ensemble_fonctions[0].keys())[-1]) + 1)}  # Créer une fonction identité pour la comparaison\n",
    "    compteur = 0  # Initialiser le compteur à 0\n",
    "    for f in ensemble_fonctions:  # Parcourir chaque fonction dans l'ensemble donné\n",
    "        f_inverse = inverse_dict(f)  # Inverser la fonction courante\n",
    "        if comp(f_inverse, f) == id_fonction:  # Vérifier si la composition des fonctions est égale à la fonction identité\n",
    "            compteur += 1  # Incrémenter le compteur de fonctions bijectives\n",
    "    return compteur  # Retourner le nombre de fonctions bijectives\n",
    "\n",
    "\n",
    "print(\"Nombre d’éléments de F5 qui sont symétrisables : \",count_bijection(list(all_func(5))))\n",
    "print(\"Nombre d’éléments de F6 qui sont symétrisables : \",count_bijection(list(all_func(6))))\n",
    "print(\"...\")\n"
   ]
  },
  {
   "cell_type": "markdown",
   "metadata": {},
   "source": [
    "#### Partie 5 : applications qui commutent"
   ]
  },
  {
   "cell_type": "markdown",
   "metadata": {},
   "source": [
    "Pour déterminer le nombre de paires d'applications (f, g) ∈ (Fn)^2 qui commutent pour n ≥ 5, nous pouvons parcourir toutes les paires d'applications possibles dans (Fn)^2 et vérifier si elles commutent en utilisant la fonction comp() définie précédemment."
   ]
  },
  {
   "cell_type": "code",
   "execution_count": null,
   "metadata": {},
   "outputs": [],
   "source": [
    "def nbr_pairsCommutations(Fn):\n",
    "    counter = 0  # Initialisation du compteur\n",
    "    # Double boucle pour tester de façon brute la \"commutativité\" entre chaque fonction de Fn\n",
    "    for f in Fn:\n",
    "        for g in Fn:\n",
    "            # Si les composées sont égales, f et g commutent\n",
    "            if comp(g, f) == comp(f, g): \n",
    "                counter += 1  # On incrémente le compteur de fonctions qui commutent\n",
    "    return counter  # On retourne le nombre de fonctions qui commutent\n",
    "\n",
    "print(nbr_pairsCommutations(list(all_func(3))))\n",
    "print(nbr_pairsCommutations(list(all_func(4))))\n",
    "print(nbr_pairsCommutations(list(all_func(5))))\n"
   ]
  },
  {
   "cell_type": "markdown",
   "metadata": {},
   "source": [
    "En utilisant la fonction **nbr_pairsCommutations()**, nous avons déterminé le nombre de fonctions commutant dans $F_3$,$F_4$ et $F_5$, soit respectivement 141, 2824 et 71565.\n",
    "\n",
    "Pour n = 5, nous obtenons un nombre assez important de paires d'applications qui commutent, il n'est donc pas facile de le déterminer sans faire le calcul exhaustif quii esr d'ailleurs très long.\n",
    "\n",
    "Cependant, pour n = 6, nous pouvons utiliser la base de données OEIS (Online Encyclopedia of Integer Sequences) qui recense de nombreuses suites d'entiers et fournit des informations sur leur propriétés mathématiques. ainsi en rentrant cette séquence (141, 2824 et 71565) dans OEIS.org, correspondant au nombre de paires d'applications qui commutent dans (F6)^2, cela nous indique qu'il y a 2244096 paires."
   ]
  },
  {
   "cell_type": "markdown",
   "metadata": {},
   "source": [
    "#### Partie 6 : orbites"
   ]
  },
  {
   "cell_type": "code",
   "execution_count": 33,
   "metadata": {},
   "outputs": [],
   "source": [
    "def all_func(n, current_function={}):\n",
    "    if len(current_function) == n:\n",
    "        return [current_function]\n",
    "    result = []\n",
    "    for i in range(1, n + 1):\n",
    "        result += all_func(n, {**current_function, len(current_function)+1: i})\n",
    "    return result\n"
   ]
  },
  {
   "cell_type": "code",
   "execution_count": 34,
   "metadata": {},
   "outputs": [],
   "source": [
    "def orb(f, x):\n",
    "    orbite = [x]  # Initialise l'orbite avec x\n",
    "    current = f[x]  # Initialise la valeur courante à f(x)\n",
    "    while current != x:  # Boucle jusqu'à atteindre x à nouveau\n",
    "        orbite.append(current)\n",
    "        current = f[current]\n",
    "    orbite.append(x)  # Ajoute x à nouveau pour boucler l'orbite\n",
    "    return orbite\n"
   ]
  },
  {
   "cell_type": "code",
   "execution_count": 36,
   "metadata": {},
   "outputs": [
    {
     "name": "stdout",
     "output_type": "stream",
     "text": [
      "\n"
     ]
    }
   ],
   "source": [
    "def average_orbit_size():\n",
    "    n = 7  # On définit la valeur de n\n",
    "    funcs = all_func(n)  # On génère toutes les fonctions de F_n\n",
    "    total_size = 0  # On initialise une variable pour stocker la somme des tailles des orbites de chaque fonction\n",
    "    \n",
    "    for f in funcs:  # Pour chaque fonction f dans l'ensemble des fonctions générées\n",
    "        orbit_sizes = []  # On initialise une liste pour stocker les tailles des orbites\n",
    "        for x in range(1, n+1):  # Pour chaque élément x de l'ensemble de départ\n",
    "            orbit = orb(f, x)  # On calcule l'orbite de x par f\n",
    "            orbit_sizes.append(len(orbit))  # On ajoute la taille de l'orbite à la liste des tailles\n",
    "        total_size += sum(orbit_sizes) / n  # On ajoute la moyenne des tailles des orbites de f à la somme totale\n",
    "    \n",
    "    return total_size / len(funcs)  # On retourne la moyenne des tailles des orbites de toutes les fonctions de F_n\n",
    "\n",
    "print(average_orbit_size())  # On affiche la valeur retournée par la fonction\n"
   ]
  },
  {
   "cell_type": "markdown",
   "metadata": {},
   "source": [
    "$$\\frac{1}{|F_7|}\\sum_{f\\in F_7} \\left[\\sum_{x=1}^{7} \\frac{|\\operatorname{orbite}_f(x)|}{7}\\right]$$"
   ]
  },
  {
   "cell_type": "markdown",
   "metadata": {},
   "source": [
    "### Exercice bonus : retour à l’arithmétique modulaire"
   ]
  },
  {
   "cell_type": "markdown",
   "metadata": {},
   "source": [
    "Soit un générateur congruentiel linéaire de module $n$, de graine $x_0$, et de paramètres $(a, b)$ tels que la suite $(x_k)$ est construite par récurrence selon la formule :\n",
    "$$x_{k+1} = ax_k + b \\mod n$$\n",
    "\n",
    "On nous donne la suite $(x_k)$ suivante :\n",
    "$$x_1 = 1936, \\quad x_2 = 12586, \\quad x_3 = 8850$$\n",
    "\n",
    "Pour retrouver $x_0$ et $(a,b)$, nous allons utiliser les formules de la suite arithmético-géométrique.\n",
    "\n",
    "Tout d'abord, calculons le point fixe $x_p$ de la fonction $f(x) = ax+b \\mod n$ :\n",
    "\\begin{align*}\n",
    "x_p &= -b(a-1)^{-1} \\mod n \\\n",
    "&= -b\\cdot \\left((a-1)^{-1} \\mod n\\right) \\mod n\n",
    "\\end{align*}\n",
    "\n",
    "Nous devons donc résoudre l'équation $(a-1)x_p \\equiv -b \\mod n$ pour obtenir $x_p$.\n",
    "\n",
    "On peut donc trouver l'inverse de $(a-1)$ modulo $n$ en utilisant la fonction $\\texttt{mod_inverse}$ de SageMath et calculer $x_p$ :\n",
    "\\begin{align*}\n",
    "(a-1)^{-1} &\\equiv 14644 \\mod 21247 \\\n",
    "x_p &= -b\\cdot 14644 \\mod 21247 \\\n",
    "&= 17609\n",
    "\\end{align*}\n",
    "\n",
    "Maintenant que nous avons $x_p$, nous pouvons utiliser la deuxième formule de la suite arithmético-géométrique pour trouver $x_0$ :\n",
    "$$x_0 = a^{-3}(x_3 - x_p) + x_p \\mod n$$\n",
    "\n",
    "Nous avons $x_3 = 8850$ et $x_p = 17609$, et nous devons trouver $a^3$. Pour cela, nous pouvons utiliser les deux équations suivantes :\n",
    "\\begin{align*}\n",
    "x_2 &= ax_1 + b \\mod n \\\n",
    "x_3 &= ax_2 + b \\mod n\n",
    "\\end{align*}\n",
    "\n",
    "En soustrayant la première de la deuxième, nous obtenons :\n",
    "$$x_3 - x_2 = a(x_2 - x_1) \\mod n$$\n",
    "\n",
    "Ce qui donne :\n",
    "$$a = (x_3 - x_2)(x_2 - x_1)^{-1} \\mod n$$\n",
    "\n",
    "Calculons donc $a$ :\n",
    "\\begin{align*}\n",
    "(x_3 - x_2)(x_2 - x_1)^{-1} &\\equiv (8850 - 12586)(12586 - 1936)^{-1} \\mod 21247 \\\n",
    "&\\equiv 1962 \\mod 21247\n",
    "\\end{align*}\n",
    "\n",
    "Maintenant, nous pouvons calculer $x_0$ :\n",
    "\\begin{align*}\n",
    "x_0 &= a^{-3}(x_3 -x_p) + x_p \\mod n \\\n",
    "&\\equiv 1962^{-3}(8850 - 17609) + 17609 \\mod 21247 \\\n",
    "&\\equiv 8381 \\mod 21247\n",
    "\\end{align*}\n",
    "\n",
    "Enfin, nous pouvons trouver $b$ en utilisant la première équation de la suite :\n",
    "$$x_2 = ax_1 + b \\mod n$$\n",
    "\n",
    "Ce qui donne :\n",
    "$$b = x_2 - ax_1 \\mod n$$\n",
    "\n",
    "Calculons donc $b$ :\n",
    "\\begin{align*}\n",
    "x_2 - ax_1 &\\equiv 12586 - 1962\\cdot 1936 \\mod 21247\n",
    "&\\equiv 9583 \\mod 21247\n",
    "\\end{align*}\n",
    "\n",
    "## Ainsi, la graine $x_0$ est $8381$, $a$ est $1962$, et $b$ est $9583$.\n",
    "\n",
    "\n",
    "\n",
    "\n"
   ]
  },
  {
   "cell_type": "code",
   "execution_count": 47,
   "metadata": {},
   "outputs": [
    {
     "name": "stdout",
     "output_type": "stream",
     "text": [
      "x0 = 10716\n",
      "a = 3467\n",
      "b = 14526\n"
     ]
    }
   ],
   "source": [
    "def mod_inverse(a, n):\n",
    "    \"\"\"\n",
    "    Calcule l'inverse modulaire de a modulo n.\n",
    "    \"\"\"\n",
    "    bezout = xgcd(a, n)\n",
    "    if bezout[0] != 1:\n",
    "        raise ValueError(\"a n'a pas d'inverse modulo n.\")\n",
    "    return bezout[1] % n\n",
    "\n",
    "x1, x2, x3 = 1936, 12586, 8850\n",
    "n = 21247\n",
    "\n",
    "# Calcul du point fixe\n",
    "a = (x3 - x2) * mod_inverse(x2 - x1, n) % n\n",
    "xp = (-a * mod_inverse(a - 1, n)) % n\n",
    "\n",
    "# Calcul de x0\n",
    "x0 = (a**-3 * (x3 - xp) + xp) % n\n",
    "\n",
    "# Calcul de b\n",
    "b = (x2 - a * x1) % n\n"
   ]
  },
  {
   "cell_type": "code",
   "execution_count": null,
   "metadata": {},
   "outputs": [],
   "source": []
  },
  {
   "cell_type": "code",
   "execution_count": null,
   "metadata": {},
   "outputs": [],
   "source": []
  },
  {
   "cell_type": "code",
   "execution_count": null,
   "metadata": {},
   "outputs": [],
   "source": []
  }
 ],
 "metadata": {
  "kernelspec": {
   "display_name": "SageMath 9.1",
   "language": "sage",
   "name": "sagemath"
  },
  "language_info": {
   "codemirror_mode": {
    "name": "ipython",
    "version": 3
   },
   "file_extension": ".py",
   "mimetype": "text/x-python",
   "name": "python",
   "nbconvert_exporter": "python",
   "pygments_lexer": "ipython3",
   "version": "3.7.3"
  }
 },
 "nbformat": 4,
 "nbformat_minor": 4
}
