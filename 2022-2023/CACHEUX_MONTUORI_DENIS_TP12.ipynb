{
 "cells": [
  {
   "cell_type": "markdown",
   "metadata": {},
   "source": [
    "# TP6 - corps binaires et applications\n",
    "\n",
    "<span class='alert-info'> Répondez aux questions dans un notebook séparé que vous rendrez au format <strong> NOM1_NOM2_tp6.ipynb </strong> </span>\n",
    "\n",
    "## Partie 1 - un anneau qui a du caractère\n",
    "\n",
    "On va travailler dans un **anneau** (structure algébrique où $+, -, \\times$ sont autorisées) **fini** à $64$ éléments noté $(\\mathbb{F}_{64}, +, \\times)$. Les éléments de $\\mathbb{F}_{64}$ seront informatiquement des instances de la classe ```F``` implémentée ci-dessous. "
   ]
  },
  {
   "cell_type": "code",
   "execution_count": 23,
   "metadata": {},
   "outputs": [],
   "source": [
    "class F(SageObject):\n",
    "    \n",
    "    # names for the 64 elements\n",
    "    # static variables \n",
    "    names = \"01abcdefghijklmnopqrstuvwxyzABCDEFGHIJKLMNOPQRSTUVWXYZ !?-'#$%&@\"\n",
    "    \n",
    "    # create F object associated to character val \n",
    "    def __init__(self, val):\n",
    "        \n",
    "        try:\n",
    "            # id = integer to identify the ring element \n",
    "            self.id = Integer(F.names.index(str(val)))\n",
    "            \n",
    "        except ValueError:\n",
    "            # val is not found in names \n",
    "            raise ValueError(\"Element %s unknown\" % val)\n",
    "            \n",
    "    # F1 == F2 if F1 and F2 have the same id \n",
    "    def __eq__(self, other):\n",
    "        \n",
    "        return self.id == other.id\n",
    "        \n",
    "    def __ne__(self, other):\n",
    "        \n",
    "        return not (self == other)\n",
    "       \n",
    "    # special method to represent an instance of F \n",
    "    def __repr__(self):\n",
    "        \n",
    "        return F.names[self.id]\n",
    "    \n",
    "    # resultat of F1 + F2\n",
    "    def __add__(self, other):\n",
    "        \n",
    "        r = F(self)\n",
    "        r += other\n",
    "        return r\n",
    "    \n",
    "    # result of F1 += F2\n",
    "    def __iadd__(self, other):\n",
    "        \n",
    "        # add two objects = bitwise addition on their id \n",
    "        self.id = self.id.__xor__(other.id)\n",
    "        return self\n",
    "    \n",
    "    # method that is used to perform F1 * F2 \n",
    "    def shift(self):\n",
    "        \n",
    "        # append a 0 in the binary representation of self.id \n",
    "        # tmp is an integer coded with 7 bits \n",
    "        tmp = self.id << 1\n",
    "        \n",
    "        # res stores bits associated to 2^6 to 2^0 \n",
    "        res = tmp % 64\n",
    "        \n",
    "        # tmp // 64 stores the bit associated to 2^7  \n",
    "        # if the bit is 1...\n",
    "        if tmp // 64:\n",
    "            \n",
    "            # 1 000 000 is represented by 0 011 011 (why?)\n",
    "            # perform bitwise addition 011 011 + res  \n",
    "            res = res.__xor__(27) \n",
    "            \n",
    "        self.id = res\n",
    "    \n",
    "    # result of F1 * F2 \n",
    "    # magic multiplication \n",
    "    def __mul__(self, other):\n",
    "        \n",
    "        res = F(0)\n",
    "        tmp = F(other)\n",
    "        \n",
    "        # F1 is represented as a binary word \n",
    "        # when a bit is 0, do nothing \n",
    "        # when a bit is 1, add a shifted version of F(other)\n",
    "        for b in self.id.bits():\n",
    "            if b:\n",
    "                res += tmp\n",
    "            tmp.shift()\n",
    "            \n",
    "        return res\n",
    "        \n",
    "    # resultat of F*F*...*F\n",
    "    def __pow__(self, exp):\n",
    "        \n",
    "        res = F(1)\n",
    "        \n",
    "        for i in range(exp):\n",
    "            res *= self\n",
    "        \n",
    "        return res\n",
    "        \n",
    "F.elements = [F(i) for i in F.names]"
   ]
  },
  {
   "cell_type": "markdown",
   "metadata": {},
   "source": [
    "Les éléments de $\\mathbb{F}_{64}$ sont les 64 caractères (ou *symboles*) suivants:"
   ]
  },
  {
   "cell_type": "code",
   "execution_count": 24,
   "metadata": {},
   "outputs": [
    {
     "name": "stdout",
     "output_type": "stream",
     "text": [
      "[0, 1, a, b, c, d, e, f, g, h, i, j, k, l, m, n, o, p, q, r, s, t, u, v, w, x, y, z, A, B, C, D, E, F, G, H, I, J, K, L, M, N, O, P, Q, R, S, T, U, V, W, X, Y, Z,  , !, ?, -, ', #, $, %, &, @]\n"
     ]
    }
   ],
   "source": [
    "print(F.elements)"
   ]
  },
  {
   "cell_type": "markdown",
   "metadata": {},
   "source": [
    "On crée facilement les *objets* associés à chaque élément. Par exemple, pour créer l'objet associé à l'élément $a$: "
   ]
  },
  {
   "cell_type": "code",
   "execution_count": 25,
   "metadata": {},
   "outputs": [
    {
     "data": {
      "text/plain": [
       "a"
      ]
     },
     "execution_count": 25,
     "metadata": {},
     "output_type": "execute_result"
    }
   ],
   "source": [
    "a = F(\"a\")\n",
    "a"
   ]
  },
  {
   "cell_type": "markdown",
   "metadata": {},
   "source": [
    "Deux opérations de base sont implémentées : une **addition**"
   ]
  },
  {
   "cell_type": "code",
   "execution_count": 26,
   "metadata": {},
   "outputs": [
    {
     "data": {
      "text/plain": [
       "e"
      ]
     },
     "execution_count": 26,
     "metadata": {},
     "output_type": "execute_result"
    }
   ],
   "source": [
    "c = F(\"c\")\n",
    "a + c"
   ]
  },
  {
   "cell_type": "markdown",
   "metadata": {},
   "source": [
    "et une **multiplication**"
   ]
  },
  {
   "cell_type": "code",
   "execution_count": 27,
   "metadata": {},
   "outputs": [
    {
     "data": {
      "text/plain": [
       "g"
      ]
     },
     "execution_count": 27,
     "metadata": {},
     "output_type": "execute_result"
    }
   ],
   "source": [
    "a * c"
   ]
  },
  {
   "cell_type": "markdown",
   "metadata": {},
   "source": [
    "Notez que l'anneau $(\\mathbb{F}_{64}, +, \\times)$ n'est **pas** isomorphe à $(\\mathbb{Z}/64 \\mathbb{Z}, +, \\times)$. On peut par exemple vérifier que $\\alpha + \\alpha = 0$ pour tout $\\alpha \\in \\mathbb{F}_{64}$ (alors que dans $\\mathbb{Z}/64\\mathbb{Z}$, chaque élément n'est pas son propre opposé) "
   ]
  },
  {
   "cell_type": "markdown",
   "metadata": {},
   "source": [
    " Dans l'anneau $\\mathbb{F}_{64}$, chaque élément est son propre opposé parce que l'opération d'addition est définie comme une addition bit à bit (aussi connue sous le nom d'opération XOR) sur les identifiants des éléments."
   ]
  },
  {
   "cell_type": "markdown",
   "metadata": {},
   "source": [
    "Dans l'anneau $\\mathbb{Z}/64\\mathbb{Z}$, chaque élément n'est pas son propre opposé car l'opération d'addition est définie comme une addition modulaire sur les entiers de $0$ à $63$.\n",
    "\n",
    "Plus précisément, si $a$ est un élément de $\\mathbb{Z}/64\\mathbb{Z}$, alors son opposé est l'élément $-a$ tel que $a + (-a) = 0$ dans l'anneau. Cependant, dans cet anneau, l'addition est définie modulo $64$, ce qui signifie que l'opposé de $a$ est en réalité l'élément $64-a$ plutôt que $-a$.\n",
    "\n",
    "Par exemple, dans cet anneau, l'élément $1$ n'est pas son propre opposé car son opposé est l'élément $63$, et $1+63=64$, qui est congruent à $0$ modulo $64$. De même, l'élément $32$ n'est pas son propre opposé car son opposé est l'élément $32$ (car $32+32=64$), qui est égal à $0$ dans cet anneau."
   ]
  },
  {
   "cell_type": "code",
   "execution_count": 28,
   "metadata": {},
   "outputs": [
    {
     "name": "stdout",
     "output_type": "stream",
     "text": [
      "alpha = c, alpha + alpha = 0\n"
     ]
    }
   ],
   "source": [
    "alpha = choice(F.elements)  # random element, run again for another one\n",
    "\n",
    "print(\"alpha = %s, alpha + alpha = %s\" % (alpha, alpha + alpha))"
   ]
  },
  {
   "cell_type": "markdown",
   "metadata": {},
   "source": [
    "### a) C'est un anneau commutatif"
   ]
  },
  {
   "cell_type": "markdown",
   "metadata": {},
   "source": [
    "<div class='alert-danger'> <strong> Alerte à la question! </strong> </div>\n",
    "\n",
    "Vérifier explicitement (par *force brute*) que **tous** les axiomes d'anneau commutatif sont satisfaits pour cette structure algébrique."
   ]
  },
  {
   "cell_type": "markdown",
   "metadata": {},
   "source": [
    "Pour vérifier que tous les axiomes d'un anneau commutatif sont satisfaits pour cette structure algébrique, nous devons vérifier les propriétés suivantes :\n",
    "\n",
    "1 - Associativité de l'addition: $$(a + b) + c = a + (b + c)$$\n",
    "2 - Commutativité de l'addition: $$a + b = b + a$$\n",
    "3 - Existence de l'élément neutre de l'addition: $$a + 0 = a$$\n",
    "4 - Existence de l'opposé pour l'addition: $$a + (-a) = 0$$\n",
    "5 - Associativité de la multiplication: $$(a * b) * c = a * (b * c)$$\n",
    "6 - Commutativité de la multiplication: $$a * b = b * a$$\n",
    "7 - Existence de l'élément neutre de la multiplication: $$a * 1 = a$$\n",
    "8 - Distributivité de la multiplication par rapport à l'addition: $$a * (b + c) = (a * b) + (a * c)$$"
   ]
  },
  {
   "cell_type": "code",
   "execution_count": 29,
   "metadata": {},
   "outputs": [
    {
     "name": "stdout",
     "output_type": "stream",
     "text": [
      "Toutes les propriétés des axiomes d'un anneau commutatif ont été vérifiées avec succès pour cette structure algébrique.\n"
     ]
    }
   ],
   "source": [
    "# Vérifier l'associativité de l'addition\n",
    "for a in F.elements:\n",
    "    for b in F.elements:\n",
    "        for c in F.elements:\n",
    "            if (a + b) + c != a + (b + c):\n",
    "                print(f\"Addition non associative: ({a} + {b}) + {c} != {a} + ({b} + {c})\")\n",
    "\n",
    "# Vérifier la commutativité de l'addition\n",
    "for a in F.elements:\n",
    "    for b in F.elements:\n",
    "        if a + b != b + a:\n",
    "            print(f\"Addition non commutative: {a} + {b} != {b} + {a}\")\n",
    "\n",
    "# Vérifier l'élément neutre de l'addition et l'existence de l'opposé pour l'addition\n",
    "zero = F(0)\n",
    "for a in F.elements:\n",
    "    if a + zero != a:\n",
    "        print(f\"Élément neutre de l'addition incorrect: {a} + {zero} != {a}\")\n",
    "    if a + a != zero:\n",
    "        print(f\"Opposé pour l'addition non trouvé: {a} + {a} != {zero}\")\n",
    "\n",
    "# Vérifier l'associativité de la multiplication\n",
    "for a in F.elements:\n",
    "    for b in F.elements:\n",
    "        for c in F.elements:\n",
    "            if (a * b) * c != a * (b * c):\n",
    "                print(f\"Multiplication non associative: ({a} * {b}) * {c} != {a} * ({b} * {c})\")\n",
    "\n",
    "# Vérifier la commutativité de la multiplication\n",
    "for a in F.elements:\n",
    "    for b in F.elements:\n",
    "        if a * b != b * a:\n",
    "            print(f\"Multiplication non commutative: {a} * {b} != {b} * {a}\")\n",
    "\n",
    "# Vérifier l'élément neutre de la multiplication\n",
    "one = F(1)\n",
    "for a in F.elements:\n",
    "    if a * one != a:\n",
    "        print(f\"Élément neutre de la multiplication incorrect: {a} * {one} != {a}\")\n",
    "\n",
    "# Vérifier la distribution de la multiplication sur l'addition\n",
    "for a in F.elements:\n",
    "    for b in F.elements:\n",
    "        for c in F.elements:\n",
    "            if a * (b + c) != a * b + a * c:\n",
    "                print(f\"Distribution de la multiplication sur l'addition incorrecte: {a} * ({b} + {c}) != {a} * {b} + {a} * {c}\")\n",
    "\n",
    "# Afficher un message de confirmation si toutes les propriétés sont vérifiées avec succès\n",
    "print(\"Toutes les propriétés des axiomes d'un anneau commutatif ont été vérifiées avec succès pour cette structure algébrique.\")\n"
   ]
  },
  {
   "cell_type": "markdown",
   "metadata": {},
   "source": [
    "### b) Inverse d'un élément"
   ]
  },
  {
   "cell_type": "markdown",
   "metadata": {},
   "source": [
    "Il est aisé de vérifier qu'un élément est inversible si on nous fournit un candidat pour son inverse. Par exemple: le calcul ci-dessous suffit à convaincre que l'élément $\\mathtt{a}$ est inversible et que $\\mathtt{a}^{-1} = \\mathtt{R}$."
   ]
  },
  {
   "cell_type": "code",
   "execution_count": 30,
   "metadata": {},
   "outputs": [
    {
     "data": {
      "text/plain": [
       "1"
      ]
     },
     "execution_count": 30,
     "metadata": {},
     "output_type": "execute_result"
    }
   ],
   "source": [
    "F(\"a\") * F(\"R\")"
   ]
  },
  {
   "cell_type": "markdown",
   "metadata": {},
   "source": [
    "<div class='alert-danger'> <strong> Alerte à la question! </strong> </div>\n",
    "\n",
    "Soit $m$ la somme des numéros des mois de naissance des membres du binôme et $\\zeta$ l'élément `F.elements[m]` de $\\mathbb{F}_{64}$. Vérifiez que $\\zeta$ est inversible en recherchant par force brute son inverse parmi les éléments de $\\mathbb{F}_{64}$."
   ]
  },
  {
   "cell_type": "code",
   "execution_count": 31,
   "metadata": {},
   "outputs": [
    {
     "name": "stdout",
     "output_type": "stream",
     "text": [
      "L'inverse de x est W  :  x * W = 1\n"
     ]
    }
   ],
   "source": [
    "m = 25  # somme des mois de naissance des membres du trinôme\n",
    "zeta = F.elements[m]\n",
    "\n",
    "zeta_inverse = None\n",
    "for candidate in F.elements:\n",
    "    if zeta * candidate == F(1):\n",
    "        zeta_inverse = candidate\n",
    "        break\n",
    "\n",
    "if zeta_inverse is not None:\n",
    "    print(f\"L'inverse de {zeta} est {zeta_inverse}  :  {zeta} * {zeta_inverse} = 1\")\n",
    "else:\n",
    "    print(f\"{zeta} n'est pas inversible dans l'anneau\")\n"
   ]
  },
  {
   "cell_type": "markdown",
   "metadata": {},
   "source": [
    "Il n'est pas nécessaire de vérifier la commutativité de l'inverse. Étant donné que la multiplication dans l'anneau $\\mathbb{F}_{64}$ est déjà définie comme étant commutative (nous l'avons vérifié précédemment), il suffit de vérifier que $\\zeta * \\zeta^{-1} = 1$. "
   ]
  },
  {
   "cell_type": "markdown",
   "metadata": {},
   "source": [
    "### c) Structure multiplicative"
   ]
  },
  {
   "cell_type": "markdown",
   "metadata": {},
   "source": [
    "Vous l'aurez peut-être deviné : tous les éléments non nuls de $\\mathbf{F}$ sont inversibles (il s'agit donc d'un *corps fini* à 64 éléments). "
   ]
  },
  {
   "cell_type": "markdown",
   "metadata": {},
   "source": [
    "<div class='alert-danger'> <strong> Alerte à la question! </strong> </div>\n",
    "\n",
    "- Déterminer l'ordre multiplicatif de l'élément $\\mathtt{a}$\n",
    "- En déduire que tous les éléments de $\\mathbb{F}_{64}$ (sauf le neutre additif) sont inversibles. \n",
    "- En partant de $\\mathtt{a}^{-1} = \\mathtt{R}$, déterminer astucieusement (donc pas par force brute) l'inverse de $\\zeta$"
   ]
  },
  {
   "cell_type": "markdown",
   "metadata": {},
   "source": [
    "1) L'ordre multiplicatif d'un élément $\\mathtt{a}$ d'un anneau commutatif est défini comme le plus petit entier positif $n$ tel que $\\mathtt{a}^n = 1$, où $1$ est l'élément neutre de la multiplication dans l'anneau. "
   ]
  },
  {
   "cell_type": "code",
   "execution_count": 32,
   "metadata": {},
   "outputs": [
    {
     "name": "stdout",
     "output_type": "stream",
     "text": [
      "L'ordre multiplicatif de a est 63\n",
      "Donc : a^63 =  1\n"
     ]
    }
   ],
   "source": [
    "a = F(\"a\")\n",
    "n = 1\n",
    "while a ** n != F(1):\n",
    "    n += 1\n",
    "\n",
    "print(f\"L'ordre multiplicatif de a est {n}\")\n",
    "print(\"Donc : a^63 = \", a^63)"
   ]
  },
  {
   "cell_type": "markdown",
   "metadata": {},
   "source": [
    "2) Lorsque nous avons calculé l'ordre multiplicatif de $\\mathtt{a}$, nous avons trouvé le plus petit entier positif $n$ tel que $\\mathtt{a}^n = 1$. Cela signifie que $\\mathtt{a}^{n-1}$ est l'inverse de $\\mathtt{a}$, car $\\mathtt{a} * \\mathtt{a}^{n-1} = \\mathtt{a}^n = 1$.\n",
    "\n",
    "Maintenant, nous savons que $\\mathtt{a}$ engendre le groupe multiplicatif. Cela signifie que tous les éléments non nuls de $\\mathbb{F}{64}$ peuvent être exprimés sous la forme $\\mathtt{a}^k$ pour un certain entier $k$. Donc, pour chaque élément non nul $\\zeta$ de $\\mathbb{F}{64}$, il existe un entier $k$ tel que $\\zeta = \\mathtt{a}^k$.\n",
    "\n",
    "En utilisant la propriété que $\\mathtt{a}^{n-1}$ est l'inverse de $\\mathtt{a}$, nous pouvons calculer l'inverse de $\\zeta$ comme suit: $\\zeta^{-1} = (\\mathtt{a}^k)^{-1} = \\mathtt{a}^{-k}$. Puisque nous pouvons calculer l'inverse de chaque élément non nul $\\zeta$ de cette manière, cela signifie que tous les éléments non nuls de $\\mathbb{F}_{64}$ sont inversibles."
   ]
  },
  {
   "cell_type": "markdown",
   "metadata": {},
   "source": [
    "3) Nous savons déjà que tous les éléments de $\\mathbb{F}{64}$ (à l'exception du neutre additif) sont inversibles et que $\\mathtt{a}$ engendre le groupe multiplicatif. Cela signifie que chaque élément $\\zeta$ de $\\mathbb{F}{64}$ peut être exprimé sous la forme $\\zeta = \\mathtt{a}^k$ pour un certain entier $k$.\n",
    "\n",
    "Le but est de déterminer l'inverse de $\\zeta$ sans utiliser la force brute. Pour ce faire, nous utilisons la relation suivante :\n",
    "\n",
    "\\begin{equation}\n",
    "\\zeta^{-1} = (\\mathtt{a}^k)^{-1} = \\mathtt{a}^{-k}\n",
    "\\end{equation}\n",
    "\n",
    "L'inverse de $\\zeta$ est simplement $\\mathtt{a}^{-k}$. Pour calculer $\\mathtt{a}^{-k}$, nous avons besoin de connaître l'inverse de $\\mathtt{a}$, qui est $\\mathtt{R}$ :\n",
    "\n",
    "\\begin{equation}\n",
    "\\mathtt{a}^{-1} = \\mathtt{R}\n",
    "\\end{equation}\n",
    "\n",
    "En utilisant cette information, nous pouvons calculer $\\mathtt{a}^{-k}$ comme suit :\n",
    "\n",
    "\\begin{equation}\n",
    "\\mathtt{a}^{-k} = (\\mathtt{a}^{-1})^k = \\mathtt{R}^k\n",
    "\\end{equation}\n",
    "\n",
    "Maintenant, divisons le processus en deux étapes :\n",
    "\n",
    "Trouver l'entier $k$ tel que $\\zeta = \\mathtt{a}^k$.\n",
    "Calculer l'inverse de $\\zeta$ en utilisant la formule $\\mathtt{a}^{-k} = \\mathtt{R}^k$."
   ]
  },
  {
   "cell_type": "code",
   "execution_count": 33,
   "metadata": {},
   "outputs": [
    {
     "name": "stdout",
     "output_type": "stream",
     "text": [
      "zeta = x, a^k = a^31 = x\n",
      "L'inverse de zeta (calculé astucieusement) est W\n"
     ]
    }
   ],
   "source": [
    "a_inverse = F(\"R\")\n",
    "\n",
    "# Trouver k tel que zeta = a^k\n",
    "k = 0\n",
    "power_a = F(1)\n",
    "\n",
    "while power_a != zeta:\n",
    "    power_a *= a\n",
    "    k += 1\n",
    "\n",
    "print(f\"zeta = {zeta}, a^k = a^{k} = {power_a}\")\n",
    "\n",
    "# Calculer l'inverse de zeta comme a^(-k)\n",
    "zeta_inverse_astuce = a_inverse ** k\n",
    "print(f\"L'inverse de zeta (calculé astucieusement) est {zeta_inverse_astuce}\")\n",
    "\n",
    "# Vérifier que le résultat est correct\n",
    "assert zeta * zeta_inverse_astuce == F(1), f\"Erreur: {zeta} * {zeta_inverse_astuce} != 1\"\n"
   ]
  },
  {
   "cell_type": "markdown",
   "metadata": {},
   "source": [
    "### d) Solutions d'une équation polynomiale"
   ]
  },
  {
   "cell_type": "markdown",
   "metadata": {},
   "source": [
    "<div class='alert-danger'> <strong> Alerte à la question! </strong> </div>\n",
    "\n",
    "- Déterminer les racines dans $\\mathbb{F}_{64}$ du polynôme $X^6 + X^4 + X^3 + X + 1 \\in \\mathbb{F}_2[X]$\n",
    "- Expliquer comment cela permet de se convaincre que chaque élément de $\\mathbb{F}_{64}$ peut s'écrire, de façon unique, sous la forme d'une expression de la forme\n",
    "\n",
    "    $$ \\boxed{b_5 \\mathtt{a}^5 + b_4 \\mathtt{a}^4 + b_3 \\mathtt{a}^3 + b_2 \\mathtt{a}^2 + b_1 \\mathtt{a} + b_0} $$\n",
    "\n",
    "    avec $(b_0, \\ldots, b_5) \\in \\mathbb{F}_2^6$\n",
    "- Quelle est l'écriture correspondante pour votre élément $\\zeta$ ci-dessus ?"
   ]
  },
  {
   "cell_type": "markdown",
   "metadata": {},
   "source": [
    "1) Pour déterminer les racines dans $\\mathbb{F}_{64}$ du polynôme $X^6 + X^4 + X^3 + X + 1 \\in \\mathbb{F}2[X]$, nous allons évaluer le polynôme pour chaque élément de $\\mathbb{F}{64}$ et vérifier si le résultat est le neutre additif (0)."
   ]
  },
  {
   "cell_type": "code",
   "execution_count": 34,
   "metadata": {},
   "outputs": [
    {
     "name": "stdout",
     "output_type": "stream",
     "text": [
      "Les racines du polynôme sont :\n",
      "a\n",
      "c\n",
      "o\n",
      "r\n",
      "W\n",
      "!\n"
     ]
    }
   ],
   "source": [
    "def evaluate_polynomial(x):\n",
    "    return x**6 + x**4 + x**3 + x + F(1)\n",
    "\n",
    "roots = []\n",
    "\n",
    "for element in F.elements[1:]:  # On exclut le neutre additif (0)\n",
    "    if evaluate_polynomial(element) == F(0):\n",
    "        roots.append(element)\n",
    "\n",
    "print(\"Les racines du polynôme sont :\")\n",
    "for root in roots:\n",
    "    print(root)\n"
   ]
  },
  {
   "cell_type": "markdown",
   "metadata": {},
   "source": [
    "2)Le fait que nous ayons trouvé les racines du polynôme $P(X) = X^6 + X^4 + X^3 + X + 1 \\in \\mathbb{F}2[X]$ dans $\\mathbb{F}{64}$ montre que ce polynôme est un polynôme générateur minimal pour le groupe multiplicatif engendré par $\\mathtt{a}$.\n",
    "\n",
    "Le groupe multiplicatif engendré par $\\mathtt{a}$ est un sous-groupe cyclique de l'ensemble des éléments non nuls de $\\mathbb{F}_{64}$. Cela signifie que chaque élément de ce groupe peut être écrit comme une puissance de $\\mathtt{a}$.\n",
    "\n",
    "Puisque le polynôme $P(X)$ est de degré 6 et qu'il a des coefficients dans $\\mathbb{F}_2$, cela implique que les exposants de $\\mathtt{a}$ dans les expressions sous la forme $b_5 \\mathtt{a}^5 + b_4 \\mathtt{a}^4 + b_3 \\mathtt{a}^3 + b_2 \\mathtt{a}^2 + b_1 \\mathtt{a} + b_0$ sont compris entre $0$ et $5$. Les coefficients $b_i$ appartiennent à $\\mathbb{F}_2$, c'est-à-dire qu'ils peuvent être $0$ ou $1$.\n",
    "\n",
    "Il y a $2^6 = 64$ combinaisons possibles de coefficients $(b_0, b_1, b_2, b_3, b_4, b_5)$. Comme il y a 64 éléments dans $\\mathbb{F}{64}$, chaque élément de $\\mathbb{F}{64}$ peut être représenté de manière unique par une expression de la forme $b_5 \\mathtt{a}^5 + b_4 \\mathtt{a}^4 + b_3 \\mathtt{a}^3 + b_2 \\mathtt{a}^2 + b_1 \\mathtt{a} + b_0$ avec $(b_0, \\ldots, b_5) \\in \\mathbb{F}_2^6$."
   ]
  },
  {
   "cell_type": "markdown",
   "metadata": {},
   "source": [
    "3)"
   ]
  },
  {
   "cell_type": "code",
   "execution_count": 35,
   "metadata": {},
   "outputs": [
    {
     "name": "stdout",
     "output_type": "stream",
     "text": [
      "zeta_expr = x\n"
     ]
    }
   ],
   "source": [
    "a = F(\"a\")\n",
    "zeta_expr = F(0) * a**5 + F(1) * a**4 + F(1) * a**3 + F(0) * a**2 + F(0) * a + F(1)\n",
    "print(f\"zeta_expr = {zeta_expr}\")\n"
   ]
  },
  {
   "cell_type": "code",
   "execution_count": 36,
   "metadata": {},
   "outputs": [
    {
     "name": "stdout",
     "output_type": "stream",
     "text": [
      "La combinaison qui donne zeta = x est : (b5, b4, b3, b2, b1, b0) = (0, 1, 1, 0, 0, 1)\n"
     ]
    }
   ],
   "source": [
    "combinations = [(b5, b4, b3, b2, b1, b0) for b5 in range(2) for b4 in range(2) for b3 in range(2) for b2 in range(2) for b1 in range(2) for b0 in range(2)]\n",
    "\n",
    "for (b5, b4, b3, b2, b1, b0) in combinations:\n",
    "    zeta_expr = F(b5) * a**5 + F(b4) * a**4 + F(b3) * a**3 + F(b2) * a**2 + F(b1) * a + F(b0)\n",
    "    if zeta_expr == zeta:\n",
    "        print(f\"La combinaison qui donne zeta = x est : (b5, b4, b3, b2, b1, b0) = ({b5}, {b4}, {b3}, {b2}, {b1}, {b0})\")\n"
   ]
  },
  {
   "cell_type": "markdown",
   "metadata": {},
   "source": [
    "## Partie 2 - chaînes de caractères et applications\n",
    "\n",
    "Les éléments de $\\mathbb{F}_{64}$ étant des caractères, on considérer une chaîne de caractères de longueur $n$ comme un élément de $\\mathbb{F}_{64}^n$. Voici un début de classe permettant de considérer une chaîne de caractères (admissibles) comme une liste d'élémentsde $\\mathbb{F}_{64}$."
   ]
  },
  {
   "cell_type": "code",
   "execution_count": 37,
   "metadata": {},
   "outputs": [],
   "source": [
    "class V(SageObject):\n",
    "    \n",
    "    # constructor \n",
    "    # s is a string of eligible characters \n",
    "    def __init__(self, s):\n",
    "        \n",
    "        self.coeffs = [F(c) for c in s]\n",
    "        \n",
    "    # representation of a V object \n",
    "    def __repr__(self):\n",
    "        \n",
    "        return \"\".join([c.__repr__() for c in self.coeffs])\n",
    "    \n",
    "    # result of V1 == V2 \n",
    "    def __eq__(self, other):\n",
    "        \n",
    "        return self.coeffs == other.coeffs\n",
    "   \n",
    "    # length of s\n",
    "    def __len__(self):\n",
    "        \n",
    "        return len(self.coeffs)\n",
    "    \n",
    "    # sum of two V objects\n",
    "    def __add__(self, other):\n",
    "        \n",
    "        if len(self) != len(other):\n",
    "            raise ValueError(\"Vectors must have same length\")\n",
    "        \n",
    "        # create new V object to store the sum\n",
    "        res = V(\"\")\n",
    "        \n",
    "        # sum each coefficient of the two vectors\n",
    "        for i in range(len(self)):\n",
    "            res.coeffs.append(self.coeffs[i] + other.coeffs[i])\n",
    "            \n",
    "        return res\n",
    "\n",
    "    # computes the checksum of the V object\n",
    "    def checksum(self):\n",
    "        s = F(0)\n",
    "        for c in self.coeffs:\n",
    "            s += c\n",
    "        return s\n",
    "\n",
    "\n"
   ]
  },
  {
   "cell_type": "markdown",
   "metadata": {},
   "source": [
    "### a) Somme de vecteurs"
   ]
  },
  {
   "cell_type": "markdown",
   "metadata": {},
   "source": [
    "<div class='alert-danger'> <strong> Alerte à la question! </strong> </div>\n",
    "\n",
    "Ajouter à la classe `V` une méthode `__add__` permettant de faire la somme **terme à terme** de deux chaînes de caractères de même longueur. Par exemple, on devrait avoir:\n",
    "- `V(\"ceci\") + V(\"cela\") == V(\"00hg\")`\n",
    "- `V(\"CECI\") + V(\"cela\") == V(\"yKrK\")` \n",
    "- `V(\"ceci\") + V(\"CELA\") == V(\"yKHu\")`\n",
    "- `V(\"CECI\") + V(\"CELA\") == V(\"00-?\")` "
   ]
  },
  {
   "cell_type": "code",
   "execution_count": 38,
   "metadata": {},
   "outputs": [
    {
     "name": "stdout",
     "output_type": "stream",
     "text": [
      "00hg\n",
      "yKrK\n",
      "yKHu\n",
      "00-?\n"
     ]
    }
   ],
   "source": [
    "v1 = V(\"ceci\")\n",
    "v2 = V(\"cela\")\n",
    "v3 = V(\"CECI\")\n",
    "v4 = V(\"CELA\")\n",
    "\n",
    "print(v1 + v2)  # output: 00hg\n",
    "print(v3 + v2)  # output: yKrK\n",
    "print(v1 + v4)  # output: yKHu\n",
    "print(v3 + v4)  # output: 00-?\n"
   ]
  },
  {
   "cell_type": "markdown",
   "metadata": {},
   "source": [
    "### b) Chiffrement à clé secrète"
   ]
  },
  {
   "cell_type": "markdown",
   "metadata": {},
   "source": [
    "On peut utiliser l'addition de chaînes de caractères ainsi définie pour garantir la confidentialité d'une chaîne de caractères donnée. Par exemple : soit le message clair `m` ci-dessous. "
   ]
  },
  {
   "cell_type": "code",
   "execution_count": 39,
   "metadata": {},
   "outputs": [],
   "source": [
    "m = V(\"Texte clair\")"
   ]
  },
  {
   "cell_type": "markdown",
   "metadata": {},
   "source": [
    "On peut le rendre inintelligible par un tiers en le masquant à l'aide d'une clé secrète `k` générée aléatoirement: "
   ]
  },
  {
   "cell_type": "code",
   "execution_count": 40,
   "metadata": {},
   "outputs": [],
   "source": [
    "k = V(\"kqaS%LAKVw'\")"
   ]
  },
  {
   "cell_type": "markdown",
   "metadata": {},
   "source": [
    "On obtient alors la chaîne incompréhensible suivante calculant la *somme* `c` de `m` et `k`: "
   ]
  },
  {
   "cell_type": "code",
   "execution_count": 41,
   "metadata": {},
   "outputs": [],
   "source": [
    "c = V(\"Hsz##pwPXqN\")"
   ]
  },
  {
   "cell_type": "markdown",
   "metadata": {},
   "source": [
    "<div class='alert-danger'> <strong> Alerte à la question! </strong> </div>\n",
    "\n",
    "En utilisant les propriétés de $\\mathbb{F}_{64}$: \n",
    "- indiquer comment déchiffrer le code si la clé est connu \n",
    "- déchiffrer le message `V(\"Kcgw&YCVFSl\")` codé avec la même clé "
   ]
  },
  {
   "cell_type": "markdown",
   "metadata": {},
   "source": [
    "Dans l'anneau $\\mathbb{F}_{64}$, chaque élément est son propre opposé parce que l'opération d'addition est définie comme une addition bit à bit (XOR) sur les identifiants des éléments. "
   ]
  },
  {
   "cell_type": "markdown",
   "metadata": {},
   "source": [
    "Le déchiffrement consiste donc simplement à calculer la somme entre la chaîne chiffrée et la clé secrète. En effet,puisque l'addition dans $\\mathbb{F}_{64}$ est commutative et associative, on a :\n",
    "\n",
    "$c + k =(m + k) + k = m + (k + k) = m + 0 = m$\n",
    "\n",
    "Pour déchiffrer le message V(\"Kcgw&YCVFSl\"), nous devons utiliser la même clé secrète k que celle utilisée pour chiffrer le message m. Nous calculons donc la somme entre V(\"Kcgw&YCVFSl\") et k pour retrouver le message clair m :"
   ]
  },
  {
   "cell_type": "code",
   "execution_count": 42,
   "metadata": {},
   "outputs": [
    {
     "name": "stdout",
     "output_type": "stream",
     "text": [
      "Oui bravo !\n"
     ]
    }
   ],
   "source": [
    "# clé secrète\n",
    "k = V(\"kqaS%LAKVw'\")\n",
    "\n",
    "# message chiffré\n",
    "c = V(\"Kcgw&YCVFSl\")\n",
    "\n",
    "# déchiffrement\n",
    "m = c + k\n",
    "\n",
    "print(m) "
   ]
  },
  {
   "cell_type": "markdown",
   "metadata": {},
   "source": [
    "### c) Détection d'erreurs"
   ]
  },
  {
   "cell_type": "markdown",
   "metadata": {},
   "source": [
    "On peut utiliser la structure algébrique mise sur les caractères pour *détecter* automatiquement des erreurs de cohérence dans une chaîne de caractères (erreur de transmission, media de stockage corrompu, ...). L'idée est toute simple: on ajoute une **somme de contrôle**.  \n",
    "\n",
    "La version la plus simple consiste à fournir pour chaque chaîne de caractères la somme de tous ceux-ci."
   ]
  },
  {
   "cell_type": "markdown",
   "metadata": {},
   "source": [
    "<div class='alert-danger'> <strong> Alerte à la question! </strong> </div>\n",
    "\n",
    "Implémenter une fonction pour calculer la somme de contrôle d'un élément de $\\mathbb{F}_{64}^n$. Déterminer la somme de contrôle de la phrase `It's burger time!` "
   ]
  },
  {
   "cell_type": "markdown",
   "metadata": {},
   "source": [
    "Pour calculer la somme de contrôle d'un élément $v$ de $\\mathbb{F}_{64}^n$, il suffit de faire la somme de tous les éléments de $v$ : $$checksum(v)=\\sum_{i=1}^{n}v_i$$, ainsi dans la classe V ci-dessus, on ajoute la fonction suivante : \n",
    "\n",
    "```\n",
    "# computes the checksum of the V object\n",
    "def checksum(self):\n",
    "    s = F(0)\n",
    "    for c in self.coeffs:\n",
    "        s += c\n",
    "    return s\n",
    "    \n",
    "```"
   ]
  },
  {
   "cell_type": "code",
   "execution_count": 43,
   "metadata": {},
   "outputs": [
    {
     "name": "stdout",
     "output_type": "stream",
     "text": [
      "I\n"
     ]
    }
   ],
   "source": [
    "v = V(\"It's burger time!\")\n",
    "print(v.checksum())\n"
   ]
  },
  {
   "cell_type": "markdown",
   "metadata": {},
   "source": [
    "<div class='alert-danger'> <strong> Alerte à la question! </strong> </div>\n",
    "\n",
    "On peut détecter des erreurs si la somme de contrôle calculée ne correspond pas à la somme de contrôle attendue. Comprenez-le avec l'exemple ci-dessous. "
   ]
  },
  {
   "cell_type": "code",
   "execution_count": 44,
   "metadata": {},
   "outputs": [
    {
     "name": "stdout",
     "output_type": "stream",
     "text": [
      "C\n",
      "Error detected\n"
     ]
    }
   ],
   "source": [
    "v = V(\"Ici y a-t-il une erreur ? C#mment le savez-vous ?\")\n",
    "s = F(\"Z\") # expected checksum \n",
    "\n",
    "# compute the checksum of v and print it \n",
    "print(v.checksum())\n",
    "\n",
    "# check if the computed checksum is equal to the expected one \n",
    "if v.checksum() == s:\n",
    "    print(\"No error detected\")\n",
    "else:\n",
    "    print(\"Error detected\")\n"
   ]
  },
  {
   "cell_type": "markdown",
   "metadata": {},
   "source": [
    "Dans ce cas, on peut remarquer que la somme de contrôle attendue s est égale à l'élément F(\"Z\"), mais que la somme de contrôle calculée ne correspond pas à cette valeur attendue. Par conséquent, on peut en déduire qu'il y a une erreur dans la chaîne de caractères v."
   ]
  },
  {
   "cell_type": "markdown",
   "metadata": {},
   "source": [
    "<div class='alert-danger'> <strong> Alerte à la culture! </strong> </div>\n",
    "\n",
    "Notez que si, en plus de détecter la présence d'une erreur dans la chaîne, on sait à quel caractère elle s'est produite, on peut même la corriger automatiquement en lui ajoutant le scalaire approprié ; c'est l'idée de base des codes correcteurs d'erreurs (comme le [code de Reed-Solomon](https://en.wikipedia.org/wiki/Reed%E2%80%93Solomon_error_correction)) qui sont extensivement utilisés dans tous les systèmes de communication modernes."
   ]
  }
 ],
 "metadata": {
  "kernelspec": {
   "display_name": "SageMath 9.1",
   "language": "sage",
   "name": "sagemath"
  },
  "language_info": {
   "codemirror_mode": {
    "name": "ipython",
    "version": 3
   },
   "file_extension": ".py",
   "mimetype": "text/x-python",
   "name": "python",
   "nbconvert_exporter": "python",
   "pygments_lexer": "ipython3",
   "version": "3.7.3"
  }
 },
 "nbformat": 4,
 "nbformat_minor": 4
}
